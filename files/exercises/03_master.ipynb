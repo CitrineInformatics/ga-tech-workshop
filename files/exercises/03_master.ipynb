{
 "cells": [
  {
   "cell_type": "markdown",
   "metadata": {},
   "source": [
    "![Banner logo](https://raw.githubusercontent.com/CitrineInformatics/community-tools/master/templates/fig/citrine_banner_2.png \"Banner logo\")"
   ]
  },
  {
   "cell_type": "markdown",
   "metadata": {},
   "source": [
    "## Visualization in Python\n",
    "\n",
    "*Authors: Zach del Rosario (zdelrosario@citrine.io)*\n",
    "\n",
    "The purpose of this exercise is to introduce both `matplotlib` functionality and some basics of visualizing data. As a result of completing this notebook, you should be able to:\n",
    "* Re-create a number of different plots using `matplotlib`\n",
    "* Draw conclusions about data using histograms, boxplots, and scatterplots\n",
    "\n",
    "Tips:\n",
    "* *Google is your friend*: If you don't know how to do something and can't find it in the examples, *first* try searching for something related on the web. If you can't find it after 5 minutes of searching on your own, then try asking a question. Learning how to search for your own answers is a valuable skill, and you are *expected* to have to look stuff up in this exercise.\n",
    "* Not all the code here will make sense if you're new to python. That's ok! I've tried to scaffold the exercises to focus on `matplotlib` syntax, rather than more general python syntax."
   ]
  },
  {
   "cell_type": "code",
   "execution_count": 4,
   "metadata": {},
   "outputs": [],
   "source": [
    "# Setup\n",
    "import numpy as np\n",
    "import pandas as pd\n",
    "from sklearn.manifold import TSNE\n",
    "# For jupyter-matplotlib compatibility\n",
    "%matplotlib inline\n",
    "import matplotlib\n",
    "import matplotlib.pyplot as plt\n",
    "\n",
    "# External filename handling\n",
    "dir_incl = \"incl/\"\n",
    "assignment_prefix = \"03_\" # This assignment's number-prefix\n",
    "filename_alloy_data = \"../../data/wiki_comp.csv\"\n",
    "\n",
    "# Load data\n",
    "df_data = pd.read_csv(filename_alloy_data)\n",
    "# Extract the series number\n",
    "df_data = df_data.assign(\n",
    "    series = list(map(lambda s: s.replace(\"V-\", \"\")[0], df_data.alloy))\n",
    ")"
   ]
  },
  {
   "cell_type": "markdown",
   "metadata": {},
   "source": [
    "When studying a new dataset, it's always a good idea to do some simple 'first checks'"
   ]
  },
  {
   "cell_type": "code",
   "execution_count": 5,
   "metadata": {},
   "outputs": [
    {
     "data": {
      "text/plain": [
       "(137, 28)"
      ]
     },
     "execution_count": 5,
     "metadata": {},
     "output_type": "execute_result"
    }
   ],
   "source": [
    "# Check the data's shape\n",
    "df_data.shape"
   ]
  },
  {
   "cell_type": "markdown",
   "metadata": {},
   "source": [
    "We have 137 observations on 28 variables. Because there are so many variables, these data will be difficult to visualize!"
   ]
  },
  {
   "cell_type": "code",
   "execution_count": 6,
   "metadata": {},
   "outputs": [
    {
     "data": {
      "text/html": [
       "<div>\n",
       "<style scoped>\n",
       "    .dataframe tbody tr th:only-of-type {\n",
       "        vertical-align: middle;\n",
       "    }\n",
       "\n",
       "    .dataframe tbody tr th {\n",
       "        vertical-align: top;\n",
       "    }\n",
       "\n",
       "    .dataframe thead th {\n",
       "        text-align: right;\n",
       "    }\n",
       "</style>\n",
       "<table border=\"1\" class=\"dataframe\">\n",
       "  <thead>\n",
       "    <tr style=\"text-align: right;\">\n",
       "      <th></th>\n",
       "      <th>alloy</th>\n",
       "      <th>al_percent</th>\n",
       "      <th>Ag</th>\n",
       "      <th>B</th>\n",
       "      <th>Be</th>\n",
       "      <th>Bi</th>\n",
       "      <th>Ca</th>\n",
       "      <th>Cd</th>\n",
       "      <th>Ce</th>\n",
       "      <th>Cr</th>\n",
       "      <th>...</th>\n",
       "      <th>O</th>\n",
       "      <th>Pb</th>\n",
       "      <th>Sc</th>\n",
       "      <th>Si</th>\n",
       "      <th>Ti</th>\n",
       "      <th>V</th>\n",
       "      <th>Y</th>\n",
       "      <th>Zn</th>\n",
       "      <th>Zr</th>\n",
       "      <th>series</th>\n",
       "    </tr>\n",
       "  </thead>\n",
       "  <tbody>\n",
       "    <tr>\n",
       "      <th>0</th>\n",
       "      <td>1100</td>\n",
       "      <td>99.0000</td>\n",
       "      <td>0.0</td>\n",
       "      <td>0.0</td>\n",
       "      <td>0.0</td>\n",
       "      <td>0.0</td>\n",
       "      <td>0.0</td>\n",
       "      <td>0.00</td>\n",
       "      <td>0.0</td>\n",
       "      <td>0.0</td>\n",
       "      <td>...</td>\n",
       "      <td>0.0</td>\n",
       "      <td>0.0</td>\n",
       "      <td>0.00</td>\n",
       "      <td>0.00</td>\n",
       "      <td>0.00</td>\n",
       "      <td>0.0</td>\n",
       "      <td>0.0</td>\n",
       "      <td>0.0</td>\n",
       "      <td>0.0</td>\n",
       "      <td>1</td>\n",
       "    </tr>\n",
       "    <tr>\n",
       "      <th>1</th>\n",
       "      <td>1230</td>\n",
       "      <td>90.8500</td>\n",
       "      <td>0.0</td>\n",
       "      <td>0.0</td>\n",
       "      <td>0.0</td>\n",
       "      <td>0.0</td>\n",
       "      <td>0.0</td>\n",
       "      <td>0.25</td>\n",
       "      <td>0.0</td>\n",
       "      <td>0.0</td>\n",
       "      <td>...</td>\n",
       "      <td>0.0</td>\n",
       "      <td>0.0</td>\n",
       "      <td>0.00</td>\n",
       "      <td>0.30</td>\n",
       "      <td>0.15</td>\n",
       "      <td>0.0</td>\n",
       "      <td>0.0</td>\n",
       "      <td>0.1</td>\n",
       "      <td>0.0</td>\n",
       "      <td>1</td>\n",
       "    </tr>\n",
       "    <tr>\n",
       "      <th>2</th>\n",
       "      <td>1420</td>\n",
       "      <td>92.9000</td>\n",
       "      <td>0.0</td>\n",
       "      <td>0.0</td>\n",
       "      <td>0.0</td>\n",
       "      <td>0.0</td>\n",
       "      <td>0.0</td>\n",
       "      <td>0.00</td>\n",
       "      <td>0.0</td>\n",
       "      <td>0.0</td>\n",
       "      <td>...</td>\n",
       "      <td>0.0</td>\n",
       "      <td>0.0</td>\n",
       "      <td>0.00</td>\n",
       "      <td>0.00</td>\n",
       "      <td>0.00</td>\n",
       "      <td>0.0</td>\n",
       "      <td>0.0</td>\n",
       "      <td>0.0</td>\n",
       "      <td>0.1</td>\n",
       "      <td>1</td>\n",
       "    </tr>\n",
       "    <tr>\n",
       "      <th>3</th>\n",
       "      <td>1421</td>\n",
       "      <td>92.9000</td>\n",
       "      <td>0.0</td>\n",
       "      <td>0.0</td>\n",
       "      <td>0.0</td>\n",
       "      <td>0.0</td>\n",
       "      <td>0.0</td>\n",
       "      <td>0.00</td>\n",
       "      <td>0.0</td>\n",
       "      <td>0.0</td>\n",
       "      <td>...</td>\n",
       "      <td>0.0</td>\n",
       "      <td>0.0</td>\n",
       "      <td>0.20</td>\n",
       "      <td>0.00</td>\n",
       "      <td>0.00</td>\n",
       "      <td>0.0</td>\n",
       "      <td>0.0</td>\n",
       "      <td>0.0</td>\n",
       "      <td>0.1</td>\n",
       "      <td>1</td>\n",
       "    </tr>\n",
       "    <tr>\n",
       "      <th>4</th>\n",
       "      <td>1424</td>\n",
       "      <td>91.4885</td>\n",
       "      <td>0.0</td>\n",
       "      <td>0.0</td>\n",
       "      <td>0.2</td>\n",
       "      <td>0.0</td>\n",
       "      <td>0.0</td>\n",
       "      <td>0.00</td>\n",
       "      <td>0.0</td>\n",
       "      <td>0.0</td>\n",
       "      <td>...</td>\n",
       "      <td>0.0</td>\n",
       "      <td>0.0</td>\n",
       "      <td>0.08</td>\n",
       "      <td>0.08</td>\n",
       "      <td>0.00</td>\n",
       "      <td>0.0</td>\n",
       "      <td>0.0</td>\n",
       "      <td>0.7</td>\n",
       "      <td>0.1</td>\n",
       "      <td>1</td>\n",
       "    </tr>\n",
       "  </tbody>\n",
       "</table>\n",
       "<p>5 rows × 28 columns</p>\n",
       "</div>"
      ],
      "text/plain": [
       "  alloy  al_percent   Ag    B   Be   Bi   Ca    Cd   Ce   Cr  ...    O   Pb  \\\n",
       "0  1100     99.0000  0.0  0.0  0.0  0.0  0.0  0.00  0.0  0.0  ...  0.0  0.0   \n",
       "1  1230     90.8500  0.0  0.0  0.0  0.0  0.0  0.25  0.0  0.0  ...  0.0  0.0   \n",
       "2  1420     92.9000  0.0  0.0  0.0  0.0  0.0  0.00  0.0  0.0  ...  0.0  0.0   \n",
       "3  1421     92.9000  0.0  0.0  0.0  0.0  0.0  0.00  0.0  0.0  ...  0.0  0.0   \n",
       "4  1424     91.4885  0.0  0.0  0.2  0.0  0.0  0.00  0.0  0.0  ...  0.0  0.0   \n",
       "\n",
       "     Sc    Si    Ti    V    Y   Zn   Zr  series  \n",
       "0  0.00  0.00  0.00  0.0  0.0  0.0  0.0       1  \n",
       "1  0.00  0.30  0.15  0.0  0.0  0.1  0.0       1  \n",
       "2  0.00  0.00  0.00  0.0  0.0  0.0  0.1       1  \n",
       "3  0.20  0.00  0.00  0.0  0.0  0.0  0.1       1  \n",
       "4  0.08  0.08  0.00  0.0  0.0  0.7  0.1       1  \n",
       "\n",
       "[5 rows x 28 columns]"
      ]
     },
     "execution_count": 6,
     "metadata": {},
     "output_type": "execute_result"
    }
   ],
   "source": [
    "# Glimpse the data\n",
    "df_data.head()"
   ]
  },
  {
   "cell_type": "markdown",
   "metadata": {},
   "source": [
    "This is a dataset about Aluminum alloys, scraped from [Wikipedia](https://en.wikipedia.org/wiki/Aluminium_alloy#Wrought_alloys). The `alloy` column identifies the specific alloy, `al_percent` gives the percent Aluminum content (by weight), `series` gives the alloy series number (defining \"families\" of alloys), and the remaining columns give other alloying elements. From the \"head\" of the data (the first few observations) we can see the alloying elements are *sparse* -- many of the entries are zero."
   ]
  },
  {
   "cell_type": "markdown",
   "metadata": {},
   "source": [
    "### Learning `matplotlib` syntax by doing"
   ]
  },
  {
   "cell_type": "markdown",
   "metadata": {},
   "source": [
    "__Q1: Reproduce This Plot__\n",
    "Use `matplotlib` to reproduce the following histogram. Make sure to learn how to change *all* of the following:\n",
    "* Font sizes\n",
    "* Number of histogram bins\n",
    "* Axis limits\n",
    "* Axis labels"
   ]
  },
  {
   "cell_type": "code",
   "execution_count": 7,
   "metadata": {},
   "outputs": [
    {
     "data": {
      "image/png": "[encoded data removed]",
      "text/plain": [
       "<Figure size 720x720 with 1 Axes>"
      ]
     },
     "metadata": {
      "needs_background": "light"
     },
     "output_type": "display_data"
    }
   ],
   "source": [
    "## Generate histogram\n",
    "# solution-begin\n",
    "# Plot size and default text\n",
    "plt.figure(figsize = (10, 10))\n",
    "font = {\n",
    "    'size'   : 18\n",
    "}\n",
    "matplotlib.rc('font', **font)\n",
    "# Plot data\n",
    "plt.hist(\n",
    "    df_data[\"al_percent\"],\n",
    "    bins = 30\n",
    ")\n",
    "# Annotations and limits\n",
    "plt.xlabel(\"Al percent (by weight)\", size = 24)\n",
    "plt.ylabel(\"Count\", size = 24)\n",
    "plt.xlim((70, 100))\n",
    "# Save for solution\n",
    "plt.savefig(dir_incl + assignment_prefix + \"q1_target.png\")\n",
    "# solution-end"
   ]
  },
  {
   "cell_type": "markdown",
   "metadata": {},
   "source": [
    "<!-- task-begin -->\n",
    "<img src=\"./incl/03_q1_target.png\">\n",
    "<!-- task-end -->"
   ]
  },
  {
   "cell_type": "markdown",
   "metadata": {},
   "source": [
    "__Q2: What does this histogram tell you?__\n",
    "List _at least 3_ observations conclusions about the data you can draw, based on the histogram above.\n",
    "<!-- solution-begin -->\n",
    "* All `Al` percentages are at or above 85%\n",
    "* Many of the alloys tend to be around 93% `Al`, as evidenced by the tallest peak\n",
    "* There is a second mode (peak) of alloys around 97-98% `Al`\n",
    "* There is a fairly long left tail of alloys spread between 85% and 92% `Al`\n",
    "<!-- solution-end -->"
   ]
  },
  {
   "cell_type": "markdown",
   "metadata": {},
   "source": [
    "Next, we'll study how alloy composition varies across the various Al series."
   ]
  },
  {
   "cell_type": "code",
   "execution_count": 8,
   "metadata": {},
   "outputs": [
    {
     "name": "stdout",
     "output_type": "stream",
     "text": [
      "Series, Mean Percent\n",
      "     1,   93.3\n",
      "     2,   93.6\n",
      "     3,   98.6\n",
      "     4,   92.9\n",
      "     5,   96.2\n",
      "     6,   97.9\n",
      "     7,   90.1\n",
      "     8,   94.8\n"
     ]
    }
   ],
   "source": [
    "series = [str(i) for i in range(1, 9)]\n",
    "mean_percentages = [np.mean(df_data[df_data.series == s][\"al_percent\"]) for s in series] # List comprehension\n",
    "print(\"Series, Mean Percent\")\n",
    "for ind in range(len(series)):\n",
    "    print(\"     {0:},   {1:2.1f}\".format(series[ind], mean_percentages[ind]))"
   ]
  },
  {
   "cell_type": "markdown",
   "metadata": {},
   "source": [
    "This shows that Series 3 and 6 have the highest `Al` content, on average. However, we can use *boxplots* to gain a fair bit more insight into the data.\n",
    "\n",
    "__Q3: Reproduce This Plot__\n",
    "Use `matplotlib` to reproduce the following [boxplot](https://towardsdatascience.com/understanding-boxplots-5e2df7bcbd51).\n",
    "\n",
    "Hints:\n",
    "* You may re-use lessons you learned from Q1\n",
    "* plt.boxplot() can take a list of different data sets to produce multiple boxplots on the same figure. You can use a *list comprehension* like in `mean_percentages` above to create such a list, and pass it to plt.boxplot()"
   ]
  },
  {
   "cell_type": "code",
   "execution_count": 9,
   "metadata": {},
   "outputs": [
    {
     "data": {
      "image/png": "[encoded data removed]",
      "text/plain": [
       "<Figure size 720x720 with 1 Axes>"
      ]
     },
     "metadata": {
      "needs_background": "light"
     },
     "output_type": "display_data"
    }
   ],
   "source": [
    "## Generate boxplot\n",
    "# solution-begin\n",
    "# Plot size and default text\n",
    "plt.figure(figsize = (10, 10))\n",
    "font = {\n",
    "    'size'   : 18\n",
    "}\n",
    "matplotlib.rc('font', **font)\n",
    "# Plot data\n",
    "plt.boxplot(\n",
    "    [df_data[df_data.series == s][\"al_percent\"] for s in series]\n",
    ")\n",
    "# Annotate\n",
    "plt.xlabel(\"Alloy Series\")\n",
    "plt.ylabel(\"Al percent\")\n",
    "# Save for inclusion\n",
    "plt.savefig(dir_incl + assignment_prefix + \"q3_target.png\")\n",
    "# solution-end"
   ]
  },
  {
   "cell_type": "markdown",
   "metadata": {},
   "source": [
    "<!-- task-begin -->\n",
    "<img src=\"./incl/03_q3_target.png\">\n",
    "<!-- task-end -->"
   ]
  },
  {
   "cell_type": "markdown",
   "metadata": {},
   "source": [
    "__Q4: What does this plot tell you?__\n",
    "List _at least 3_ observations conclusions about the data you can draw, based on the boxplots above.\n",
    "<!-- solution-begin -->\n",
    "* Series 3 and 6 are indeed the most pure in `Al`, though some instances of Series 5 have higher `Al` content\n",
    "* Series 4 and 8 are highly variable in `Al` content\n",
    "* Series 2 has a (relatively) large number of outliers (shown as dots)\n",
    "<!-- solution-end -->"
   ]
  },
  {
   "cell_type": "markdown",
   "metadata": {},
   "source": [
    "Studying *all* the variables at once is difficult, as we cannot directly visualize 26-dimensional space! Instead, we will use [t-SNE](https://lvdmaaten.github.io/tsne/) to *reduce dimensionality* while preserving low-dimensional structure, in this case clusters of data."
   ]
  },
  {
   "cell_type": "code",
   "execution_count": 1,
   "metadata": {},
   "outputs": [
    {
     "ename": "NameError",
     "evalue": "name 'df_data' is not defined",
     "output_type": "error",
     "traceback": [
      "\u001b[0;31m---------------------------------------------------------------------------\u001b[0m",
      "\u001b[0;31mNameError\u001b[0m                                 Traceback (most recent call last)",
      "\u001b[0;32m<ipython-input-1-5ed42ea17252>\u001b[0m in \u001b[0;36m<module>\u001b[0;34m\u001b[0m\n\u001b[0;32m----> 1\u001b[0;31m \u001b[0mX_series\u001b[0m \u001b[0;34m=\u001b[0m \u001b[0mdf_data\u001b[0m\u001b[0;34m[\u001b[0m\u001b[0;34m\"series\"\u001b[0m\u001b[0;34m]\u001b[0m\u001b[0;34m\u001b[0m\u001b[0;34m\u001b[0m\u001b[0m\n\u001b[0m\u001b[1;32m      2\u001b[0m \u001b[0;31m## Reduce dimensionality\u001b[0m\u001b[0;34m\u001b[0m\u001b[0;34m\u001b[0m\u001b[0;34m\u001b[0m\u001b[0m\n\u001b[1;32m      3\u001b[0m \u001b[0mX_orig\u001b[0m \u001b[0;34m=\u001b[0m \u001b[0mdf_data\u001b[0m\u001b[0;34m.\u001b[0m\u001b[0mdrop\u001b[0m\u001b[0;34m(\u001b[0m\u001b[0;34m[\u001b[0m\u001b[0;34m\"alloy\"\u001b[0m\u001b[0;34m,\u001b[0m \u001b[0;34m\"al_percent\"\u001b[0m\u001b[0;34m,\u001b[0m \u001b[0;34m\"series\"\u001b[0m\u001b[0;34m]\u001b[0m\u001b[0;34m,\u001b[0m \u001b[0maxis\u001b[0m \u001b[0;34m=\u001b[0m \u001b[0;36m1\u001b[0m\u001b[0;34m)\u001b[0m\u001b[0;34m.\u001b[0m\u001b[0mvalues\u001b[0m\u001b[0;34m\u001b[0m\u001b[0;34m\u001b[0m\u001b[0m\n\u001b[1;32m      4\u001b[0m \u001b[0;31m# np.random.seed(101) # t-SNE is a random algorithm; set seed for reproducibility\u001b[0m\u001b[0;34m\u001b[0m\u001b[0;34m\u001b[0m\u001b[0;34m\u001b[0m\u001b[0m\n\u001b[1;32m      5\u001b[0m X_tsne = TSNE(\n",
      "\u001b[0;31mNameError\u001b[0m: name 'df_data' is not defined"
     ]
    }
   ],
   "source": [
    "X_series = df_data[\"series\"]\n",
    "## Reduce dimensionality\n",
    "X_orig = df_data.drop([\"alloy\", \"al_percent\", \"series\"], axis = 1).values\n",
    "# np.random.seed(101) # t-SNE is a random algorithm; set seed for reproducibility\n",
    "X_tsne = TSNE(\n",
    "    n_components = 2\n",
    ").fit_transform(X_orig)\n",
    "\n",
    "print(X_orig.shape)\n",
    "print(X_tsne.shape)"
   ]
  },
  {
   "cell_type": "markdown",
   "metadata": {},
   "source": [
    "We can see the modified data `X_tsne` has just two variables, but the same number of observations as `X_orig`. We can use these two coordinates to plot the data and look for patterns."
   ]
  },
  {
   "cell_type": "markdown",
   "metadata": {},
   "source": [
    "__Q5: Reproduce This Plot__\n",
    "Use `matplotlib` to reproduce the following scatterplot on the two t-SNE coordinates in `X_tsne`.\n",
    "\n",
    "Hints:\n",
    "* You may re-use lessons you learned from Q1 and Q2\n",
    "* You will need to introduce a colormap to mark the alloys from different series. [This tutorial](https://gist.github.com/jakevdp/8a992f606899ac24b711) may be helpful\n",
    "* I use the colormap `viridis` below; it is a [perceptually uniform](http://bids.github.io/colormap/) colorscale that avoids introducing erroneous patterns in visualizations"
   ]
  },
  {
   "cell_type": "markdown",
   "metadata": {},
   "source": [
    "<!-- task-begin -->\n",
    "<img src=\"./incl/03_q5_target.png\">\n",
    "<!-- task-end -->"
   ]
  },
  {
   "cell_type": "markdown",
   "metadata": {},
   "source": [
    "__Q6: What does this plot tell you?__\n",
    "List _at least 3_ observations conclusions about the data you can draw, based on the t-SNE scatterplot above.\n",
    "<!-- solution-begin -->\n",
    "* The compositional clusters do not perfectly align with the alloy Series\n",
    "* There is a cluster of 7000 Series alloys that are more similar to each other, than to other alloys\n",
    "* All 6000 Series alloys cluster together, though they also cluster with other alloys from different series\n",
    "<!-- solution-end -->"
   ]
  },
  {
   "cell_type": "code",
   "execution_count": 11,
   "metadata": {},
   "outputs": [
    {
     "data": {
      "image/png": "[encoded data removed]",
      "text/plain": [
       "<Figure size 720x720 with 2 Axes>"
      ]
     },
     "metadata": {
      "needs_background": "light"
     },
     "output_type": "display_data"
    }
   ],
   "source": [
    "## Generate scatterplot\n",
    "# solution-begin\n",
    "# Format for color names\n",
    "# Plot size and default text\n",
    "plt.figure(figsize = (10, 10))\n",
    "font = {\n",
    "    'size'   : 18\n",
    "}\n",
    "matplotlib.rc('font', **font)\n",
    "# Plot data\n",
    "plt.scatter(\n",
    "    X_tsne[:, 0],\n",
    "    X_tsne[:, 1],\n",
    "    c = X_series,\n",
    "    cmap = plt.cm.get_cmap('viridis', 7)\n",
    ")\n",
    "# Annotate\n",
    "plt.xlabel(\"t-SNE Coord 1\")\n",
    "plt.ylabel(\"t-SNE Coord 2\")\n",
    "plt.colorbar(ticks = range(len(series)))\n",
    "plt.clim(0.5, 7.5) # Center\n",
    "# Save for inclusion\n",
    "plt.savefig(dir_incl + assignment_prefix + \"q5_target.png\")\n",
    "# solution-end"
   ]
  }
 ],
 "metadata": {
  "kernelspec": {
   "display_name": "Python 3",
   "language": "python",
   "name": "python3"
  },
  "language_info": {
   "codemirror_mode": {
    "name": "ipython",
    "version": 3
   },
   "file_extension": ".py",
   "mimetype": "text/x-python",
   "name": "python",
   "nbconvert_exporter": "python",
   "pygments_lexer": "ipython3",
   "version": "3.7.3"
  }
 },
 "nbformat": 4,
 "nbformat_minor": 2
}
