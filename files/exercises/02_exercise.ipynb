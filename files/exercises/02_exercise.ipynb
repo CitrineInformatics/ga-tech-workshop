{
 "cells": [
  {
   "cell_type": "markdown",
   "metadata": {},
   "source": [
    "## Programmatic Data Manipulations"
   ]
  },
  {
   "cell_type": "markdown",
   "metadata": {},
   "source": [
    "The purpose of this exercise is to give you some tools to manipulate data *programmatically*; that is, using a programming language. While you can carry out many data operations by hand or with spreadsheet programs, you will see that doing things programmatically is extremely powerful. \n",
    "\n",
    "The specific tasks you'll learn to do in this exercise are:\n",
    "\n",
    "- Initialize the Citrination application programming interface (API) and obtain data\n",
    "- Inspect Python objects with `dir()`\n",
    "- Learn some basics of *data wrangling*\n",
    "- Use DataFrame operations in the Python package `pandas`\n",
    "- Learn the basics of *featurization* to support training machine learning models\n",
    "\n",
    "(Note: This is a *scavenger hunt*! You will have to follow the links below to finish these examples.)"
   ]
  },
  {
   "cell_type": "markdown",
   "metadata": {},
   "source": [
    "__Q1: Setting up the Citrination client__\n",
    "Using the [learn-citrination](https://github.com/CitrineInformatics/learn-citrination/blob/master/citrination_api_examples/clients_sequence/1_data_client_api_tutorial.ipynb) workbook as an example, set up the citrination client below."
   ]
  },
  {
   "cell_type": "code",
   "execution_count": 1,
   "metadata": {
    "collapsed": false
   },
   "outputs": [],
   "source": [
    "## Import some relevant packages\n",
    "import os\n",
    "# Scientific computation\n",
    "import numpy as np\n",
    "import pandas as pd\n",
    "\n",
    "# Workshop-specific tools\n",
    "from workshop_utils import pifs2df, ddir\n",
    "\n",
    "# Third-party packages\n",
    "from citrination_client import CitrinationClient\n",
    "from citrination_client import PifSystemReturningQuery, PifSystemQuery\n",
    "from citrination_client import DataQuery, DatasetQuery, DatasetReturningQuery, ChemicalFieldQuery\n",
    "from citrination_client import PropertyQuery, FieldQuery\n",
    "from citrination_client import ChemicalFilter, Filter\n",
    "\n",
    "## TASK: Initialize the client below...\n",
    "## You will need to provide `client` as a python object\n"
   ]
  },
  {
   "cell_type": "markdown",
   "metadata": {},
   "source": [
    "__Q2: Obtaining a known dataset__ Search [citrination datasets](https://citrination.com/datasets) for the \"Agrawal IMMI\" dataset, find its `ID`, and load the data into memory. "
   ]
  },
  {
   "cell_type": "code",
   "execution_count": 2,
   "metadata": {
    "collapsed": false
   },
   "outputs": [
    {
     "name": "stdout",
     "output_type": "stream",
     "text": [
      "Found 437 PIFs in dataset 150670.\n",
      "(Should be 437 PIFs)\n"
     ]
    }
   ],
   "source": [
    "dataset_id = 1      # TASK: Identify the proper dataset id, use this below\n",
    "\n",
    "search_client = client.search\n",
    "query_agrawal = \\\n",
    "    PifSystemReturningQuery(\n",
    "        size=500, \n",
    "        query=DataQuery(\n",
    "            dataset=DatasetQuery(\n",
    "                id=Filter(equal=str(dataset_id))\n",
    "            )\n",
    "        )\n",
    "    )\n",
    "\n",
    "## Perform checks\n",
    "query_result = search_client.pif_search(query_agrawal)\n",
    "print(\"Found {} PIFs in dataset {}.\".format(query_result.total_num_hits, dataset_id))\n",
    "print(\"(Should be 437 PIFs)\")"
   ]
  },
  {
   "cell_type": "markdown",
   "metadata": {},
   "source": [
    "Citrination stores data in [physical information files](http://citrineinformatics.github.io/pif-documentation/) (PIFs). \n",
    " \n",
    "__Q3: Reading a Query Result__ (Turn the PIFs above into rectangular data)"
   ]
  },
  {
   "cell_type": "code",
   "execution_count": 3,
   "metadata": {
    "collapsed": false
   },
   "outputs": [
    {
     "data": {
      "text/plain": [
       "['__class__',\n",
       " '__delattr__',\n",
       " '__dict__',\n",
       " '__dir__',\n",
       " '__doc__',\n",
       " '__eq__',\n",
       " '__format__',\n",
       " '__ge__',\n",
       " '__getattribute__',\n",
       " '__gt__',\n",
       " '__hash__',\n",
       " '__init__',\n",
       " '__init_subclass__',\n",
       " '__le__',\n",
       " '__lt__',\n",
       " '__module__',\n",
       " '__ne__',\n",
       " '__new__',\n",
       " '__reduce__',\n",
       " '__reduce_ex__',\n",
       " '__repr__',\n",
       " '__setattr__',\n",
       " '__sizeof__',\n",
       " '__str__',\n",
       " '__subclasshook__',\n",
       " '__weakref__',\n",
       " '_convert_to_dictionary',\n",
       " '_get_object',\n",
       " '_hits',\n",
       " '_max_score',\n",
       " '_took',\n",
       " '_total_num_hits',\n",
       " 'as_dictionary',\n",
       " 'hits',\n",
       " 'max_score',\n",
       " 'took',\n",
       " 'total_num_hits']"
      ]
     },
     "execution_count": 3,
     "metadata": {},
     "output_type": "execute_result"
    }
   ],
   "source": [
    "# query_result has a few useful attributes\n",
    "dir(query_result)"
   ]
  },
  {
   "cell_type": "code",
   "execution_count": 4,
   "metadata": {
    "collapsed": false
   },
   "outputs": [
    {
     "data": {
      "text/plain": [
       "[<citrination_client.search.pif.result.pif_search_hit.PifSearchHit at 0x115798f60>,\n",
       " <citrination_client.search.pif.result.pif_search_hit.PifSearchHit at 0x115813e80>,\n",
       " <citrination_client.search.pif.result.pif_search_hit.PifSearchHit at 0x115813080>,\n",
       " <citrination_client.search.pif.result.pif_search_hit.PifSearchHit at 0x11729af28>,\n",
       " <citrination_client.search.pif.result.pif_search_hit.PifSearchHit at 0x11729a278>]"
      ]
     },
     "execution_count": 4,
     "metadata": {},
     "output_type": "execute_result"
    }
   ],
   "source": [
    "# The __stuff__ attributes are python built-ins; the other\n",
    "# other attributes are features provided by the object.\n",
    "# total_num_hits was used above to count the number of search hits\n",
    "# hits gives the content of the query hits\n",
    "query_result.hits[:5]"
   ]
  },
  {
   "cell_type": "code",
   "execution_count": 5,
   "metadata": {
    "collapsed": false
   },
   "outputs": [
    {
     "data": {
      "text/plain": [
       "['as_dictionary',\n",
       " 'dataset',\n",
       " 'dataset_version',\n",
       " 'extracted',\n",
       " 'extracted_path',\n",
       " 'id',\n",
       " 'score',\n",
       " 'system',\n",
       " 'updated_at']"
      ]
     },
     "execution_count": 5,
     "metadata": {},
     "output_type": "execute_result"
    }
   ],
   "source": [
    "# The query hits are themselves objects; we'll need to access *their* attributes as well\n",
    "ddir(query_result.hits[0]) # Helper function filters names with \"_\" prefix"
   ]
  },
  {
   "cell_type": "code",
   "execution_count": 6,
   "metadata": {
    "collapsed": false
   },
   "outputs": [
    {
     "data": {
      "text/html": [
       "<div>\n",
       "<style scoped>\n",
       "    .dataframe tbody tr th:only-of-type {\n",
       "        vertical-align: middle;\n",
       "    }\n",
       "\n",
       "    .dataframe tbody tr th {\n",
       "        vertical-align: top;\n",
       "    }\n",
       "\n",
       "    .dataframe thead th {\n",
       "        text-align: right;\n",
       "    }\n",
       "</style>\n",
       "<table border=\"1\" class=\"dataframe\">\n",
       "  <thead>\n",
       "    <tr style=\"text-align: right;\">\n",
       "      <th></th>\n",
       "      <th>Area Proportion of Isolated Inclusions</th>\n",
       "      <th>Normalizing Temperature</th>\n",
       "      <th>Tempering Temperature</th>\n",
       "      <th>Cooling Rate for Through Hardening</th>\n",
       "      <th>Area Proportion of Inclusions Deformed by Plastic Work</th>\n",
       "      <th>Fatigue Strength</th>\n",
       "      <th>Through Hardening Temperature</th>\n",
       "      <th>Cooling Rate for Tempering</th>\n",
       "      <th>Area Proportion of Inclusions Occurring in Discontinuous Array</th>\n",
       "      <th>Diffusion time</th>\n",
       "      <th>Diffusion Temperature</th>\n",
       "      <th>Sample Number</th>\n",
       "      <th>Carburization Temperature</th>\n",
       "      <th>Carburization Time</th>\n",
       "      <th>Reduction Ratio (Ingot to Bar)</th>\n",
       "      <th>Through Hardening Time</th>\n",
       "      <th>Tempering Time</th>\n",
       "      <th>Quenching Media Temperature (for Carburization)</th>\n",
       "    </tr>\n",
       "  </thead>\n",
       "  <tbody>\n",
       "    <tr>\n",
       "      <th>0</th>\n",
       "      <td>0.01</td>\n",
       "      <td>870.0</td>\n",
       "      <td>550.0</td>\n",
       "      <td>8.0</td>\n",
       "      <td>0.02</td>\n",
       "      <td>451.0</td>\n",
       "      <td>845.0</td>\n",
       "      <td>24.0</td>\n",
       "      <td>0.0</td>\n",
       "      <td>0.0</td>\n",
       "      <td>30.0</td>\n",
       "      <td>228.0</td>\n",
       "      <td>30.0</td>\n",
       "      <td>0.0</td>\n",
       "      <td>530.0</td>\n",
       "      <td>30.0</td>\n",
       "      <td>60.0</td>\n",
       "      <td>30.0</td>\n",
       "    </tr>\n",
       "    <tr>\n",
       "      <th>1</th>\n",
       "      <td>0.03</td>\n",
       "      <td>870.0</td>\n",
       "      <td>550.0</td>\n",
       "      <td>8.0</td>\n",
       "      <td>0.04</td>\n",
       "      <td>631.0</td>\n",
       "      <td>855.0</td>\n",
       "      <td>24.0</td>\n",
       "      <td>0.0</td>\n",
       "      <td>0.0</td>\n",
       "      <td>30.0</td>\n",
       "      <td>193.0</td>\n",
       "      <td>30.0</td>\n",
       "      <td>0.0</td>\n",
       "      <td>510.0</td>\n",
       "      <td>30.0</td>\n",
       "      <td>60.0</td>\n",
       "      <td>30.0</td>\n",
       "    </tr>\n",
       "    <tr>\n",
       "      <th>2</th>\n",
       "      <td>0.01</td>\n",
       "      <td>870.0</td>\n",
       "      <td>600.0</td>\n",
       "      <td>8.0</td>\n",
       "      <td>0.03</td>\n",
       "      <td>406.0</td>\n",
       "      <td>845.0</td>\n",
       "      <td>24.0</td>\n",
       "      <td>0.0</td>\n",
       "      <td>0.0</td>\n",
       "      <td>30.0</td>\n",
       "      <td>233.0</td>\n",
       "      <td>30.0</td>\n",
       "      <td>0.0</td>\n",
       "      <td>610.0</td>\n",
       "      <td>30.0</td>\n",
       "      <td>60.0</td>\n",
       "      <td>30.0</td>\n",
       "    </tr>\n",
       "    <tr>\n",
       "      <th>3</th>\n",
       "      <td>0.0</td>\n",
       "      <td>865.0</td>\n",
       "      <td>550.0</td>\n",
       "      <td>24.0</td>\n",
       "      <td>0.1</td>\n",
       "      <td>433.0</td>\n",
       "      <td>865.0</td>\n",
       "      <td>24.0</td>\n",
       "      <td>0.0</td>\n",
       "      <td>0.0</td>\n",
       "      <td>30.0</td>\n",
       "      <td>22.0</td>\n",
       "      <td>30.0</td>\n",
       "      <td>0.0</td>\n",
       "      <td>1740.0</td>\n",
       "      <td>30.0</td>\n",
       "      <td>60.0</td>\n",
       "      <td>30.0</td>\n",
       "    </tr>\n",
       "    <tr>\n",
       "      <th>4</th>\n",
       "      <td>0.01</td>\n",
       "      <td>870.0</td>\n",
       "      <td>650.0</td>\n",
       "      <td>8.0</td>\n",
       "      <td>0.03</td>\n",
       "      <td>385.0</td>\n",
       "      <td>845.0</td>\n",
       "      <td>24.0</td>\n",
       "      <td>0.0</td>\n",
       "      <td>0.0</td>\n",
       "      <td>30.0</td>\n",
       "      <td>240.0</td>\n",
       "      <td>30.0</td>\n",
       "      <td>0.0</td>\n",
       "      <td>610.0</td>\n",
       "      <td>30.0</td>\n",
       "      <td>60.0</td>\n",
       "      <td>30.0</td>\n",
       "    </tr>\n",
       "  </tbody>\n",
       "</table>\n",
       "</div>"
      ],
      "text/plain": [
       "  Area Proportion of Isolated Inclusions Normalizing Temperature  \\\n",
       "0                                   0.01                   870.0   \n",
       "1                                   0.03                   870.0   \n",
       "2                                   0.01                   870.0   \n",
       "3                                    0.0                   865.0   \n",
       "4                                   0.01                   870.0   \n",
       "\n",
       "  Tempering Temperature Cooling Rate for Through Hardening  \\\n",
       "0                 550.0                                8.0   \n",
       "1                 550.0                                8.0   \n",
       "2                 600.0                                8.0   \n",
       "3                 550.0                               24.0   \n",
       "4                 650.0                                8.0   \n",
       "\n",
       "  Area Proportion of Inclusions Deformed by Plastic Work Fatigue Strength  \\\n",
       "0                                               0.02                451.0   \n",
       "1                                               0.04                631.0   \n",
       "2                                               0.03                406.0   \n",
       "3                                                0.1                433.0   \n",
       "4                                               0.03                385.0   \n",
       "\n",
       "  Through Hardening Temperature Cooling Rate for Tempering  \\\n",
       "0                         845.0                       24.0   \n",
       "1                         855.0                       24.0   \n",
       "2                         845.0                       24.0   \n",
       "3                         865.0                       24.0   \n",
       "4                         845.0                       24.0   \n",
       "\n",
       "  Area Proportion of Inclusions Occurring in Discontinuous Array  \\\n",
       "0                                                0.0               \n",
       "1                                                0.0               \n",
       "2                                                0.0               \n",
       "3                                                0.0               \n",
       "4                                                0.0               \n",
       "\n",
       "  Diffusion time Diffusion Temperature Sample Number  \\\n",
       "0            0.0                  30.0         228.0   \n",
       "1            0.0                  30.0         193.0   \n",
       "2            0.0                  30.0         233.0   \n",
       "3            0.0                  30.0          22.0   \n",
       "4            0.0                  30.0         240.0   \n",
       "\n",
       "  Carburization Temperature Carburization Time Reduction Ratio (Ingot to Bar)  \\\n",
       "0                      30.0                0.0                          530.0   \n",
       "1                      30.0                0.0                          510.0   \n",
       "2                      30.0                0.0                          610.0   \n",
       "3                      30.0                0.0                         1740.0   \n",
       "4                      30.0                0.0                          610.0   \n",
       "\n",
       "  Through Hardening Time Tempering Time  \\\n",
       "0                   30.0           60.0   \n",
       "1                   30.0           60.0   \n",
       "2                   30.0           60.0   \n",
       "3                   30.0           60.0   \n",
       "4                   30.0           60.0   \n",
       "\n",
       "  Quenching Media Temperature (for Carburization)  \n",
       "0                                            30.0  \n",
       "1                                            30.0  \n",
       "2                                            30.0  \n",
       "3                                            30.0  \n",
       "4                                            30.0  "
      ]
     },
     "execution_count": 6,
     "metadata": {},
     "output_type": "execute_result"
    }
   ],
   "source": [
    "# It's not at all obvious from the name, but the `system` attribute returns the actual PIF\n",
    "query_result.hits[0].system\n",
    "\n",
    "## TASK: Build a list of list of all the PIF's in query_result, and store it in `pifs`\n",
    "pifs = []\n",
    "\n",
    "# Utility function will tabularize PIFs into a plot-able form\n",
    "df_data = pifs2df(pifs)\n",
    "df_data.head(5)"
   ]
  },
  {
   "cell_type": "markdown",
   "metadata": {},
   "source": [
    "## DataFrames"
   ]
  },
  {
   "cell_type": "markdown",
   "metadata": {},
   "source": [
    "(Brief description of pandas dataframes)"
   ]
  },
  {
   "cell_type": "markdown",
   "metadata": {},
   "source": [
    "**Q4: Inspecting a DataFrame** Consult the [pandas documentation](https://pandas.pydata.org/pandas-docs/stable/getting_started/10min.html) and use some basic calls on `df_data` to answer the following questions:\n",
    "\n",
    "- What are the *last* five observations in the DataFrame?\n",
    "- How many rows are in `df_data`? How many columns?\n",
    "- How can you select the column \"Normalizing Temperature\"?\n",
    "- How can you select the columns \"Normalizing Temperature\" and \"Fatigue Strength\"?"
   ]
  },
  {
   "cell_type": "code",
   "execution_count": 13,
   "metadata": {
    "collapsed": false
   },
   "outputs": [
    {
     "data": {
      "text/html": [
       "<div>\n",
       "<style scoped>\n",
       "    .dataframe tbody tr th:only-of-type {\n",
       "        vertical-align: middle;\n",
       "    }\n",
       "\n",
       "    .dataframe tbody tr th {\n",
       "        vertical-align: top;\n",
       "    }\n",
       "\n",
       "    .dataframe thead th {\n",
       "        text-align: right;\n",
       "    }\n",
       "</style>\n",
       "<table border=\"1\" class=\"dataframe\">\n",
       "  <thead>\n",
       "    <tr style=\"text-align: right;\">\n",
       "      <th></th>\n",
       "      <th>Area Proportion of Isolated Inclusions</th>\n",
       "      <th>Normalizing Temperature</th>\n",
       "      <th>Tempering Temperature</th>\n",
       "      <th>Cooling Rate for Through Hardening</th>\n",
       "      <th>Area Proportion of Inclusions Deformed by Plastic Work</th>\n",
       "      <th>Fatigue Strength</th>\n",
       "      <th>Through Hardening Temperature</th>\n",
       "      <th>Cooling Rate for Tempering</th>\n",
       "      <th>Area Proportion of Inclusions Occurring in Discontinuous Array</th>\n",
       "      <th>Diffusion time</th>\n",
       "      <th>Diffusion Temperature</th>\n",
       "      <th>Sample Number</th>\n",
       "      <th>Carburization Temperature</th>\n",
       "      <th>Carburization Time</th>\n",
       "      <th>Reduction Ratio (Ingot to Bar)</th>\n",
       "      <th>Through Hardening Time</th>\n",
       "      <th>Tempering Time</th>\n",
       "      <th>Quenching Media Temperature (for Carburization)</th>\n",
       "    </tr>\n",
       "  </thead>\n",
       "  <tbody>\n",
       "    <tr>\n",
       "      <th>432</th>\n",
       "      <td>0.00</td>\n",
       "      <td>870.0</td>\n",
       "      <td>650.0</td>\n",
       "      <td>8.0</td>\n",
       "      <td>0.03</td>\n",
       "      <td>490.0</td>\n",
       "      <td>855.0</td>\n",
       "      <td>24.0</td>\n",
       "      <td>0.00</td>\n",
       "      <td>0.0</td>\n",
       "      <td>30.0</td>\n",
       "      <td>210.0</td>\n",
       "      <td>30.0</td>\n",
       "      <td>0.0</td>\n",
       "      <td>530.0</td>\n",
       "      <td>30.0</td>\n",
       "      <td>60.0</td>\n",
       "      <td>30.0</td>\n",
       "    </tr>\n",
       "    <tr>\n",
       "      <th>433</th>\n",
       "      <td>0.00</td>\n",
       "      <td>845.0</td>\n",
       "      <td>600.0</td>\n",
       "      <td>24.0</td>\n",
       "      <td>0.08</td>\n",
       "      <td>463.0</td>\n",
       "      <td>845.0</td>\n",
       "      <td>24.0</td>\n",
       "      <td>0.00</td>\n",
       "      <td>0.0</td>\n",
       "      <td>30.0</td>\n",
       "      <td>64.0</td>\n",
       "      <td>30.0</td>\n",
       "      <td>0.0</td>\n",
       "      <td>1740.0</td>\n",
       "      <td>30.0</td>\n",
       "      <td>60.0</td>\n",
       "      <td>30.0</td>\n",
       "    </tr>\n",
       "    <tr>\n",
       "      <th>434</th>\n",
       "      <td>0.00</td>\n",
       "      <td>870.0</td>\n",
       "      <td>550.0</td>\n",
       "      <td>8.0</td>\n",
       "      <td>0.10</td>\n",
       "      <td>592.0</td>\n",
       "      <td>855.0</td>\n",
       "      <td>24.0</td>\n",
       "      <td>0.00</td>\n",
       "      <td>0.0</td>\n",
       "      <td>30.0</td>\n",
       "      <td>148.0</td>\n",
       "      <td>30.0</td>\n",
       "      <td>0.0</td>\n",
       "      <td>820.0</td>\n",
       "      <td>30.0</td>\n",
       "      <td>60.0</td>\n",
       "      <td>30.0</td>\n",
       "    </tr>\n",
       "    <tr>\n",
       "      <th>435</th>\n",
       "      <td>0.02</td>\n",
       "      <td>885.0</td>\n",
       "      <td>30.0</td>\n",
       "      <td>0.0</td>\n",
       "      <td>0.06</td>\n",
       "      <td>245.0</td>\n",
       "      <td>30.0</td>\n",
       "      <td>0.0</td>\n",
       "      <td>0.02</td>\n",
       "      <td>0.0</td>\n",
       "      <td>30.0</td>\n",
       "      <td>6.0</td>\n",
       "      <td>30.0</td>\n",
       "      <td>0.0</td>\n",
       "      <td>825.0</td>\n",
       "      <td>0.0</td>\n",
       "      <td>0.0</td>\n",
       "      <td>30.0</td>\n",
       "    </tr>\n",
       "    <tr>\n",
       "      <th>436</th>\n",
       "      <td>0.00</td>\n",
       "      <td>870.0</td>\n",
       "      <td>550.0</td>\n",
       "      <td>8.0</td>\n",
       "      <td>0.02</td>\n",
       "      <td>526.0</td>\n",
       "      <td>855.0</td>\n",
       "      <td>24.0</td>\n",
       "      <td>0.00</td>\n",
       "      <td>0.0</td>\n",
       "      <td>30.0</td>\n",
       "      <td>141.0</td>\n",
       "      <td>30.0</td>\n",
       "      <td>0.0</td>\n",
       "      <td>530.0</td>\n",
       "      <td>30.0</td>\n",
       "      <td>60.0</td>\n",
       "      <td>30.0</td>\n",
       "    </tr>\n",
       "  </tbody>\n",
       "</table>\n",
       "</div>"
      ],
      "text/plain": [
       "     Area Proportion of Isolated Inclusions  Normalizing Temperature  \\\n",
       "432                                    0.00                    870.0   \n",
       "433                                    0.00                    845.0   \n",
       "434                                    0.00                    870.0   \n",
       "435                                    0.02                    885.0   \n",
       "436                                    0.00                    870.0   \n",
       "\n",
       "     Tempering Temperature  Cooling Rate for Through Hardening  \\\n",
       "432                  650.0                                 8.0   \n",
       "433                  600.0                                24.0   \n",
       "434                  550.0                                 8.0   \n",
       "435                   30.0                                 0.0   \n",
       "436                  550.0                                 8.0   \n",
       "\n",
       "     Area Proportion of Inclusions Deformed by Plastic Work  Fatigue Strength  \\\n",
       "432                                               0.03                  490.0   \n",
       "433                                               0.08                  463.0   \n",
       "434                                               0.10                  592.0   \n",
       "435                                               0.06                  245.0   \n",
       "436                                               0.02                  526.0   \n",
       "\n",
       "     Through Hardening Temperature  Cooling Rate for Tempering  \\\n",
       "432                          855.0                        24.0   \n",
       "433                          845.0                        24.0   \n",
       "434                          855.0                        24.0   \n",
       "435                           30.0                         0.0   \n",
       "436                          855.0                        24.0   \n",
       "\n",
       "     Area Proportion of Inclusions Occurring in Discontinuous Array  \\\n",
       "432                                               0.00                \n",
       "433                                               0.00                \n",
       "434                                               0.00                \n",
       "435                                               0.02                \n",
       "436                                               0.00                \n",
       "\n",
       "     Diffusion time  Diffusion Temperature  Sample Number  \\\n",
       "432             0.0                   30.0          210.0   \n",
       "433             0.0                   30.0           64.0   \n",
       "434             0.0                   30.0          148.0   \n",
       "435             0.0                   30.0            6.0   \n",
       "436             0.0                   30.0          141.0   \n",
       "\n",
       "     Carburization Temperature  Carburization Time  \\\n",
       "432                       30.0                 0.0   \n",
       "433                       30.0                 0.0   \n",
       "434                       30.0                 0.0   \n",
       "435                       30.0                 0.0   \n",
       "436                       30.0                 0.0   \n",
       "\n",
       "     Reduction Ratio (Ingot to Bar)  Through Hardening Time  Tempering Time  \\\n",
       "432                           530.0                    30.0            60.0   \n",
       "433                          1740.0                    30.0            60.0   \n",
       "434                           820.0                    30.0            60.0   \n",
       "435                           825.0                     0.0             0.0   \n",
       "436                           530.0                    30.0            60.0   \n",
       "\n",
       "     Quenching Media Temperature (for Carburization)  \n",
       "432                                             30.0  \n",
       "433                                             30.0  \n",
       "434                                             30.0  \n",
       "435                                             30.0  \n",
       "436                                             30.0  "
      ]
     },
     "execution_count": 13,
     "metadata": {},
     "output_type": "execute_result"
    }
   ],
   "source": [
    "## Task: Show last five observations of df_data\n"
   ]
  },
  {
   "cell_type": "code",
   "execution_count": 14,
   "metadata": {
    "collapsed": false
   },
   "outputs": [
    {
     "data": {
      "text/plain": [
       "(437, 18)"
      ]
     },
     "execution_count": 14,
     "metadata": {},
     "output_type": "execute_result"
    }
   ],
   "source": [
    "## Task: Determine the number of rows and columns in df_data\n"
   ]
  },
  {
   "cell_type": "code",
   "execution_count": 15,
   "metadata": {
    "collapsed": false
   },
   "outputs": [
    {
     "data": {
      "text/html": [
       "<div>\n",
       "<style scoped>\n",
       "    .dataframe tbody tr th:only-of-type {\n",
       "        vertical-align: middle;\n",
       "    }\n",
       "\n",
       "    .dataframe tbody tr th {\n",
       "        vertical-align: top;\n",
       "    }\n",
       "\n",
       "    .dataframe thead th {\n",
       "        text-align: right;\n",
       "    }\n",
       "</style>\n",
       "<table border=\"1\" class=\"dataframe\">\n",
       "  <thead>\n",
       "    <tr style=\"text-align: right;\">\n",
       "      <th></th>\n",
       "      <th>Normalizing Temperature</th>\n",
       "    </tr>\n",
       "  </thead>\n",
       "  <tbody>\n",
       "    <tr>\n",
       "      <th>0</th>\n",
       "      <td>870.0</td>\n",
       "    </tr>\n",
       "    <tr>\n",
       "      <th>1</th>\n",
       "      <td>870.0</td>\n",
       "    </tr>\n",
       "    <tr>\n",
       "      <th>2</th>\n",
       "      <td>870.0</td>\n",
       "    </tr>\n",
       "    <tr>\n",
       "      <th>3</th>\n",
       "      <td>865.0</td>\n",
       "    </tr>\n",
       "    <tr>\n",
       "      <th>4</th>\n",
       "      <td>870.0</td>\n",
       "    </tr>\n",
       "  </tbody>\n",
       "</table>\n",
       "</div>"
      ],
      "text/plain": [
       "   Normalizing Temperature\n",
       "0                    870.0\n",
       "1                    870.0\n",
       "2                    870.0\n",
       "3                    865.0\n",
       "4                    870.0"
      ]
     },
     "execution_count": 15,
     "metadata": {},
     "output_type": "execute_result"
    }
   ],
   "source": [
    "## Task: Select the column \"Normalizing Temperature\"\n"
   ]
  },
  {
   "cell_type": "code",
   "execution_count": 16,
   "metadata": {
    "collapsed": false
   },
   "outputs": [
    {
     "data": {
      "text/html": [
       "<div>\n",
       "<style scoped>\n",
       "    .dataframe tbody tr th:only-of-type {\n",
       "        vertical-align: middle;\n",
       "    }\n",
       "\n",
       "    .dataframe tbody tr th {\n",
       "        vertical-align: top;\n",
       "    }\n",
       "\n",
       "    .dataframe thead th {\n",
       "        text-align: right;\n",
       "    }\n",
       "</style>\n",
       "<table border=\"1\" class=\"dataframe\">\n",
       "  <thead>\n",
       "    <tr style=\"text-align: right;\">\n",
       "      <th></th>\n",
       "      <th>Normalizing Temperature</th>\n",
       "      <th>Fatigue Strength</th>\n",
       "    </tr>\n",
       "  </thead>\n",
       "  <tbody>\n",
       "    <tr>\n",
       "      <th>0</th>\n",
       "      <td>870.0</td>\n",
       "      <td>451.0</td>\n",
       "    </tr>\n",
       "    <tr>\n",
       "      <th>1</th>\n",
       "      <td>870.0</td>\n",
       "      <td>631.0</td>\n",
       "    </tr>\n",
       "    <tr>\n",
       "      <th>2</th>\n",
       "      <td>870.0</td>\n",
       "      <td>406.0</td>\n",
       "    </tr>\n",
       "    <tr>\n",
       "      <th>3</th>\n",
       "      <td>865.0</td>\n",
       "      <td>433.0</td>\n",
       "    </tr>\n",
       "    <tr>\n",
       "      <th>4</th>\n",
       "      <td>870.0</td>\n",
       "      <td>385.0</td>\n",
       "    </tr>\n",
       "  </tbody>\n",
       "</table>\n",
       "</div>"
      ],
      "text/plain": [
       "   Normalizing Temperature  Fatigue Strength\n",
       "0                    870.0             451.0\n",
       "1                    870.0             631.0\n",
       "2                    870.0             406.0\n",
       "3                    865.0             433.0\n",
       "4                    870.0             385.0"
      ]
     },
     "execution_count": 16,
     "metadata": {},
     "output_type": "execute_result"
    }
   ],
   "source": [
    "## Task: Select the columns \"Normalizing Temperature\" and \"Fatigue Strength\"\n"
   ]
  },
  {
   "cell_type": "markdown",
   "metadata": {},
   "source": [
    "These manipulations are simple, but they are bread-and-butter for studying new datasets."
   ]
  },
  {
   "cell_type": "markdown",
   "metadata": {},
   "source": [
    "## Wrangling Data\n",
    "[Hadley Wickham](http://hadley.nz/) -- author of the `tidyverse` and data science superstar -- notes that \"wrangling data is 80% boredom and 20% screaming\". To give you a sense of why this stuff is hard (but hopefully avoid the screaming), I'm leaving one of the wrangling steps in the workflow here:"
   ]
  },
  {
   "cell_type": "markdown",
   "metadata": {},
   "source": [
    "It's not obvious from the exercises above, but *there's an issue with these data*."
   ]
  },
  {
   "cell_type": "code",
   "execution_count": 7,
   "metadata": {
    "collapsed": false
   },
   "outputs": [
    {
     "data": {
      "text/plain": [
       "Area Proportion of Isolated Inclusions                            object\n",
       "Normalizing Temperature                                           object\n",
       "Tempering Temperature                                             object\n",
       "Cooling Rate for Through Hardening                                object\n",
       "Area Proportion of Inclusions Deformed by Plastic Work            object\n",
       "Fatigue Strength                                                  object\n",
       "Through Hardening Temperature                                     object\n",
       "Cooling Rate for Tempering                                        object\n",
       "Area Proportion of Inclusions Occurring in Discontinuous Array    object\n",
       "Diffusion time                                                    object\n",
       "Diffusion Temperature                                             object\n",
       "Sample Number                                                     object\n",
       "Carburization Temperature                                         object\n",
       "Carburization Time                                                object\n",
       "Reduction Ratio (Ingot to Bar)                                    object\n",
       "Through Hardening Time                                            object\n",
       "Tempering Time                                                    object\n",
       "Quenching Media Temperature (for Carburization)                   object\n",
       "dtype: object"
      ]
     },
     "execution_count": 7,
     "metadata": {},
     "output_type": "execute_result"
    }
   ],
   "source": [
    "df_data.dtypes"
   ]
  },
  {
   "cell_type": "markdown",
   "metadata": {},
   "source": [
    "All of the entries are objects, not numbers! We'll need to convert these to numeric values. The following slightly-mysterious call will cast every column of `df_data` to a numeric type and modify the DataFrame."
   ]
  },
  {
   "cell_type": "code",
   "execution_count": 8,
   "metadata": {
    "collapsed": false
   },
   "outputs": [],
   "source": [
    "df_data = df_data.apply(pd.to_numeric)"
   ]
  },
  {
   "cell_type": "markdown",
   "metadata": {},
   "source": [
    "Let's check the data types again:"
   ]
  },
  {
   "cell_type": "code",
   "execution_count": 9,
   "metadata": {
    "collapsed": false
   },
   "outputs": [
    {
     "data": {
      "text/plain": [
       "Area Proportion of Isolated Inclusions                            float64\n",
       "Normalizing Temperature                                           float64\n",
       "Tempering Temperature                                             float64\n",
       "Cooling Rate for Through Hardening                                float64\n",
       "Area Proportion of Inclusions Deformed by Plastic Work            float64\n",
       "Fatigue Strength                                                  float64\n",
       "Through Hardening Temperature                                     float64\n",
       "Cooling Rate for Tempering                                        float64\n",
       "Area Proportion of Inclusions Occurring in Discontinuous Array    float64\n",
       "Diffusion time                                                    float64\n",
       "Diffusion Temperature                                             float64\n",
       "Sample Number                                                     float64\n",
       "Carburization Temperature                                         float64\n",
       "Carburization Time                                                float64\n",
       "Reduction Ratio (Ingot to Bar)                                    float64\n",
       "Through Hardening Time                                            float64\n",
       "Tempering Time                                                    float64\n",
       "Quenching Media Temperature (for Carburization)                   float64\n",
       "dtype: object"
      ]
     },
     "execution_count": 9,
     "metadata": {},
     "output_type": "execute_result"
    }
   ],
   "source": [
    "df_data.dtypes"
   ]
  },
  {
   "cell_type": "markdown",
   "metadata": {},
   "source": [
    "These are numbers we can work with!"
   ]
  },
  {
   "cell_type": "markdown",
   "metadata": {},
   "source": [
    "## Basic DataFrame Operations"
   ]
  },
  {
   "cell_type": "markdown",
   "metadata": {},
   "source": []
  },
  {
   "cell_type": "markdown",
   "metadata": {},
   "source": [
    "## Featurization"
   ]
  }
 ],
 "metadata": {
  "kernelspec": {
   "display_name": "Python 3",
   "language": "python",
   "name": "python3"
  },
  "language_info": {
   "codemirror_mode": {
    "name": "ipython",
    "version": 3
   },
   "file_extension": ".py",
   "mimetype": "text/x-python",
   "name": "python",
   "nbconvert_exporter": "python",
   "pygments_lexer": "ipython3",
   "version": "3.7.3"
  }
 },
 "nbformat": 4,
 "nbformat_minor": 2
}
