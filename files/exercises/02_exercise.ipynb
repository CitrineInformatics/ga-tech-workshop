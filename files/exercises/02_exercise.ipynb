{
 "cells": [
  {
   "cell_type": "markdown",
   "metadata": {},
   "source": [
    "## Pulling Data from Citrination"
   ]
  },
  {
   "cell_type": "markdown",
   "metadata": {},
   "source": [
    "__Q1: Setting up the Citrination client__\n",
    "Using the [learn-citrination](https://github.com/CitrineInformatics/learn-citrination/blob/master/citrination_api_examples/clients_sequence/1_data_client_api_tutorial.ipynb) workbook as an example, set up the citrination client below."
   ]
  },
  {
   "cell_type": "code",
   "execution_count": 1,
   "metadata": {
    "collapsed": false
   },
   "outputs": [],
   "source": [
    "## Import some relevant packages\n",
    "import os\n",
    "# Scientific computation\n",
    "import numpy as np\n",
    "import pandas as pd\n",
    "\n",
    "# Workshop-specific tools\n",
    "from workshop_utils import pifs2df\n",
    "\n",
    "# Third-party packages\n",
    "from citrination_client import CitrinationClient\n",
    "from citrination_client import PifSystemReturningQuery, PifSystemQuery\n",
    "from citrination_client import DataQuery, DatasetQuery, DatasetReturningQuery, ChemicalFieldQuery\n",
    "from citrination_client import PropertyQuery, FieldQuery\n",
    "from citrination_client import ChemicalFilter, Filter\n",
    "\n",
    "## TASK: Initialize the client below...\n",
    "## You will need to provide `client` as a python object\n"
   ]
  },
  {
   "cell_type": "markdown",
   "metadata": {},
   "source": [
    "__Q2: Obtaining a known dataset__ Search [citrination datasets](https://citrination.com/datasets) for the \"Agrawal IMMI\" dataset, find its `ID`, and load the data into memory. "
   ]
  },
  {
   "cell_type": "code",
   "execution_count": 2,
   "metadata": {
    "collapsed": false
   },
   "outputs": [
    {
     "name": "stdout",
     "output_type": "stream",
     "text": [
      "Found 437 PIFs in dataset 150670.\n",
      "(Should be 437 PIFs)\n"
     ]
    }
   ],
   "source": [
    "dataset_id = 1      # TASK: Identify the proper dataset id, use this below\n",
    "\n",
    "search_client = client.search\n",
    "query_agrawal = \\\n",
    "    PifSystemReturningQuery(\n",
    "        size=500, \n",
    "        query=DataQuery(\n",
    "            dataset=DatasetQuery(\n",
    "                id=Filter(equal=str(dataset_id))\n",
    "            )\n",
    "        )\n",
    "    )\n",
    "\n",
    "## Perform checks\n",
    "query_result = search_client.pif_search(query_agrawal)\n",
    "print(\"Found {} PIFs in dataset {}.\".format(query_result.total_num_hits, dataset_id))\n",
    "print(\"(Should be 437 PIFs)\")"
   ]
  },
  {
   "cell_type": "markdown",
   "metadata": {},
   "source": [
    "Citrination stores data in [physical information files](http://citrineinformatics.github.io/pif-documentation/) (PIFs). \n",
    " \n",
    "__Q3: Reading a Query Result__ (Turn the PIFs above into rectangular data)"
   ]
  },
  {
   "cell_type": "code",
   "execution_count": 3,
   "metadata": {
    "collapsed": false
   },
   "outputs": [
    {
     "data": {
      "text/plain": [
       "['__class__',\n",
       " '__delattr__',\n",
       " '__dict__',\n",
       " '__dir__',\n",
       " '__doc__',\n",
       " '__eq__',\n",
       " '__format__',\n",
       " '__ge__',\n",
       " '__getattribute__',\n",
       " '__gt__',\n",
       " '__hash__',\n",
       " '__init__',\n",
       " '__init_subclass__',\n",
       " '__le__',\n",
       " '__lt__',\n",
       " '__module__',\n",
       " '__ne__',\n",
       " '__new__',\n",
       " '__reduce__',\n",
       " '__reduce_ex__',\n",
       " '__repr__',\n",
       " '__setattr__',\n",
       " '__sizeof__',\n",
       " '__str__',\n",
       " '__subclasshook__',\n",
       " '__weakref__',\n",
       " '_convert_to_dictionary',\n",
       " '_get_object',\n",
       " '_hits',\n",
       " '_max_score',\n",
       " '_took',\n",
       " '_total_num_hits',\n",
       " 'as_dictionary',\n",
       " 'hits',\n",
       " 'max_score',\n",
       " 'took',\n",
       " 'total_num_hits']"
      ]
     },
     "execution_count": 3,
     "metadata": {},
     "output_type": "execute_result"
    }
   ],
   "source": [
    "# query_result has a few useful attributes\n",
    "dir(query_result)"
   ]
  },
  {
   "cell_type": "code",
   "execution_count": 4,
   "metadata": {
    "collapsed": false
   },
   "outputs": [
    {
     "data": {
      "text/plain": [
       "[<citrination_client.search.pif.result.pif_search_hit.PifSearchHit at 0x1191c7128>,\n",
       " <citrination_client.search.pif.result.pif_search_hit.PifSearchHit at 0x1191c7048>,\n",
       " <citrination_client.search.pif.result.pif_search_hit.PifSearchHit at 0x1191c7550>,\n",
       " <citrination_client.search.pif.result.pif_search_hit.PifSearchHit at 0x11ac08940>,\n",
       " <citrination_client.search.pif.result.pif_search_hit.PifSearchHit at 0x11ac18630>]"
      ]
     },
     "execution_count": 4,
     "metadata": {},
     "output_type": "execute_result"
    }
   ],
   "source": [
    "# The __stuff__ attributes are python built-ins; the other\n",
    "# other attributes are features provided by the object.\n",
    "# total_num_hits was used above to count the number of search hits\n",
    "# hits gives the content of the query hits\n",
    "query_result.hits[:5]"
   ]
  },
  {
   "cell_type": "code",
   "execution_count": 5,
   "metadata": {
    "collapsed": false
   },
   "outputs": [
    {
     "data": {
      "text/plain": [
       "['as_dictionary',\n",
       " 'dataset',\n",
       " 'dataset_version',\n",
       " 'extracted',\n",
       " 'extracted_path',\n",
       " 'id',\n",
       " 'score',\n",
       " 'system',\n",
       " 'updated_at']"
      ]
     },
     "execution_count": 5,
     "metadata": {},
     "output_type": "execute_result"
    }
   ],
   "source": [
    "# The query hits are themselves objects; we'll need to access *their* attributes as well\n",
    "list(filter(lambda s: s[0] != \"_\", dir(query_result.hits[0]))) # Skip the \"_\"-prefixed entries"
   ]
  },
  {
   "cell_type": "code",
   "execution_count": 6,
   "metadata": {
    "collapsed": false
   },
   "outputs": [
    {
     "data": {
      "text/html": [
       "<div>\n",
       "<style scoped>\n",
       "    .dataframe tbody tr th:only-of-type {\n",
       "        vertical-align: middle;\n",
       "    }\n",
       "\n",
       "    .dataframe tbody tr th {\n",
       "        vertical-align: top;\n",
       "    }\n",
       "\n",
       "    .dataframe thead th {\n",
       "        text-align: right;\n",
       "    }\n",
       "</style>\n",
       "<table border=\"1\" class=\"dataframe\">\n",
       "  <thead>\n",
       "    <tr style=\"text-align: right;\">\n",
       "      <th></th>\n",
       "      <th>Carburization Time</th>\n",
       "      <th>Quenching Media Temperature (for Carburization)</th>\n",
       "      <th>Through Hardening Temperature</th>\n",
       "      <th>Tempering Temperature</th>\n",
       "      <th>Fatigue Strength</th>\n",
       "      <th>Sample Number</th>\n",
       "      <th>Normalizing Temperature</th>\n",
       "      <th>Cooling Rate for Tempering</th>\n",
       "      <th>Reduction Ratio (Ingot to Bar)</th>\n",
       "      <th>Diffusion time</th>\n",
       "      <th>Area Proportion of Isolated Inclusions</th>\n",
       "      <th>Carburization Temperature</th>\n",
       "      <th>Tempering Time</th>\n",
       "      <th>Area Proportion of Inclusions Deformed by Plastic Work</th>\n",
       "      <th>Cooling Rate for Through Hardening</th>\n",
       "      <th>Diffusion Temperature</th>\n",
       "      <th>Through Hardening Time</th>\n",
       "      <th>Area Proportion of Inclusions Occurring in Discontinuous Array</th>\n",
       "    </tr>\n",
       "  </thead>\n",
       "  <tbody>\n",
       "    <tr>\n",
       "      <th>0</th>\n",
       "      <td>0.0</td>\n",
       "      <td>30.0</td>\n",
       "      <td>845.0</td>\n",
       "      <td>550.0</td>\n",
       "      <td>451.0</td>\n",
       "      <td>228.0</td>\n",
       "      <td>870.0</td>\n",
       "      <td>24.0</td>\n",
       "      <td>530.0</td>\n",
       "      <td>0.0</td>\n",
       "      <td>0.01</td>\n",
       "      <td>30.0</td>\n",
       "      <td>60.0</td>\n",
       "      <td>0.02</td>\n",
       "      <td>8.0</td>\n",
       "      <td>30.0</td>\n",
       "      <td>30.0</td>\n",
       "      <td>0.0</td>\n",
       "    </tr>\n",
       "    <tr>\n",
       "      <th>1</th>\n",
       "      <td>0.0</td>\n",
       "      <td>30.0</td>\n",
       "      <td>855.0</td>\n",
       "      <td>550.0</td>\n",
       "      <td>631.0</td>\n",
       "      <td>193.0</td>\n",
       "      <td>870.0</td>\n",
       "      <td>24.0</td>\n",
       "      <td>510.0</td>\n",
       "      <td>0.0</td>\n",
       "      <td>0.03</td>\n",
       "      <td>30.0</td>\n",
       "      <td>60.0</td>\n",
       "      <td>0.04</td>\n",
       "      <td>8.0</td>\n",
       "      <td>30.0</td>\n",
       "      <td>30.0</td>\n",
       "      <td>0.0</td>\n",
       "    </tr>\n",
       "    <tr>\n",
       "      <th>2</th>\n",
       "      <td>0.0</td>\n",
       "      <td>30.0</td>\n",
       "      <td>845.0</td>\n",
       "      <td>600.0</td>\n",
       "      <td>406.0</td>\n",
       "      <td>233.0</td>\n",
       "      <td>870.0</td>\n",
       "      <td>24.0</td>\n",
       "      <td>610.0</td>\n",
       "      <td>0.0</td>\n",
       "      <td>0.01</td>\n",
       "      <td>30.0</td>\n",
       "      <td>60.0</td>\n",
       "      <td>0.03</td>\n",
       "      <td>8.0</td>\n",
       "      <td>30.0</td>\n",
       "      <td>30.0</td>\n",
       "      <td>0.0</td>\n",
       "    </tr>\n",
       "    <tr>\n",
       "      <th>3</th>\n",
       "      <td>0.0</td>\n",
       "      <td>30.0</td>\n",
       "      <td>865.0</td>\n",
       "      <td>550.0</td>\n",
       "      <td>433.0</td>\n",
       "      <td>22.0</td>\n",
       "      <td>865.0</td>\n",
       "      <td>24.0</td>\n",
       "      <td>1740.0</td>\n",
       "      <td>0.0</td>\n",
       "      <td>0.0</td>\n",
       "      <td>30.0</td>\n",
       "      <td>60.0</td>\n",
       "      <td>0.1</td>\n",
       "      <td>24.0</td>\n",
       "      <td>30.0</td>\n",
       "      <td>30.0</td>\n",
       "      <td>0.0</td>\n",
       "    </tr>\n",
       "    <tr>\n",
       "      <th>4</th>\n",
       "      <td>0.0</td>\n",
       "      <td>30.0</td>\n",
       "      <td>845.0</td>\n",
       "      <td>650.0</td>\n",
       "      <td>385.0</td>\n",
       "      <td>240.0</td>\n",
       "      <td>870.0</td>\n",
       "      <td>24.0</td>\n",
       "      <td>610.0</td>\n",
       "      <td>0.0</td>\n",
       "      <td>0.01</td>\n",
       "      <td>30.0</td>\n",
       "      <td>60.0</td>\n",
       "      <td>0.03</td>\n",
       "      <td>8.0</td>\n",
       "      <td>30.0</td>\n",
       "      <td>30.0</td>\n",
       "      <td>0.0</td>\n",
       "    </tr>\n",
       "  </tbody>\n",
       "</table>\n",
       "</div>"
      ],
      "text/plain": [
       "  Carburization Time Quenching Media Temperature (for Carburization)  \\\n",
       "0                0.0                                            30.0   \n",
       "1                0.0                                            30.0   \n",
       "2                0.0                                            30.0   \n",
       "3                0.0                                            30.0   \n",
       "4                0.0                                            30.0   \n",
       "\n",
       "  Through Hardening Temperature Tempering Temperature Fatigue Strength  \\\n",
       "0                         845.0                 550.0            451.0   \n",
       "1                         855.0                 550.0            631.0   \n",
       "2                         845.0                 600.0            406.0   \n",
       "3                         865.0                 550.0            433.0   \n",
       "4                         845.0                 650.0            385.0   \n",
       "\n",
       "  Sample Number Normalizing Temperature Cooling Rate for Tempering  \\\n",
       "0         228.0                   870.0                       24.0   \n",
       "1         193.0                   870.0                       24.0   \n",
       "2         233.0                   870.0                       24.0   \n",
       "3          22.0                   865.0                       24.0   \n",
       "4         240.0                   870.0                       24.0   \n",
       "\n",
       "  Reduction Ratio (Ingot to Bar) Diffusion time  \\\n",
       "0                          530.0            0.0   \n",
       "1                          510.0            0.0   \n",
       "2                          610.0            0.0   \n",
       "3                         1740.0            0.0   \n",
       "4                          610.0            0.0   \n",
       "\n",
       "  Area Proportion of Isolated Inclusions Carburization Temperature  \\\n",
       "0                                   0.01                      30.0   \n",
       "1                                   0.03                      30.0   \n",
       "2                                   0.01                      30.0   \n",
       "3                                    0.0                      30.0   \n",
       "4                                   0.01                      30.0   \n",
       "\n",
       "  Tempering Time Area Proportion of Inclusions Deformed by Plastic Work  \\\n",
       "0           60.0                                               0.02       \n",
       "1           60.0                                               0.04       \n",
       "2           60.0                                               0.03       \n",
       "3           60.0                                                0.1       \n",
       "4           60.0                                               0.03       \n",
       "\n",
       "  Cooling Rate for Through Hardening Diffusion Temperature  \\\n",
       "0                                8.0                  30.0   \n",
       "1                                8.0                  30.0   \n",
       "2                                8.0                  30.0   \n",
       "3                               24.0                  30.0   \n",
       "4                                8.0                  30.0   \n",
       "\n",
       "  Through Hardening Time  \\\n",
       "0                   30.0   \n",
       "1                   30.0   \n",
       "2                   30.0   \n",
       "3                   30.0   \n",
       "4                   30.0   \n",
       "\n",
       "  Area Proportion of Inclusions Occurring in Discontinuous Array  \n",
       "0                                                0.0              \n",
       "1                                                0.0              \n",
       "2                                                0.0              \n",
       "3                                                0.0              \n",
       "4                                                0.0              "
      ]
     },
     "execution_count": 6,
     "metadata": {},
     "output_type": "execute_result"
    }
   ],
   "source": [
    "# It's not at all obvious from the name, but the `system` attribute returns the actual PIF\n",
    "query_result.hits[0].system\n",
    "\n",
    "## TASK: Build a list of list of all the PIF's in query_result, and store it in `pifs`\n",
    "pifs = []\n",
    "\n",
    "# Utility function will tabularize PIFs into a plot-able form\n",
    "df_data = pifs2df(pifs)\n",
    "df_data.head(5)"
   ]
  },
  {
   "cell_type": "markdown",
   "metadata": {},
   "source": [
    "## Wrangling Data\n",
    "[Hadley Wickham](http://hadley.nz/) -- author of the `tidyverse` and data science superstar -- notes that \"wrangling data is 80% boredom and 20% screaming\". To give you a sense of why this stuff is hard (but hopefully avoid the screaming), I'm leaving one of the wrangling steps in the workflow here:"
   ]
  },
  {
   "cell_type": "markdown",
   "metadata": {},
   "source": [
    "It's not obvious from the table above, but there's an issue with these data."
   ]
  },
  {
   "cell_type": "code",
   "execution_count": 7,
   "metadata": {
    "collapsed": false
   },
   "outputs": [
    {
     "data": {
      "text/plain": [
       "Carburization Time                                                object\n",
       "Quenching Media Temperature (for Carburization)                   object\n",
       "Through Hardening Temperature                                     object\n",
       "Tempering Temperature                                             object\n",
       "Fatigue Strength                                                  object\n",
       "Sample Number                                                     object\n",
       "Normalizing Temperature                                           object\n",
       "Cooling Rate for Tempering                                        object\n",
       "Reduction Ratio (Ingot to Bar)                                    object\n",
       "Diffusion time                                                    object\n",
       "Area Proportion of Isolated Inclusions                            object\n",
       "Carburization Temperature                                         object\n",
       "Tempering Time                                                    object\n",
       "Area Proportion of Inclusions Deformed by Plastic Work            object\n",
       "Cooling Rate for Through Hardening                                object\n",
       "Diffusion Temperature                                             object\n",
       "Through Hardening Time                                            object\n",
       "Area Proportion of Inclusions Occurring in Discontinuous Array    object\n",
       "dtype: object"
      ]
     },
     "execution_count": 7,
     "metadata": {},
     "output_type": "execute_result"
    }
   ],
   "source": [
    "df_data.dtypes"
   ]
  },
  {
   "cell_type": "markdown",
   "metadata": {},
   "source": [
    "All of the entries are objects, not numbers! We'll need to convert these to numeric values. The following slightly-mysterious call will cast every column of `df_data` to a numeric type and modify the DataFrame."
   ]
  },
  {
   "cell_type": "code",
   "execution_count": 8,
   "metadata": {
    "collapsed": false
   },
   "outputs": [],
   "source": [
    "kwargs = {col: pd.to_numeric(df_data[col]) for col in df_data.columns}\n",
    "df_data = df_data.assign(**kwargs)"
   ]
  },
  {
   "cell_type": "markdown",
   "metadata": {},
   "source": [
    "Let's check the data types again:"
   ]
  },
  {
   "cell_type": "code",
   "execution_count": 9,
   "metadata": {
    "collapsed": false
   },
   "outputs": [
    {
     "data": {
      "text/plain": [
       "Carburization Time                                                float64\n",
       "Quenching Media Temperature (for Carburization)                   float64\n",
       "Through Hardening Temperature                                     float64\n",
       "Tempering Temperature                                             float64\n",
       "Fatigue Strength                                                  float64\n",
       "Sample Number                                                     float64\n",
       "Normalizing Temperature                                           float64\n",
       "Cooling Rate for Tempering                                        float64\n",
       "Reduction Ratio (Ingot to Bar)                                    float64\n",
       "Diffusion time                                                    float64\n",
       "Area Proportion of Isolated Inclusions                            float64\n",
       "Carburization Temperature                                         float64\n",
       "Tempering Time                                                    float64\n",
       "Area Proportion of Inclusions Deformed by Plastic Work            float64\n",
       "Cooling Rate for Through Hardening                                float64\n",
       "Diffusion Temperature                                             float64\n",
       "Through Hardening Time                                            float64\n",
       "Area Proportion of Inclusions Occurring in Discontinuous Array    float64\n",
       "dtype: object"
      ]
     },
     "execution_count": 9,
     "metadata": {},
     "output_type": "execute_result"
    }
   ],
   "source": [
    "df_data.dtypes"
   ]
  },
  {
   "cell_type": "markdown",
   "metadata": {},
   "source": [
    "These are numbers we can work with!"
   ]
  }
 ],
 "metadata": {
  "kernelspec": {
   "display_name": "Python 3",
   "language": "python",
   "name": "python3"
  },
  "language_info": {
   "codemirror_mode": {
    "name": "ipython",
    "version": 3
   },
   "file_extension": ".py",
   "mimetype": "text/x-python",
   "name": "python",
   "nbconvert_exporter": "python",
   "pygments_lexer": "ipython3",
   "version": "3.7.3"
  }
 },
 "nbformat": 4,
 "nbformat_minor": 2
}
