{
 "cells": [
  {
   "cell_type": "markdown",
   "metadata": {},
   "source": [
    "![Citrine banner](https://raw.githubusercontent.com/CitrineInformatics/community-tools/master/templates/fig/citrine_banner_2.png)"
   ]
  },
  {
   "cell_type": "markdown",
   "metadata": {},
   "source": [
    "# Introduction to the Python Citrination Client (PyCC)\n",
    "*Authors: Enze Chen, Eddie Kim, Julia Ling, Zachary del Rosario*\n",
    "\n",
    "In this notebook, we will cover how to use the **Citrination API** and the core components of the PyCC. We will demonstrate this by building a ML model for predicting band gaps. "
   ]
  },
  {
   "cell_type": "markdown",
   "metadata": {},
   "source": [
    "$$ \\text{Chemical formula (inorganic descriptor)} \\longrightarrow \\boxed{\\text{ML Model}} \\longrightarrow \\text{Band gap (real descriptor)} $$"
   ]
  },
  {
   "cell_type": "markdown",
   "metadata": {},
   "source": [
    "Along the way, we will be explaining various things about the Python programming language. Furthermore, to get some hands-on experience, there are blanks for you to fill in below, marked by\n",
    "\n",
    "### Learning outcomes\n",
    "As a result of this exercise, you will learn to:\n",
    "\n",
    "* Use the Citrination application programming interface (API) to upload data, train a model, and make machine learning predictions\n",
    "* Learn where example code on [learn-citrination](https://github.com/CitrineInformatics/learn-citrination) resides, to have a reference for your future work\n",
    "\n",
    "**Note: In this exercise, you will have to consult example code to finish the exercises. You are *not expected* to be able to complete these exercises without consulting the linked tutorials.**"
   ]
  },
  {
   "cell_type": "markdown",
   "metadata": {},
   "source": [
    "### Client Components\n",
    "Before learning to use PyCC, we will first give a bit of orientation to the CitrinationClient."
   ]
  },
  {
   "cell_type": "markdown",
   "metadata": {},
   "source": [
    "<img src=\"./incl/02_pycc_hierarchy.png\" width=\"600px\">"
   ]
  },
  {
   "cell_type": "markdown",
   "metadata": {},
   "source": [
    "**CitrinationClient**\n",
    "- Top-level API interface\n",
    "- We must initialize this to use any other clients\n",
    "\n",
    "**DataClient**\n",
    "- Provides access to data sets; we can upload and download data using this\n",
    "- Must be instantiated from CitrinationClient\n",
    "\n",
    "**DataViewsClient**\n",
    "- Provides tools to visually inspect a dataset, as well as inspect ML model results\n",
    "- Must be instantiated from CitrinationClient\n",
    "\n",
    "**ModelsClient**\n",
    "- Provides tools to train ML models\n",
    "- Must be instantiated from CitrinationClient\n",
    "\n",
    "**SearchClient**\n",
    "- Provides tools to search for relevant data & datasets\n",
    "- Must be instantiated from CitrinationClient"
   ]
  },
  {
   "cell_type": "markdown",
   "metadata": {},
   "source": [
    "## Step 1: Python package imports\n",
    "The following Python packages are needed to run this notebook, so we'll import them at the very beginning. Like many other languages (Java, C++, etc.), even if you have a package installed, you still need to explicitly import it."
   ]
  },
  {
   "cell_type": "code",
   "execution_count": null,
   "metadata": {},
   "outputs": [],
   "source": [
    "# Standard packages\n",
    "import os\n",
    "import numpy as np\n",
    "import matplotlib.pyplot as plt\n",
    "from time import sleep  # wait time\n",
    "from uuid import uuid4  # generate random strings\n",
    "\n",
    "# Workshop-specific tools\n",
    "from workshop_utils import getAPIKey\n",
    "\n",
    "# Citrine packages\n",
    "from citrination_client import *\n",
    "from citrination_client.views.data_view_builder import DataViewBuilder\n",
    "from pypif import pif\n"
   ]
  },
  {
   "cell_type": "markdown",
   "metadata": {},
   "source": [
    "## Step 2: Initialize the CitrinationClient\n",
    "In order to initialize the PyCC, you will need your **API key**, which should already be stored in your environment variables. There are some instructions available on the [workshop setup guide](https://citrineinformatics.github.io/ga-tech-workshop/setup.html). If you do not have your API key set up, we recommend pairing up with someone who has it working properly so that we can move forward through this exercise.\n",
    "\n",
    "### Q1: Initialize the client\n",
    "Follow [this link](https://github.com/CitrineInformatics/learn-citrination/blob/master/citrination_api_examples/clients_sequence/1_data_client_api_tutorial.ipynb) -- using the Jupyter notebook at that link as an example, set up the citrination client below."
   ]
  },
  {
   "cell_type": "code",
   "execution_count": null,
   "metadata": {},
   "outputs": [],
   "source": [
    "###\n",
    "# TASK: Set up the citrination client\n",
    "# TODO: Use the appropriate function from citrination_client to\n",
    "# initialize, assign this to the variable `client`\n",
    "###\n",
    "\n",
    "# -- NO NEED TO MODIFY THIS CODE -----\n",
    "# Helper function will load your API key\n",
    "api_key = getAPIKey()\n",
    "\n",
    "# -- WRITE YOUR CODE BELOW -----\n",
    "# solution-begin\n",
    "# site you want to access; we'll use the public site\n",
    "site = \"https://citrination.com\"\n",
    "client = CitrinationClient(\n",
    "    api_key=api_key,\n",
    "    site=site\n",
    ")\n",
    "# solution-end\n",
    "# -- SHOW THE RESULT -----\n",
    "client  # reveal attributes of the CitrinationClient\n"
   ]
  },
  {
   "cell_type": "markdown",
   "metadata": {},
   "source": [
    "The first argument into the `CitrinationClient` constructor is your API key, which you've stored in your system environment, and the second argument is your deployment URL. Different deployments have different API keys, so pay attention to what you have listed in your system environment and/or `~/.bash_profile`.\n",
    "\n",
    "**Key takeaway**: Never expose your API key in your code."
   ]
  },
  {
   "cell_type": "markdown",
   "metadata": {},
   "source": [
    "## Step 3: DataClient\n",
    "The [`DataClient`](https://github.com/CitrineInformatics/python-citrination-client/blob/master/citrination_client/data/client.py) is used to create new datasets and upload data to datasets on Citrination. Once the base client is initialized, the `DataClient` can be easily accessed using the `.data` attribute of the `CitrinationClient`. We will start with the `DataClient` to create a new dataset and upload data.\n",
    "\n",
    "### Q2: Initialize the data client\n",
    "Still using [learn-citrination](https://github.com/CitrineInformatics/learn-citrination/blob/master/citrination_api_examples/clients_sequence/1_data_client_api_tutorial.ipynb) tutorial, initialize the data client, and provide it as the variable `data_client`."
   ]
  },
  {
   "cell_type": "code",
   "execution_count": null,
   "metadata": {},
   "outputs": [],
   "source": [
    "###\n",
    "# TASK: Initialize the data client\n",
    "# TODO: Access the DataClient through the .data attribute\n",
    "###\n",
    "\n",
    "# -- WRITE YOUR CODE BELOW -----\n",
    "# solution-begin\n",
    "data_client = client.data\n",
    "# solution-end\n",
    "# -- SHOW THE RESULT -----\n",
    "data_client  # reveal methods\n"
   ]
  },
  {
   "cell_type": "markdown",
   "metadata": {},
   "source": [
    "### Create a dataset\n",
    "Before you can upload data, you have to create an empty dataset to store the files in. The `create_dataset()` method of the `DataClient` does exactly this and returns a [`Dataset`](https://github.com/CitrineInformatics/python-citrination-client/blob/master/citrination_client/data/dataset.py) object. The method has the following inputs:\n",
    "\n",
    "* `name`: A string for the name of the dataset. It cannot be the same as that of an existing dataset that you own.\n",
    "* `description`: A string for the description of the dataset.\n",
    "* `public`: A Boolean indicating to make the dataset public or not (`default=False`).\n",
    "\n",
    "We will now create a dataset for the band gaps of various materials.\n",
    "\n",
    "### Q3: Create an empty dataset\n",
    "Complete the code below to create an empty dataset."
   ]
  },
  {
   "cell_type": "code",
   "execution_count": null,
   "metadata": {},
   "outputs": [],
   "source": [
    "###\n",
    "# TASK: Create an empty dataset\n",
    "# TODO: Create a name and description for your dataset.\n",
    "# uncomment the code below to begin\n",
    "###\n",
    "\n",
    "# -- UNCOMMENT AND MODIFY THIS CODE -----\n",
    "# task-begin\n",
    "# base_name = ???\n",
    "# data_desc = ???\n",
    "# task-end\n",
    "# solution-begin\n",
    "base_name = 'test'\n",
    "data_desc = 'Test dataset for GATW'\n",
    "# solution-end\n",
    "\n",
    "# -- NO NEED TO MODIFY THIS -----\n",
    "# To avoid name clashes, we add a random string\n",
    "random_string = str(uuid4())[:6]\n",
    "data_name = base_name + random_string\n",
    "\n",
    "# Create the dataset on Citrination using the create_dataset() method\n",
    "dataset = data_client.create_dataset(\n",
    "    name=data_name,\n",
    "    description=data_desc,\n",
    "    public=False\n",
    ")\n",
    "# Check dataset\n",
    "if dataset is not None:\n",
    "    print(\"Dataset created\")\n"
   ]
  },
  {
   "cell_type": "markdown",
   "metadata": {},
   "source": [
    "Once you've created the `Dataset` object, you can obtain the dataset ID from the `.id` attribute of `Dataset`. You will need this ID for subsequent operations.\n",
    "\n",
    "### Q4: Access your dataset ID\n",
    "Still using [learn-citrination](https://github.com/CitrineInformatics/learn-citrination/blob/master/citrination_api_examples/clients_sequence/1_data_client_api_tutorial.ipynb), retrieve the dataset id and assign it to the variable `dataset_id`."
   ]
  },
  {
   "cell_type": "code",
   "execution_count": null,
   "metadata": {},
   "outputs": [],
   "source": [
    "###\n",
    "# TASK: Access your dataset ID\n",
    "# TODO: Obtain the ID of the dataset using the attribute\n",
    "###\n",
    "\n",
    "# -- WRITE YOUR CODE BELOW -----\n",
    "# task-begin\n",
    "# TODO: Determine how to obtain the id from `dataset`\n",
    "dataset_id = 0\n",
    "# task-end\n",
    "# solution-begin\n",
    "dataset_id = dataset.id\n",
    "# solution-end\n",
    "\n",
    "# -- NO NEED TO MODIFY BELOW -----\n",
    "# Special string formatting in Python\n",
    "print('The dataset ID for \"{}\" is {}.'.format(data_name, dataset_id))\n",
    "print('Dataset URL: {}/datasets/{}'.format(site, dataset_id))\n"
   ]
  },
  {
   "cell_type": "markdown",
   "metadata": {},
   "source": [
    "If you click on the above URL, it will take you to the dataset on Citrination, which at this point should be empty. Jupyter will automatically render URLs—nifty!"
   ]
  },
  {
   "cell_type": "markdown",
   "metadata": {},
   "source": [
    "### Upload data to a dataset\n",
    "The `upload()` method of the `DataClient` allows you to upload a file or a directory to a dataset. The method has the following inputs:\n",
    "\n",
    "* `dataset_id`: The ID of the dataset to which you will be uploading data. (We just found this!)\n",
    "* `source_path`: The path to the file or directory on your machine that you want to upload.\n",
    "\n",
    "*Note*: Any file format can be uploaded, but the current `CitrinationClient` (v5.2.0) only supports the ingestion (i.e. processing) of PIF files.\n",
    "\n",
    "### Q5: Upload data to your dataset\n",
    "Complete the following code; make sure you have downloaded the example `pycc_intro_pif.json` file, and placed in in a folder called `data/` -- this is the data we will upload."
   ]
  },
  {
   "cell_type": "code",
   "execution_count": null,
   "metadata": {},
   "outputs": [],
   "source": [
    "###\n",
    "# TASK: Upload data to your dataset\n",
    "# TODO: Use the dataset_id you obtained above to upload the data\n",
    "###\n",
    "\n",
    "# Specify file path and call the upload() method\n",
    "# os.path.join() is needed for Windows/Mac compatibility\n",
    "source_path = os.path.join('data', 'pycc_intro_pif.json')\n",
    "\n",
    "# -- UNCOMMENT AND COMPLETE THIS CODE -----\n",
    "# solution-begin\n",
    "# upload_result = data_client.upload(\n",
    "#     dataset_id = ???\n",
    "#     source_path = ???\n",
    "# )\n",
    "# solution-end\n",
    "# solution-begin\n",
    "upload_result = data_client.upload(\n",
    "    dataset_id=dataset_id,\n",
    "    source_path=source_path\n",
    ")\n",
    "# solution-end\n",
    "\n",
    "# -- NO NEED TO MODIFY BELOW -----\n",
    "# Boolean; True if none fail\n",
    "print('Successful upload? {}'.format(upload_result.successful()))\n",
    "\n",
    "# Check ingest status with a loop; not required, but very useful!\n",
    "while (True):\n",
    "    ingest_status = data_client.get_ingest_status(dataset_id=dataset_id)\n",
    "\n",
    "    if (ingest_status == 'Finished'):\n",
    "        print('Ingestion complete!')\n",
    "        print('Dataset URL: {}/datasets/{}'.format(site, dataset_id))\n",
    "        break\n",
    "    else:\n",
    "        print('Waiting for data ingest...')\n",
    "        sleep(10)\n"
   ]
  },
  {
   "cell_type": "markdown",
   "metadata": {},
   "source": [
    "**Verify**: If you go back to the dataset in the UI and refresh the page, you should find it populated with PIF records!"
   ]
  },
  {
   "cell_type": "markdown",
   "metadata": {},
   "source": [
    "## Step 4: DataViewsClient\n",
    "Data views provide the configuration necessary in order to perform data analysis and machine learning (ML). We will demonstrate this functionality using our band gaps dataset, where we will create a data view with a ML model that takes a chemical formula as input and predicts the band gap as an output: \n",
    "\n",
    "$$ \\text{Chemical formula (inorganic descriptor)} \\longrightarrow \\boxed{\\text{ML Model}} \\longrightarrow \\text{Band gap (real descriptor)} $$\n",
    "\n",
    "The [`DataViewsClient`](https://github.com/CitrineInformatics/python-citrination-client/blob/master/citrination_client/views/client.py) can be accessed as an attribute of the main `CitrinationClient` with the `.data_views` attribute. **Completing this step will train a machine learning model, which you can then use to do useful work!**\n",
    "\n",
    "### Q6: Access the DataViewsClient\n",
    "Use the [data views tutorial](https://github.com/CitrineInformatics/learn-citrination/blob/master/citrination_api_examples/clients_sequence/2_data_views_client_api_tutorial.ipynb) to learn how to complete the following."
   ]
  },
  {
   "cell_type": "code",
   "execution_count": null,
   "metadata": {},
   "outputs": [],
   "source": [
    "###\n",
    "# TASK: Initialize the data client\n",
    "# TODO: Use the correct attribute of `client` to access the views client\n",
    "###\n",
    "\n",
    "# task-begin\n",
    "# -- MODIFY THIS CODE -----\n",
    "views_client = None\n",
    "# task-end\n",
    "# solution-begin\n",
    "views_client = client.data_views\n",
    "# solution-end\n",
    "\n",
    "# -- NO NEED TO MODIFY BELOW -----\n",
    "views_client  # reveal methods\n"
   ]
  },
  {
   "cell_type": "markdown",
   "metadata": {},
   "source": [
    "### DataViewBuilder\n",
    "\n",
    "*Note: From here, the API syntax gets a bit more complicated. Please take your time, and do ask questions if you get stuck.*\n",
    "\n",
    "The [`DataViewBuilder`](https://github.com/CitrineInformatics/python-citrination-client/blob/master/citrination_client/views/data_view_builder.py) class handles the configuration for data views and returns a configuration object that is an input for the data views client. The configuration specifies:\n",
    "* The datasets you want to include.\n",
    "* The ML model you want to use. \n",
    "* Which properties you want to use as descriptors. \n",
    "\n",
    "Some of the important parameters to note are:\n",
    "\n",
    "* `dataset_ids`: An array of strings, one for each dataset ID that should be included in the view.\n",
    "* `descriptors`: A descriptor instance, which is one of `{RealDescriptor, InorganicDescriptor, OrganicDescriptor, CategoricalDescriptor, AlloyCompositionDescriptor}`.\n",
    "    * *Note*: Chemical formulas for the API take the key `\"formula\"`.\n",
    "    * *Note*: The output is formatted as `\"Property [property name]\"`\n",
    "    * *Note*: Strings are **case-sensitive!**\n",
    "* `roles`: A role for each descriptor, as a string, which is one of `{'input', 'output', 'latentVariable', 'ignored'}`.\n",
    "\n",
    "### Q7: Configure a dataview\n",
    "Use the [data views tutorial](https://github.com/CitrineInformatics/learn-citrination/blob/master/citrination_api_examples/clients_sequence/2_data_views_client_api_tutorial.ipynb) and follow the instructions below to complete the following."
   ]
  },
  {
   "cell_type": "code",
   "execution_count": null,
   "metadata": {},
   "outputs": [],
   "source": [
    "###\n",
    "# TASK: Configure a dataview\n",
    "# TODO: Pass the following variables to RealDescriptor()\n",
    "# and add_descriptor() to complete the code.\n",
    "###\n",
    "\n",
    "# -- NO NEED TO MODIFY THIS -----\n",
    "# Create a DataViewBuilder object and set dataset_ids\n",
    "view_builder = DataViewBuilder()\n",
    "view_builder.dataset_ids(dataset_ids=[dataset_id])\n",
    "\n",
    "# Define an inorganic chemical formula input descriptor\n",
    "# InorganicDescriptor(key=, threshold=)\n",
    "desc_formula = InorganicDescriptor(\n",
    "    key=\"formula\",\n",
    "    threshold=1.0\n",
    ")\n",
    "# Add the descriptor to the DataViewBuilder\n",
    "# and specify that it's an input\n",
    "view_builder.add_descriptor(\n",
    "    descriptor=desc_formula,\n",
    "    role=\"input\"\n",
    ")\n",
    "\n",
    "# Define a Property Band gap output with units of eV\n",
    "# RealDescriptor(key=, lower_bound=, upper_bound=, units=)\n",
    "property_key = \"Property Band gap\"\n",
    "\n",
    "# task-begin\n",
    "# -- UNCOMMENT AND FINISH THIS CODE -----\n",
    "# desc_bg = RealDescriptor(\n",
    "#     key = ???,\n",
    "#     lower_bound = ???,\n",
    "#     upper_bound = ???,\n",
    "#     units = ???\n",
    "# )\n",
    "# Add the descriptor to the DataViewBuilder\n",
    "# and specify that it's an output\n",
    "# view_builder.add_descriptor(\n",
    "#     descriptor = ???,\n",
    "#     role = ???\n",
    "# )\n",
    "# task-end\n",
    "# solution-begin\n",
    "desc_bg = RealDescriptor(\n",
    "    key=property_key,\n",
    "    lower_bound=0,\n",
    "    upper_bound=100,\n",
    "    units=\"eV\"\n",
    ")\n",
    "\n",
    "view_builder.add_descriptor(\n",
    "    descriptor=desc_bg,\n",
    "    role=\"output\"\n",
    ")\n",
    "# solution-end\n",
    "\n",
    "# -- NO NEED TO MODIFY BELOW -----\n",
    "\n",
    "# Build the configuration once all the pieces are in place\n",
    "view_config = view_builder.build()\n",
    "view_config  # Inspect the configuration\n"
   ]
  },
  {
   "cell_type": "markdown",
   "metadata": {},
   "source": [
    "### Create a view\n",
    "After obtaining your customized configuration, you can create a data view from the configuration you built. The `create()` method for the `DataViewsClient` takes as input:\n",
    "* `configuration`: A view configuration, like the template you created above.\n",
    "* `name`: A name for the data view (must be unique among your data views).\n",
    "* `description`: A description for the data view.\n",
    "\n",
    "and returns the ID for the data view, which you will need for subsequent analyses.\n",
    "\n",
    "### Q8: Create a dataview\n",
    "Use the [data views tutorial](https://github.com/CitrineInformatics/learn-citrination/blob/master/citrination_api_examples/clients_sequence/2_data_views_client_api_tutorial.ipynb) and follow the instructions below to complete the following.\n"
   ]
  },
  {
   "cell_type": "code",
   "execution_count": null,
   "metadata": {},
   "outputs": [],
   "source": [
    "###\n",
    "# TASK: Create a dataview\n",
    "# TODO: Uncomment and finish the code below\n",
    "###\n",
    "\n",
    "# -- UNCOMMENT AND COMPLETE THE CODE BELOW\n",
    "# task-begin\n",
    "# Specify the view name and description\n",
    "# To avoid name clashes, include: + random_string\n",
    "# random_string = str(uuid4())[:6]\n",
    "# view_name = ???\n",
    "# view_desc = ???\n",
    "\n",
    "# Create the data view using the create() method.\n",
    "# The configuration is the final object from the previous cell.\n",
    "# view_id = views_client.create(\n",
    "#     configuration = ???,\n",
    "#     name = ???,\n",
    "#     description = ???\n",
    "# )\n",
    "# task-end\n",
    "# solution-begin\n",
    "random_string = str(uuid4())[:6]\n",
    "view_name = \"test_view\" + random_string\n",
    "view_desc = \"Test dataview for GATW\"\n",
    "\n",
    "# Create the data view using the create() method.\n",
    "# The configuration is the final object from the previous cell.\n",
    "view_id = views_client.create(\n",
    "    configuration=view_config,\n",
    "    name=view_name,\n",
    "    description=view_desc\n",
    ")\n",
    "# solution-end\n",
    "\n",
    "# -- NO NEED TO MODIFY BELOW -----\n",
    "\n",
    "# Check status of view services in a loop\n",
    "while (True):\n",
    "    view_status = views_client.get_data_view_service_status(\n",
    "        data_view_id=view_id)\n",
    "\n",
    "    # Design and Predict are most important endpoints to check\n",
    "    if (view_status.experimental_design.ready and\n",
    "            view_status.predict.event.normalized_progress == 1.0):\n",
    "        print(\"Data view ready!\")\n",
    "        print(\"Data view URL: {}/data_views/{}\".format(site, view_id))\n",
    "        break\n",
    "    else:\n",
    "        print(\"Waiting for data view services...\")\n",
    "        sleep(10)\n"
   ]
  },
  {
   "cell_type": "markdown",
   "metadata": {},
   "source": [
    "Clicking the above URL will take you to the data view you just created on your deployment of Citrination. From that page, you can inspect the model reports, and use **Predict** and **Design** functionality, just as if you had trained a model through the website."
   ]
  },
  {
   "cell_type": "markdown",
   "metadata": {},
   "source": [
    "## Step 5: ModelsClient\n",
    "Once a data view has been created and our ML models have been trained, we can use the [`ModelsClient`](https://github.com/CitrineInformatics/python-citrination-client/blob/master/citrination_client/models/client.py) to access the **Predict** and **Design** endpoints. We will demonstrate the Predict endpoint here and save the Design endpoint for a later tutorial. \n",
    "\n",
    "The `ModelsClient` can be accessed through the `.models` attribute of the main `CitrinationClient`.\n",
    "\n",
    "### Q9: Access the models client\n",
    "Complete the code below using the `CitrinationClient` object you initialized at the beginning of this exercise."
   ]
  },
  {
   "cell_type": "code",
   "execution_count": null,
   "metadata": {},
   "outputs": [],
   "source": [
    "###\n",
    "# TASK: Acces the models client\n",
    "# TODO: Access the ModelsClient through the .models attribute\n",
    "###\n",
    "\n",
    "# -- WRITE YOUR CODE BELOW -----\n",
    "# solution-begin\n",
    "models_client = client.models\n",
    "# solution-end\n",
    "\n",
    "# -- NO NEED TO MODIFY BELOW -----\n",
    "models_client  # reveal methods\n"
   ]
  },
  {
   "cell_type": "markdown",
   "metadata": {},
   "source": [
    "With access to the models client, we have a wide variety of functions available to us. The following sections demonstrate these functions.\n",
    "\n",
    "### Predict\n",
    "Predictions through the `ModelsClient` can be made using the `predict()` method, which takes as inputs:\n",
    "* `data_view_id`: The ID for the data view containing the ML model to use for prediction.\n",
    "* `candidates`: A list of candidates (each as a `dict`) to make predictions on.\n",
    "\n",
    "The method returns a `list` of [`PredictionResult`](https://github.com/CitrineInformatics/python-citrination-client/blob/master/citrination_client/models/prediction_result.py) objects, one for each output `Property`."
   ]
  },
  {
   "cell_type": "code",
   "execution_count": null,
   "metadata": {},
   "outputs": [],
   "source": [
    "view_status = models_client.get_data_view_service_status(view_id)\n",
    "view_status.predict.ready\n"
   ]
  },
  {
   "cell_type": "markdown",
   "metadata": {},
   "source": [
    "If the status above returns `True`, then the model is ready to make predictions."
   ]
  },
  {
   "cell_type": "code",
   "execution_count": null,
   "metadata": {},
   "outputs": [],
   "source": [
    "# Input parameters for prediction on a candidate material.\n",
    "candidate_formula = 'CdTe'  # choose your favorite compound; uncomment this line!\n",
    "candidates = [{'formula': candidate_formula}]\n",
    "\n",
    "# Make a prediction using the predict() method\n",
    "predict_results = models_client.predict(\n",
    "    data_view_id=view_id,\n",
    "    candidates=candidates\n",
    ")\n",
    "predict_results  # reveal methods\n"
   ]
  },
  {
   "cell_type": "markdown",
   "metadata": {},
   "source": [
    "For each `PredictionResult`, the `get_value()` method takes in a `key` for the `Property` name and returns a [`PredictedValue`](https://github.com/CitrineInformatics/python-citrination-client/blob/master/citrination_client/models/predicted_value.py) object."
   ]
  },
  {
   "cell_type": "code",
   "execution_count": null,
   "metadata": {},
   "outputs": [],
   "source": [
    "# Get the predicted value and uncertainty.\n",
    "# We defined property_key earlier\n",
    "predict_value = predict_results[0].get_value(key=property_key)\n",
    "print('{0} has a predicted {1} of {2:.4f} +/- {3:.4f}.'.format(\n",
    "    candidate_formula,\n",
    "    predict_value.key,\n",
    "    predict_value.value,\n",
    "    predict_value.loss))\n"
   ]
  },
  {
   "cell_type": "markdown",
   "metadata": {},
   "source": [
    "### Data inspection: t-SNE\n",
    "t-SNE is short for t-Distributed Stochastic Neighbor Embedding. This technique was developed about [a decade ago](https://lvdmaaten.github.io/tsne/) ([simpler explanation](https://www.analyticsvidhya.com/blog/2017/01/t-sne-implementation-r-python/)) and it's a powerful projection tool because nearby points in high dimensional space remain close in 2D while distant points remain far apart. Therefore, t-SNE plots are helpful for identifying clusters and structures in your data. We employ t-SNE as a *dimensionality reduction* technique to project the data onto 2 dimensions for ease of visualization.\n",
    "\n",
    "A [`Tsne`](http://citrineinformatics.github.io/python-citrination-client/modules/models/tsne.html) object contains many [`Projection`](http://citrineinformatics.github.io/python-citrination-client/modules/models/tsne.html) objects (one for each output `Property`) with the following properties:\n",
    "* `xs`: A list of $x$ values of the projection.\n",
    "* `ys`: A list of $y$ values of the projection.\n",
    "* `responses`: A list of $z$ (`Property`) values of the projection.\n",
    "* `tags`: A list of tags for the projected points.\n",
    "* `uids`: A list of record UIDs for the projected points.\n",
    "\n",
    "You can create the t-SNE plot from the coordinates and values. Further analysis with t-SNE is performed in a later part of the workshop ([05_vis_exercise](./05_vis_exercise.ipynb))."
   ]
  },
  {
   "cell_type": "code",
   "execution_count": null,
   "metadata": {},
   "outputs": [],
   "source": [
    "# Get the Tsne object\n",
    "tsne = models_client.tsne(view_id)\n",
    "\n",
    "# Get first output Property in dict_keys object\n",
    "projection_key = list(tsne.projections())[0]\n",
    "\n",
    "# Get the t-SNE projection from the key\n",
    "projection = tsne.get_projection(projection_key)\n",
    "max_index, max_value = (np.argmax(projection.responses),\n",
    "                        max(projection.responses))\n",
    "\n",
    "print('Highest band gap material: \\t{0}.'.format(projection.tags[max_index]))\n",
    "print('It has projected coordinates: \\t({0:.3f}, {1:.3f}).'.format(\n",
    "    projection.xs[max_index],\n",
    "    projection.ys[max_index]))\n"
   ]
  },
  {
   "cell_type": "markdown",
   "metadata": {},
   "source": [
    "Once the t-SNE data has been generated, we can use it for plotting."
   ]
  },
  {
   "cell_type": "code",
   "execution_count": null,
   "metadata": {},
   "outputs": [],
   "source": [
    "# Plot results\n",
    "fig, ax = plt.subplots()\n",
    "plt.plot(\n",
    "    projection.xs[max_index], projection.ys[max_index],\n",
    "    marker=\"o\",\n",
    "    markersize=7,\n",
    "    color=\"red\",\n",
    "    zorder=0\n",
    ")\n",
    "plt.scatter(projection.xs, projection.ys, c=projection.responses)\n",
    "ax.set_aspect(aspect='equal', adjustable='datalim')\n",
    "plt.colorbar(label='Band gap (eV)')\n",
    "plt.show()\n"
   ]
  },
  {
   "cell_type": "markdown",
   "metadata": {},
   "source": [
    "We will discuss `matplotlib` and visualizing in Python later in the workshop."
   ]
  },
  {
   "cell_type": "markdown",
   "metadata": {},
   "source": [
    "## Step 6: SearchClient—OPTIONAL\n",
    "The [`SearchClient`](https://github.com/CitrineInformatics/python-citrination-client/blob/master/citrination_client/search/client.py) can be used to search for and filter datasets on Citrination based on a **query language** that you construct. This query language is quite sophisticated, so we will only give a brief introduction below.\n",
    "\n",
    "First, we can access the `SearchClient` through the `.search` attribute of the main `CitrinationClient`."
   ]
  },
  {
   "cell_type": "code",
   "execution_count": null,
   "metadata": {},
   "outputs": [],
   "source": [
    "###\n",
    "# TASK: Initialize the data client\n",
    "# TODO: Access the SearchClient through the .search attribute\n",
    "###\n",
    "\n",
    "# -- UNCOMMENT AND FINISH THE CODE BELOW\n",
    "# search_client = ???\n",
    "\n",
    "# -- NO NEED TO MODIFY BELOW -----\n",
    "search_client  # reveal methods\n"
   ]
  },
  {
   "cell_type": "markdown",
   "metadata": {},
   "source": [
    "### Query language\n",
    "Each of the methods above will execute search by submitting a [query](https://github.com/CitrineInformatics/python-citrination-client/blob/master/citrination_client/search/core/query/base_returning_query.py) against Citrination. In this demo, we will search for PIF records, and so we will construct a [`PifSystemReturningQuery`](https://github.com/CitrineInformatics/python-citrination-client/blob/master/citrination_client/search/pif/query/pif_system_returning_query.py) as input to the `pif_search()` method. The structure of the query will resemble the following:\n",
    "\n",
    "![Query structure](https://raw.githubusercontent.com/CitrineInformatics/learn-citrination/master/citrination_api_examples/fig/query_structure.png \"Query structure\")\n",
    "\n",
    "As you can see, there are many different query objects (black and orange) that one can construct to narrow the search. Each one has a different set of parameters to query against. You'll notice that the most nested object is a [`Filter`](https://github.com/CitrineInformatics/python-citrination-client/blob/master/citrination_client/search/core/query/filter.py) (blue) that performs the matching.\n",
    "\n",
    "First, let's just see if we can get all the PIFs in the dataset. We'll include everything except the `system` information from above."
   ]
  },
  {
   "cell_type": "code",
   "execution_count": null,
   "metadata": {},
   "outputs": [],
   "source": [
    "### FINISH THE CODE BELOW; replace ??? ###\n",
    "\n",
    "# Search within the dataset you created above by filtering the ID\n",
    "# Size can be anything less than 10000.\n",
    "system_query = PifSystemReturningQuery(\n",
    "    size=999,\n",
    "    query=DataQuery(\n",
    "        dataset=DatasetQuery(\n",
    "            id=Filter(\n",
    "                equal=???))))\n",
    "\n",
    "#---------------------------#\n",
    "\n",
    "query_result = search_client.pif_search(system_query)\n",
    "print(\"Found {} total PIFs in dataset {}.\".format(\n",
    "    query_result.total_num_hits, \n",
    "    dataset_id))\n",
    "\n",
    "# Depending on what you put for size, this number may differ.\n",
    "pif_hits = query_result.hits\n",
    "print(\"{} PIFs were returned.\".format(len(pif_hits)))"
   ]
  },
  {
   "cell_type": "markdown",
   "metadata": {},
   "source": [
    "Now let's restrict our search to only binary oxides within this dataset. We've constructed the query for you; you just have to run the cell below."
   ]
  },
  {
   "cell_type": "code",
   "execution_count": null,
   "metadata": {},
   "outputs": [],
   "source": [
    "# Search within the dataset you created above for binary oxides\n",
    "system_query = PifSystemReturningQuery(\n",
    "    size=999,\n",
    "    query=DataQuery(\n",
    "        dataset=DatasetQuery(\n",
    "            id=Filter(\n",
    "                equal=dataset_id)),\n",
    "        system=PifSystemQuery(\n",
    "            chemical_formula=ChemicalFieldQuery(\n",
    "                filter=ChemicalFilter(\n",
    "                    equal=\"?xOy\")))))\n",
    "\n",
    "query_result = search_client.pif_search(system_query)\n",
    "print(\"Found {} total PIFs in dataset {}.\".format(\n",
    "    query_result.total_num_hits, \n",
    "    dataset_id))\n",
    "print(\"The first PIF is:\\n{}\".format(pif.dumps(query_result.hits[0], indent=4)))"
   ]
  },
  {
   "cell_type": "markdown",
   "metadata": {},
   "source": [
    "## Conclusion\n",
    "This concludes the Intro to PyCC tutorial. You should now feel comfortable:\n",
    "* Initializing the PyCC and accessing its sub-clients.\n",
    "* Creating new datasets and uploading data through the API.\n",
    "* Training ML models and submitting prediction queries.\n",
    "\n",
    "More API tutorial notebooks can be found on our [`learn-citrination`](https://github.com/CitrineInformatics/learn-citrination/tree/master/citrination_api_examples) GitHub repo."
   ]
  }
 ],
 "metadata": {
  "kernelspec": {
   "display_name": "Python 3",
   "language": "python",
   "name": "python3"
  },
  "language_info": {
   "codemirror_mode": {
    "name": "ipython",
    "version": 3
   },
   "file_extension": ".py",
   "mimetype": "text/x-python",
   "name": "python",
   "nbconvert_exporter": "python",
   "pygments_lexer": "ipython3",
   "version": "3.7.3"
  }
 },
 "nbformat": 4,
 "nbformat_minor": 4
}
