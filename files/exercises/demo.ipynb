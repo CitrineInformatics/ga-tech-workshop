{
 "cells": [
  {
   "cell_type": "markdown",
   "metadata": {},
   "source": [
    "#  Demo Notebook\n",
    "The purpose of this notebook is to demo some features of Jupyter. Notebooks are helpful for writing *literate* code; software that's easy to read and understand.\n",
    "\n",
    "Jupyter allows one to interleave *formatted text* (for communicating) and *executable code* (for programming)."
   ]
  },
  {
   "cell_type": "markdown",
   "metadata": {},
   "source": [
    "## Do some math\n",
    "How fast does a plane fly from SFO to BOS?\n",
    "\n",
    "**Reference values:**\n",
    "\n",
    "| Time | 6 hr 35 min | [search](https://www.google.com/search?ei=BzpxXYOBKqO-0PEPsKGckAQ&q=flight+from+boston+to+sfo+duration&oq=flight+from+boston+to+sfo+duration&gs_l=psy-ab.3..33i22i29i30l2.2256.4111..4283...0.2..1.100.767.8j1......0....1..gws-wiz.......0i71j0j0i22i30j0i8i13i30.-y4WRENqNWE&ved=0ahUKEwjDoN-dj7rkAhUjHzQIHbAQB0IQ4dUDCAs&uact=5) |\n",
    "\n",
    "| Distance | 4340 km | [search](https://www.google.com/search?ei=DTpxXe4N4uL0A7DQlugP&q=distance+from+boston+to+sfo+duration&oq=distance+from+boston+to+sfo+duration&gs_l=psy-ab.3...58484.59591..59710...0.2..0.84.603.9......0....1..gws-wiz.......0i71.8TUqlXnN8m8&ved=0ahUKEwiuyKOgj7rkAhViMX0KHTCoBf0Q4dUDCAs&uact=5) |\n",
    "\n",
    "| Speed of Sound | 343 m/s |"
   ]
  },
  {
   "cell_type": "code",
   "execution_count": null,
   "metadata": {},
   "outputs": [],
   "source": [
    "time_hours = 6 + 35 / 60\n",
    "time_seconds = time_hours * 3600 \n",
    "distance_meters = 4340 * 1e3\n",
    "\n",
    "speed_m_s = distance_meters / time_seconds\n",
    "speed_sound = 343 # m / s\n",
    "\n",
    "mach = speed_m_s / speed_sound\n",
    "mach"
   ]
  },
  {
   "cell_type": "markdown",
   "metadata": {},
   "source": [
    "The cruise speed of a Boeing 747 is about `Mach = 0.85`; the mach number we estimated is much too low. When we fly, we waste a lot of time waiting at the gate and taxiing -- let's assume that time is spent at rest. Let's estimate how much time we're spending at zero-speed."
   ]
  },
  {
   "cell_type": "markdown",
   "metadata": {},
   "source": [
    "$$M_{t} = \\frac{\\text{Distance}}{\\text{Flight time} * \\text{Speed of Sound}} = 0.85$$\n",
    "\n",
    "$$\\text{Flight time} = \\text{Total time} - \\text{Wasted time}$$\n",
    "\n",
    "$$\\text{Wasted time} = \\text{Total time} - \\frac{\\text{Distance}}{M_t * \\text{Speed of Sound}}$$"
   ]
  },
  {
   "cell_type": "code",
   "execution_count": null,
   "metadata": {},
   "outputs": [],
   "source": [
    "mach_true = 0.85\n",
    "wasted_seconds = time_seconds - distance_meters / (mach_true * speed_sound)\n",
    "wasted_hours = wasted_seconds / 3600\n",
    "wasted_hours"
   ]
  },
  {
   "cell_type": "markdown",
   "metadata": {},
   "source": [
    "If we could fly at cruise speed the whole way, we could save a couple hours! Much of this time is spend taxiing and climbing."
   ]
  }
 ],
 "metadata": {
  "kernelspec": {
   "display_name": "Python 3",
   "language": "python",
   "name": "python3"
  },
  "language_info": {
   "codemirror_mode": {
    "name": "ipython",
    "version": 3
   },
   "file_extension": ".py",
   "mimetype": "text/x-python",
   "name": "python",
   "nbconvert_exporter": "python",
   "pygments_lexer": "ipython3",
   "version": "3.7.3"
  }
 },
 "nbformat": 4,
 "nbformat_minor": 4
}
