{
 "cells": [
  {
   "cell_type": "markdown",
   "metadata": {},
   "source": [
    "![Banner logo](https://raw.githubusercontent.com/CitrineInformatics/community-tools/master/templates/fig/citrine_banner_2.png \"Banner logo\")"
   ]
  },
  {
   "cell_type": "markdown",
   "metadata": {},
   "source": [
    "## Exercises in Machine Learning\n",
    "\n",
    "*Authors: Zach del Rosario (zdelrosario@citrine.io)*\n",
    "\n",
    "The _primary_ purpose of this notebook is to help you *not get fooled by machine learning*! As Drew Conway notes, possessing hacking skills and substantive experience -- but having no math or statistics background -- puts one in the [danger zone](http://drewconway.com/zia/2013/3/26/the-data-science-venn-diagram). While we can't possibly cover *everything* you need in a single workshop, this exercise will highlight some of the challenges of doing machine learning well. \n",
    "\n",
    "Once we've \"eaten our vegetables\", we'll be ready to start using machine learning to study materials science problems. We'll use the [Agrawal et al. (2014) IMMI](https://citrination.com/datasets/150670/show_search?searchMatchOption=fuzzyMatch) dataset to study the relationship between alloy composition and fatigue strength.\n",
    "\n",
    "In this exercise, you will:\n",
    "\n",
    "* Use scikit-learn to fit regression models to data\n",
    "* Use cross-validation to help avoid *underfitting* and *overfitting* of data\n",
    "* Train a machine learning model to predict the fatigue strength of metal alloys\n",
    "* Learn about additional topics for further study\n",
    "\n",
    "Tips:\n",
    "\n",
    "* This exercise will make heavy use of [scikit-learn](https://scikit-learn.org/stable/); you can find lots of useful info on the [documentation site](https://scikit-learn.org/stable/documentation.html)."
   ]
  },
  {
   "cell_type": "code",
   "execution_count": 1,
   "metadata": {},
   "outputs": [],
   "source": [
    "# Setup\n",
    "import numpy as np\n",
    "import pandas as pd\n",
    "\n",
    "# Model training tools\n",
    "from sklearn.linear_model import LinearRegression\n",
    "from sklearn.preprocessing import PolynomialFeatures\n",
    "from sklearn.metrics import mean_squared_error\n",
    "from sklearn.model_selection import cross_validate\n",
    "from sklearn.metrics.scorer import make_scorer\n",
    "\n",
    "# For jupyter-matplotlib compatibility\n",
    "%matplotlib inline\n",
    "import matplotlib\n",
    "import matplotlib.pyplot as plt\n",
    "\n",
    "# Custom tools\n",
    "from workshop_utils import formulas2df\n",
    "\n",
    "# Agrawal data from previous exercise\n",
    "filename_data = \"./agrawal_data.csv\"\n",
    "\n",
    "# Helper functions\n",
    "def nde(y_true, y_pred):\n",
    "    \"\"\"Non-dimensional Model Error\n",
    "    \"\"\"\n",
    "    mse = mean_squared_error(y_true, y_pred)\n",
    "    response_std = np.std(y_true)\n",
    "    \n",
    "    return np.sqrt(mse) / response_std\n",
    "\n",
    "nde_score = make_scorer(nde)\n",
    "\n",
    "def add_noise(function, sigma = 0.1, seed = 101):\n",
    "    \"\"\"Add noise to deterministic functions\n",
    "    \"\"\"\n",
    "    def new_function(x):\n",
    "        np.random.seed(seed)\n",
    "        y = function(x)\n",
    "        return y + sigma * np.random.normal(size = y.shape)\n",
    "    \n",
    "    return new_function\n",
    "\n",
    "# Reference points for regression examples\n",
    "X_ref = np.atleast_2d(np.linspace(-1, +1, num = 100)).T\n",
    "# Reference models\n",
    "fcn_1 = lambda x: (0.3 * x**2 + 1.0 * x + 2).flatten()\n",
    "fcn_1_noisy = add_noise(fcn_1)\n",
    "fcn_2 = lambda x: (-2.0 * x**3 + 0.4 * x**2 + 1.0 * x + 2).flatten()\n",
    "fcn_2_noisy = add_noise(fcn_2, sigma = 0.2)"
   ]
  },
  {
   "cell_type": "markdown",
   "metadata": {},
   "source": [
    "## Primer: The Key Ideas\n",
    "First we'll cover some key ideas on simple functions. These are not 'real' data, but the simplicity of the examples will allow us to focus on concepts.\n",
    "\n",
    "Here I generate some data from a simple polynomial."
   ]
  },
  {
   "cell_type": "code",
   "execution_count": 2,
   "metadata": {},
   "outputs": [],
   "source": [
    "## Ground-truth data; no noise\n",
    "X_c = np.atleast_2d(np.linspace(-1, +1, num = 10)).T\n",
    "Y_1 = fcn_1(X_c)"
   ]
  },
  {
   "cell_type": "markdown",
   "metadata": {},
   "source": [
    "We will fit a simple [linear regression](https://en.wikipedia.org/wiki/Linear_regression) to these data. To do this, we'll use the implementation `LinearRegression()` from scikit-learn. To start, we'll assume that the data were generated from an underlying rule (a _model_) of the form\n",
    "\n",
    "$$y = m x + b,$$\n",
    "\n",
    "and attempt to _learn_ the slope $m$ and intercept $b$ by _minimizing_ the difference between the measured values `Y_1` and the predicted values `Y_1_linear_pred`.\n",
    "\n",
    "### Q1: Fit a linear regression\n",
    "Use the scikit-learn function `LinearRegression()` to fit a line to the data `X_c, Y_1`.\n",
    "\n",
    "Note: You will have to [look up](https://scikit-learn.org/stable/modules/generated/sklearn.linear_model.LinearRegression.html) the documentation for `LinearRegression()`!"
   ]
  },
  {
   "cell_type": "code",
   "execution_count": 3,
   "metadata": {},
   "outputs": [
    {
     "name": "stdout",
     "output_type": "stream",
     "text": [
      "nde = 0.158\n",
      "(Should be nde = 0.158)\n"
     ]
    },
    {
     "name": "stderr",
     "output_type": "stream",
     "text": [
      "/Users/zdelrosario/anaconda3/lib/python3.7/site-packages/sklearn/linear_model/base.py:485: RuntimeWarning: internal gelsd driver lwork query error, required iwork dimension not returned. This is likely the result of LAPACK bug 0038, fixed in LAPACK 3.2.2 (released July 21, 2010). Falling back to 'gelss' driver.\n",
      "  linalg.lstsq(X, y)\n"
     ]
    },
    {
     "data": {
      "image/png": "[encoded data removed]",
      "text/plain": [
       "<Figure size 432x288 with 1 Axes>"
      ]
     },
     "metadata": {
      "needs_background": "light"
     },
     "output_type": "display_data"
    }
   ],
   "source": [
    "## TASK: Fit a line on X_c, Y_1\n",
    "reg_1_linear = None # TODO: Fit a scikit learn regression with LinearRegression()\n",
    "# solution-begin\n",
    "reg_1_linear = LinearRegression().fit(X_c, Y_1)\n",
    "# solution-end\n",
    "## Predict using fitted model\n",
    "Y_1_ref = fcn_1(X_ref)\n",
    "Y_1_linear_pred = reg_1_linear.predict(np.atleast_2d(X_ref)) # Predict using model from above\n",
    "\n",
    "## Compute mean-squared error\n",
    "nde_1 = nde(Y_1_ref, Y_1_linear_pred)\n",
    "print(\"nde = {0:4.3f}\".format(nde_1))\n",
    "print(\"(Should be nde = 0.158)\")\n",
    "\n",
    "## Plot results\n",
    "plt.figure()\n",
    "plt.plot(X_ref, Y_1_ref, 'k--', label = \"Truth\")\n",
    "plt.plot(X_c, Y_1, 'k.', label = \"Measured\")\n",
    "plt.plot(X_ref, Y_1_linear_pred, 'b-', label = \"Model\")\n",
    "plt.legend(loc = 0)\n",
    "plt.show()"
   ]
  },
  {
   "cell_type": "markdown",
   "metadata": {},
   "source": [
    "### Model Flexibility and _Underfitting_\n",
    "Note that we had to _assume_ a model-form in order to do the fitting. From the figure above, we can see that the model is close to the true values, but obviously lacks the curvature of the true data-generating process.\n",
    "\n",
    "This phenomenon -- failing to capture behavior in the data -- is called _underfitting_. This leads to error in the model, which is quantified above using _non-dimensional error_ (NDE). To reduce this contribution to error, we need to make our model _more flexible_ -- one way to do this is to add additional _features_ for the model to fit. "
   ]
  },
  {
   "cell_type": "markdown",
   "metadata": {},
   "source": [
    "### Featurization\n",
    "In this simple problem, we only have a single input $x$. However, we can generate additional _features_ on which to fit by considering additional _powers_ of $x$. For instance, we could fit a quadratic model\n",
    "\n",
    "$$y = b x^0 + m_1 x^1 + m_2 x^2.$$\n",
    "\n",
    "It is a _common misconception_ that linear regression _cannot fit nonlinear models_. Clearly the model above is nonlinear, but it is _linear in the features_ $[1, x^1, x^2]$. By providing the additional quadratic term, we give the model more flexibility to fit patterns in the data. Below, you will compute this quadratic featurization by using the `PolynomialFeatures()` function from scikit-learn.\n",
    "\n",
    "### Q2: Build polynomial features\n",
    "Use the scikit-learn function `PolynomialFeatures()` to build a matrix of values $[1, x^1, x^2]$.\n",
    "\n",
    "Note: You'll probably need to look up the documentation for `PolynomialFeatures()`!"
   ]
  },
  {
   "cell_type": "code",
   "execution_count": 4,
   "metadata": {},
   "outputs": [
    {
     "name": "stdout",
     "output_type": "stream",
     "text": [
      "[[ 1.         -1.          1.        ]\n",
      " [ 1.         -0.77777778  0.60493827]\n",
      " [ 1.         -0.55555556  0.30864198]\n",
      " [ 1.         -0.33333333  0.11111111]\n",
      " [ 1.         -0.11111111  0.01234568]\n",
      " [ 1.          0.11111111  0.01234568]\n",
      " [ 1.          0.33333333  0.11111111]\n",
      " [ 1.          0.55555556  0.30864198]\n",
      " [ 1.          0.77777778  0.60493827]\n",
      " [ 1.          1.          1.        ]]\n",
      "(Should be)\n",
      " [Constant,    Linear,     Quadratic]\n"
     ]
    }
   ],
   "source": [
    "## TASK: Featurize the data\n",
    "poly_2d = None  # TODO: Generate a transformation object using PolynomialFeatures()\n",
    "X_quad = X_c    # TODO: Compute featurization to add quadratic term\n",
    "# solution-begin\n",
    "poly_2d = PolynomialFeatures(2)\n",
    "X_quad = poly_2d.fit_transform(X_c)\n",
    "# solution-end\n",
    "print(X_quad)\n",
    "print(\"(Should be)\\n [Constant,    Linear,     Quadratic]\")"
   ]
  },
  {
   "cell_type": "markdown",
   "metadata": {},
   "source": [
    "Note that this featurization gives rows of $[x^0, x^1, x^2]$, as we discussed above. Now we can use the featurized data to fit a quadratic model, and can use the same transform to evaluate the model on the reference points `X_ref`.\n",
    "\n",
    "### Q3: Fit a quadratic regression\n",
    "Use the transform `poly_2d` and featurized data `X_quad` to fit and evaluate a quadratic model."
   ]
  },
  {
   "cell_type": "code",
   "execution_count": 5,
   "metadata": {},
   "outputs": [
    {
     "name": "stdout",
     "output_type": "stream",
     "text": [
      "nde = 0.000\n",
      "(Should be nde = 0.000)\n"
     ]
    },
    {
     "data": {
      "image/png": "[encoded data removed]",
      "text/plain": [
       "<Figure size 432x288 with 1 Axes>"
      ]
     },
     "metadata": {
      "needs_background": "light"
     },
     "output_type": "display_data"
    }
   ],
   "source": [
    "## TASK: Use your featurization to fit a new model\n",
    "Y_1_quad_pred = Y_1_ref # TODO: Compute predictions\n",
    "# solution-begin\n",
    "reg_1_quad = LinearRegression().fit(X_quad, Y_1)\n",
    "Y_1_quad_pred = reg_1_quad.predict(poly_2d.fit_transform(X_ref))\n",
    "# solution-end\n",
    "## Compute mean-squared error\n",
    "nde_1_quad = nde(Y_1_ref, Y_1_quad_pred)\n",
    "print(\"nde = {0:4.3f}\".format(nde_1_quad))\n",
    "print(\"(Should be nde = 0.000)\")\n",
    "\n",
    "## Plot results\n",
    "plt.figure()\n",
    "plt.plot(X_ref, Y_1_ref, 'k--', label = \"Truth\")\n",
    "plt.plot(X_c, Y_1, 'k.', label = \"Measured\")\n",
    "plt.plot(X_ref, Y_1_quad_pred, 'b-', label = \"Model\")\n",
    "plt.legend(loc = 0)\n",
    "plt.show()"
   ]
  },
  {
   "cell_type": "markdown",
   "metadata": {},
   "source": [
    "Here we can see the model fits the data _perfectly_, which is corroborated by `nde = 0.000`. This _suggests_ that we have successfully discovered the _exact_ rule that generated these data, which in _this special case happens to be true_.\n",
    "\n",
    "However, we will very rarely be able to fit the true function exactly. This is because real data tend to have _noise_, which corrupts the underlying function we are trying to learn."
   ]
  },
  {
   "cell_type": "markdown",
   "metadata": {},
   "source": [
    "### Noise and _Overfitting_\n",
    "Below, I generate data from the same model, but add a little bit of noise."
   ]
  },
  {
   "cell_type": "code",
   "execution_count": 6,
   "metadata": {},
   "outputs": [],
   "source": [
    "## Noisy data\n",
    "Y_1_noisy = fcn_1_noisy(X_c)"
   ]
  },
  {
   "cell_type": "markdown",
   "metadata": {},
   "source": [
    "First, try fitting a quadratic to these new data, and inspect the fit.\n",
    "\n",
    "### Q4: Fit a quadratic model to noisy data"
   ]
  },
  {
   "cell_type": "code",
   "execution_count": 7,
   "metadata": {},
   "outputs": [
    {
     "name": "stdout",
     "output_type": "stream",
     "text": [
      "nde = 0.139\n",
      "(Should be nde = 0.139)\n"
     ]
    },
    {
     "data": {
      "image/png": "[encoded data removed]",
      "text/plain": [
       "<Figure size 432x288 with 1 Axes>"
      ]
     },
     "metadata": {
      "needs_background": "light"
     },
     "output_type": "display_data"
    }
   ],
   "source": [
    "## TASK: Fit a model on X_1, Y_1_noisy\n",
    "Y_1_noisy_pred = Y_1_ref # TODO: Compute predictions\n",
    "# solution-begin\n",
    "reg_1_noisy = LinearRegression().fit(X_quad, Y_1_noisy)\n",
    "Y_1_noisy_pred = reg_1_noisy.predict(poly_2d.fit_transform(X_ref))\n",
    "# solution-end\n",
    "## Compute mean-squared error\n",
    "nde_1_noisy = nde(Y_1_ref, Y_1_noisy_pred)\n",
    "print(\"nde = {0:4.3f}\".format(nde_1_noisy))\n",
    "print(\"(Should be nde = 0.139)\")\n",
    "\n",
    "## Plot results\n",
    "plt.figure()\n",
    "plt.plot(X_ref, Y_1_ref, 'k--', label = \"True\")\n",
    "plt.plot(X_c, Y_1_noisy, 'k.', label = \"Measured\")\n",
    "plt.plot(X_ref, Y_1_noisy_pred, 'b-', label = \"Model\")\n",
    "plt.legend(loc = 0)\n",
    "plt.show()"
   ]
  },
  {
   "cell_type": "markdown",
   "metadata": {},
   "source": [
    "Here we can see that the fit is no longer perfect, despite coming from the \"same\" model. This is also reflected in the finite NDE value. Since we already know that a quadratic can fit the underlying function perfectly, underfitting is not the issue here. Instead, the error is increased due to the noise in the data.\n",
    "\n",
    "_However_, we have not yet seen a case of _overfitting_. To see that phenomenon, let's consider a slightly more complicated function."
   ]
  },
  {
   "cell_type": "code",
   "execution_count": 8,
   "metadata": {},
   "outputs": [
    {
     "data": {
      "image/png": "[encoded data removed]",
      "text/plain": [
       "<Figure size 432x288 with 1 Axes>"
      ]
     },
     "metadata": {
      "needs_background": "light"
     },
     "output_type": "display_data"
    }
   ],
   "source": [
    "# Generate data from the true function\n",
    "Y_2_ref = fcn_2(X_ref)\n",
    "# Generate noisy data\n",
    "Y_2_noisy = fcn_2_noisy(X_c)\n",
    "\n",
    "plt.figure()\n",
    "plt.plot(X_ref, Y_2_ref, 'k--', label = \"True\")\n",
    "plt.plot(X_c, Y_2_noisy, 'k.', label = \"Measured\")\n",
    "plt.legend(loc = 0)\n",
    "plt.show()"
   ]
  },
  {
   "cell_type": "markdown",
   "metadata": {},
   "source": [
    "Here we can see a somewhat complicated function that is quite corrupted by noise. Below, I'm going to fit a number of polynomial models of different orders. In practice, we would like to _make a decision_ about what polynomial order to use. A sensible choice would be to pick the order that minimizes the error -- let's see which model accomplishes this."
   ]
  },
  {
   "cell_type": "code",
   "execution_count": 9,
   "metadata": {},
   "outputs": [
    {
     "data": {
      "image/png": "[encoded data removed]",
      "text/plain": [
       "<Figure size 432x288 with 1 Axes>"
      ]
     },
     "metadata": {
      "needs_background": "light"
     },
     "output_type": "display_data"
    }
   ],
   "source": [
    "# Fit and predict on same data\n",
    "def fit_poly(X, Y, order):\n",
    "    poly = PolynomialFeatures(order)\n",
    "    X_poly = poly.fit_transform(X)\n",
    "    \n",
    "    reg = LinearRegression().fit(X_poly, Y)\n",
    "    \n",
    "    return reg, poly\n",
    "\n",
    "Ord_all = list(range(15))\n",
    "Ord_plot = [1, 3, 9]\n",
    "Y_pred_c = np.zeros((len(Ord_all), X_c.shape[0]))\n",
    "Y_pred_ref = np.zeros((len(Ord_all), X_ref.shape[0]))\n",
    "NDE_c = np.zeros(len(Ord_all))\n",
    "NDE_ref = np.zeros(len(Ord_all))\n",
    "\n",
    "plt.figure()\n",
    "plt.plot(X_ref, Y_2_ref, 'k--')\n",
    "for i in range(len(Ord_all)):\n",
    "    # Fit model\n",
    "    reg, poly = fit_poly(X_c, Y_2_noisy, Ord_all[i])\n",
    "    # Predict on same data & on reference points\n",
    "    Y_pred_c[i] = reg.predict(poly.fit_transform(X_c))\n",
    "    Y_pred_ref[i] = reg.predict(poly.fit_transform(X_ref))\n",
    "    # Compute error *on same data* -> estimated error\n",
    "    NDE_c[i] = nde(Y_2_noisy, Y_pred_c[i])\n",
    "    # Compute error on reference points -> 'true' error\n",
    "    NDE_ref[i] = nde(Y_2_ref, Y_pred_ref[i])\n",
    "    \n",
    "    # Plot curve\n",
    "    if Ord_all[i] in Ord_plot:\n",
    "        plt.plot(X_ref, Y_pred_ref[i], label = \"Order = {}\".format(Ord_all[i]))\n",
    "plt.plot(X_c, Y_2_noisy, 'k.')\n",
    "plt.legend(loc = 0)\n",
    "plt.show()    "
   ]
  },
  {
   "cell_type": "markdown",
   "metadata": {},
   "source": [
    "Here I've selected just a few of the models to plot. We can see\n",
    "\n",
    "* The `Order = 1` case is underfit, like we saw in the example above\n",
    "* The `Order = 14` case curves tortuously to go through _every single point_; this is an example of _overfitting_\n",
    "* The `Order = 3` case is not perfect, but fairly close to the true (dashed) curve. This is a well-fit model.\n",
    "\n",
    "More generally, _overfitting_ is when the model fits to spurrious patterns in the data; essentially, we are fitting to noise, rather than signal. We would like to detect and avoid overfitting in practice! While we can see above some suspicious behavior based on the fitted curves, we might like a _quantitative_ way to compare models. We can do this with the NDE values, but there is a _subtle issue_ at play here.\n",
    "\n",
    "Let's compare the `NDE` values `Estimated` on only the available (noisy) data, and the error computed using evaluations from the `True` (noiseless) function."
   ]
  },
  {
   "cell_type": "code",
   "execution_count": 10,
   "metadata": {},
   "outputs": [
    {
     "data": {
      "image/png": "[encoded data removed]",
      "text/plain": [
       "<Figure size 432x288 with 1 Axes>"
      ]
     },
     "metadata": {
      "needs_background": "light"
     },
     "output_type": "display_data"
    }
   ],
   "source": [
    "plt.figure()\n",
    "plt.plot(Ord_all, NDE_c, label = 'Estimated')\n",
    "plt.plot(Ord_all, NDE_ref, label = 'True')\n",
    "plt.legend(loc = 0)\n",
    "plt.xlabel('Poly Order')\n",
    "plt.ylabel('ND Error')\n",
    "plt.show()"
   ]
  },
  {
   "cell_type": "markdown",
   "metadata": {},
   "source": [
    "Here we can see the `Estimated` and `True` error values _greatly diverge_. This is _highly problematic_ for two interrelated reasons:\n",
    "\n",
    "1. In practice, we would only have access to the `Estimated` curve, as the `True` curve relies on data we do not have.\n",
    "2. If we were to make a decision about `Poly Order` based on the `Estimated` curve, we would choose a much higher order than what would minimize the NDE in the `True` case.\n",
    "\n",
    "The underlying reason for the poor error estimate here is that _we are using the same data to both train and test the model_. We can improve our estimates for the error through various techniques; below, we will use the technique of _cross-validation_."
   ]
  },
  {
   "cell_type": "markdown",
   "metadata": {},
   "source": [
    "### Avoiding Optimistic Estimates: Cross-Validation\n",
    "[Cross-validation](https://en.wikipedia.org/wiki/Cross-validation_(statistics)) is a technique for estimating the error in a way that avoids the \"optimism\" we saw above. For the variant _k-fold cross-validation_, we split all our data into _folds_, and use these to build _training_ and _test_ sets. Generally:\n",
    "\n",
    "* _Training_ data are used to fit a model\n",
    "* _Test_ data are used to evaluate a model\n",
    "\n",
    "![CV schematic](https://upload.wikimedia.org/wikipedia/commons/1/1c/K-fold_cross_validation_EN.jpg)\n",
    "\n",
    "(Fabian Flock, via Wikimedia)\n",
    "\n",
    "In each of our $k$ iterations, we _do not allow_ the model to see a test fold, and fit the model only on the remaining data. We then compute our chosen error metric on the test fold. This gives us a less optimistic estimate for the error.\n",
    "\n",
    "This procedure is implemented in the scikit-learn function `cross_validate()`. Use this routine to estimate the NDE in the case where the polynomial order is `9`. You will have to choose a number of folds to run; while `5` to `10` is common, since we have so few data, you will need to use a smaller number of folds.\n",
    "\n",
    "### Q5: K-fold Cross-Validation\n",
    "Perform k-fold cross validation on the order `9` polynomial model using the scikit-learn function `cross_validate()`."
   ]
  },
  {
   "cell_type": "code",
   "execution_count": 11,
   "metadata": {},
   "outputs": [
    {
     "data": {
      "text/plain": [
       "{'fit_time': array([0.00070214, 0.00056076, 0.00047207]),\n",
       " 'score_time': array([0.00039792, 0.00031424, 0.00032997]),\n",
       " 'test_score': array([17.71380909,  5.52330235, 25.01551704]),\n",
       " 'train_score': array([9.80396622e-15, 1.03101715e-15, 1.79319959e-15])}"
      ]
     },
     "execution_count": 11,
     "metadata": {},
     "output_type": "execute_result"
    }
   ],
   "source": [
    "## TASK: Use cross_validate() on the 9th order model to estimate the NDE\n",
    "## Hint, you can pass the helper function `nde_score` (defined above) to cross_validate()\n",
    "# solution-begin\n",
    "reg9, poly9 = fit_poly(X_c, Y_2_noisy, 9)\n",
    "X_9 = poly9.fit_transform(X_c)\n",
    "\n",
    "scores = cross_validate(\n",
    "    reg9, X_9, Y_2_noisy,\n",
    "    cv = 3,\n",
    "    scoring = nde_score,\n",
    "    return_train_score = True\n",
    ")\n",
    "# solution-end\n",
    "scores"
   ]
  },
  {
   "cell_type": "markdown",
   "metadata": {},
   "source": [
    "The `train_score` values are quite optimistic, while the `test_score` values are *abysmal*.\n",
    "\n",
    "Below, I show results for performing k-fold cross validation across the same set of polynomial orders as above."
   ]
  },
  {
   "cell_type": "code",
   "execution_count": 12,
   "metadata": {},
   "outputs": [
    {
     "data": {
      "image/png": "[encoded data removed]",
      "text/plain": [
       "<Figure size 432x288 with 1 Axes>"
      ]
     },
     "metadata": {
      "needs_background": "light"
     },
     "output_type": "display_data"
    }
   ],
   "source": [
    "# task-begin\n",
    "# REDACTED....\n",
    "# task-end\n",
    "# solution-begin\n",
    "n_cv = 3\n",
    "NDE_cv_test_all = np.zeros((len(Ord_all), n_cv))\n",
    "NDE_cv_train_all = np.zeros((len(Ord_all), n_cv))\n",
    "\n",
    "plt.figure()\n",
    "\n",
    "for i in range(len(Ord_all)):\n",
    "    # Fit model\n",
    "    reg, poly = fit_poly(X_c, Y_2_noisy, Ord_all[i])\n",
    "    # Cross-validate\n",
    "    scores = cross_validate(\n",
    "        reg, poly.fit_transform(X_c), Y_2_noisy,\n",
    "        cv = n_cv,\n",
    "        scoring = nde_score,\n",
    "        return_train_score = True\n",
    "    )\n",
    "    NDE_cv_test_all[i] = scores['test_score']\n",
    "    NDE_cv_train_all[i] = scores['train_score']\n",
    "    # Plot all CV test instances\n",
    "    plt.plot([Ord_all[i]] * n_cv, NDE_cv_test_all[i], 'k.')\n",
    "NDE_cv_test = np.mean(NDE_cv_test_all, axis = 1)\n",
    "NDE_cv_train = np.mean(NDE_cv_train_all, axis = 1)\n",
    "\n",
    "plt.plot(Ord_all, NDE_cv_test, label = 'Test')\n",
    "plt.legend(loc = 0)\n",
    "plt.yscale('log')\n",
    "plt.xlabel('Poly Order')\n",
    "plt.ylabel('ND Error')\n",
    "plt.show()\n",
    "# solution-end"
   ]
  },
  {
   "cell_type": "markdown",
   "metadata": {},
   "source": [
    "Here we can see that the NDE takes reasonable values for order at or below `3`. Beyond this point, the NDE explodes as models begin to overfit wildly. These cross-validated error metrics would be far more informative for making a decision about polynomial order.\n",
    "\n",
    "Here we have just one tunable knob (polynomial order) that defines our model. More generally, these kinds of user-selected quantities are called [hyperparameters](https://en.wikipedia.org/wiki/Hyperparameter_(machine_learning)). Cross-validation and related techniques are key to _tuning hyperparameters_."
   ]
  },
  {
   "cell_type": "markdown",
   "metadata": {},
   "source": [
    "## Payoff: ML on Materials Data\n",
    "Now that we have learned some (but not _all_!) concepts about training machine learning models, we are finally ready to apply ML to a materials problem.\n",
    "\n",
    "### Q6: Load the Fatigue Strength data\n",
    "Load the Agrawal fatigue strength data from the earlier exercise. Its filename is stored in the variable `filename_data`. Make sure to load the data to a Pandas DataFrame, and name it `df_data`."
   ]
  },
  {
   "cell_type": "code",
   "execution_count": 13,
   "metadata": {},
   "outputs": [
    {
     "data": {
      "text/html": [
       "<div>\n",
       "<style scoped>\n",
       "    .dataframe tbody tr th:only-of-type {\n",
       "        vertical-align: middle;\n",
       "    }\n",
       "\n",
       "    .dataframe tbody tr th {\n",
       "        vertical-align: top;\n",
       "    }\n",
       "\n",
       "    .dataframe thead th {\n",
       "        text-align: right;\n",
       "    }\n",
       "</style>\n",
       "<table border=\"1\" class=\"dataframe\">\n",
       "  <thead>\n",
       "    <tr style=\"text-align: right;\">\n",
       "      <th></th>\n",
       "      <th>Unnamed: 0</th>\n",
       "      <th>Sample Number</th>\n",
       "      <th>Area Proportion of Inclusions Occurring in Discontinuous Array</th>\n",
       "      <th>Quenching Media Temperature (for Carburization)</th>\n",
       "      <th>Diffusion time</th>\n",
       "      <th>Fatigue Strength</th>\n",
       "      <th>Through Hardening Time</th>\n",
       "      <th>Cooling Rate for Tempering</th>\n",
       "      <th>Reduction Ratio (Ingot to Bar)</th>\n",
       "      <th>Normalizing Temperature</th>\n",
       "      <th>Diffusion Temperature</th>\n",
       "      <th>Carburization Time</th>\n",
       "      <th>Cooling Rate for Through Hardening</th>\n",
       "      <th>Area Proportion of Inclusions Deformed by Plastic Work</th>\n",
       "      <th>Tempering Temperature</th>\n",
       "      <th>Area Proportion of Isolated Inclusions</th>\n",
       "      <th>Tempering Time</th>\n",
       "      <th>Carburization Temperature</th>\n",
       "      <th>Through Hardening Temperature</th>\n",
       "      <th>chemical_formula</th>\n",
       "    </tr>\n",
       "  </thead>\n",
       "  <tbody>\n",
       "    <tr>\n",
       "      <th>0</th>\n",
       "      <td>0</td>\n",
       "      <td>228.0</td>\n",
       "      <td>0.0</td>\n",
       "      <td>30.0</td>\n",
       "      <td>0.0</td>\n",
       "      <td>451.0</td>\n",
       "      <td>30.0</td>\n",
       "      <td>24.0</td>\n",
       "      <td>530.0</td>\n",
       "      <td>870.0</td>\n",
       "      <td>30.0</td>\n",
       "      <td>0.0</td>\n",
       "      <td>8.0</td>\n",
       "      <td>0.02</td>\n",
       "      <td>550.0</td>\n",
       "      <td>0.01</td>\n",
       "      <td>60.0</td>\n",
       "      <td>30.0</td>\n",
       "      <td>845.0</td>\n",
       "      <td>Fe0.9759C0.004Mn0.0156Cu0.0005Si0.0022P0.00011...</td>\n",
       "    </tr>\n",
       "    <tr>\n",
       "      <th>1</th>\n",
       "      <td>1</td>\n",
       "      <td>193.0</td>\n",
       "      <td>0.0</td>\n",
       "      <td>30.0</td>\n",
       "      <td>0.0</td>\n",
       "      <td>631.0</td>\n",
       "      <td>30.0</td>\n",
       "      <td>24.0</td>\n",
       "      <td>510.0</td>\n",
       "      <td>870.0</td>\n",
       "      <td>30.0</td>\n",
       "      <td>0.0</td>\n",
       "      <td>8.0</td>\n",
       "      <td>0.04</td>\n",
       "      <td>550.0</td>\n",
       "      <td>0.03</td>\n",
       "      <td>60.0</td>\n",
       "      <td>30.0</td>\n",
       "      <td>855.0</td>\n",
       "      <td>Fe0.97088C0.004Mn0.0074Cu0.001Si0.0025P0.00014...</td>\n",
       "    </tr>\n",
       "    <tr>\n",
       "      <th>2</th>\n",
       "      <td>2</td>\n",
       "      <td>233.0</td>\n",
       "      <td>0.0</td>\n",
       "      <td>30.0</td>\n",
       "      <td>0.0</td>\n",
       "      <td>406.0</td>\n",
       "      <td>30.0</td>\n",
       "      <td>24.0</td>\n",
       "      <td>610.0</td>\n",
       "      <td>870.0</td>\n",
       "      <td>30.0</td>\n",
       "      <td>0.0</td>\n",
       "      <td>8.0</td>\n",
       "      <td>0.03</td>\n",
       "      <td>600.0</td>\n",
       "      <td>0.01</td>\n",
       "      <td>60.0</td>\n",
       "      <td>30.0</td>\n",
       "      <td>845.0</td>\n",
       "      <td>Fe0.97588C0.0038Mn0.0152Cu0.0007Si0.0027P0.000...</td>\n",
       "    </tr>\n",
       "    <tr>\n",
       "      <th>3</th>\n",
       "      <td>3</td>\n",
       "      <td>22.0</td>\n",
       "      <td>0.0</td>\n",
       "      <td>30.0</td>\n",
       "      <td>0.0</td>\n",
       "      <td>433.0</td>\n",
       "      <td>30.0</td>\n",
       "      <td>24.0</td>\n",
       "      <td>1740.0</td>\n",
       "      <td>865.0</td>\n",
       "      <td>30.0</td>\n",
       "      <td>0.0</td>\n",
       "      <td>24.0</td>\n",
       "      <td>0.10</td>\n",
       "      <td>550.0</td>\n",
       "      <td>0.00</td>\n",
       "      <td>60.0</td>\n",
       "      <td>30.0</td>\n",
       "      <td>865.0</td>\n",
       "      <td>Fe0.98575C0.0037Mn0.0072Cu0.0002Si0.0024P0.000...</td>\n",
       "    </tr>\n",
       "    <tr>\n",
       "      <th>4</th>\n",
       "      <td>4</td>\n",
       "      <td>240.0</td>\n",
       "      <td>0.0</td>\n",
       "      <td>30.0</td>\n",
       "      <td>0.0</td>\n",
       "      <td>385.0</td>\n",
       "      <td>30.0</td>\n",
       "      <td>24.0</td>\n",
       "      <td>610.0</td>\n",
       "      <td>870.0</td>\n",
       "      <td>30.0</td>\n",
       "      <td>0.0</td>\n",
       "      <td>8.0</td>\n",
       "      <td>0.03</td>\n",
       "      <td>650.0</td>\n",
       "      <td>0.01</td>\n",
       "      <td>60.0</td>\n",
       "      <td>30.0</td>\n",
       "      <td>845.0</td>\n",
       "      <td>Fe0.97588C0.0038Mn0.0152Cu0.0007Si0.0027P0.000...</td>\n",
       "    </tr>\n",
       "  </tbody>\n",
       "</table>\n",
       "</div>"
      ],
      "text/plain": [
       "   Unnamed: 0  Sample Number  \\\n",
       "0           0          228.0   \n",
       "1           1          193.0   \n",
       "2           2          233.0   \n",
       "3           3           22.0   \n",
       "4           4          240.0   \n",
       "\n",
       "   Area Proportion of Inclusions Occurring in Discontinuous Array  \\\n",
       "0                                                0.0                \n",
       "1                                                0.0                \n",
       "2                                                0.0                \n",
       "3                                                0.0                \n",
       "4                                                0.0                \n",
       "\n",
       "   Quenching Media Temperature (for Carburization)  Diffusion time  \\\n",
       "0                                             30.0             0.0   \n",
       "1                                             30.0             0.0   \n",
       "2                                             30.0             0.0   \n",
       "3                                             30.0             0.0   \n",
       "4                                             30.0             0.0   \n",
       "\n",
       "   Fatigue Strength  Through Hardening Time  Cooling Rate for Tempering  \\\n",
       "0             451.0                    30.0                        24.0   \n",
       "1             631.0                    30.0                        24.0   \n",
       "2             406.0                    30.0                        24.0   \n",
       "3             433.0                    30.0                        24.0   \n",
       "4             385.0                    30.0                        24.0   \n",
       "\n",
       "   Reduction Ratio (Ingot to Bar)  Normalizing Temperature  \\\n",
       "0                           530.0                    870.0   \n",
       "1                           510.0                    870.0   \n",
       "2                           610.0                    870.0   \n",
       "3                          1740.0                    865.0   \n",
       "4                           610.0                    870.0   \n",
       "\n",
       "   Diffusion Temperature  Carburization Time  \\\n",
       "0                   30.0                 0.0   \n",
       "1                   30.0                 0.0   \n",
       "2                   30.0                 0.0   \n",
       "3                   30.0                 0.0   \n",
       "4                   30.0                 0.0   \n",
       "\n",
       "   Cooling Rate for Through Hardening  \\\n",
       "0                                 8.0   \n",
       "1                                 8.0   \n",
       "2                                 8.0   \n",
       "3                                24.0   \n",
       "4                                 8.0   \n",
       "\n",
       "   Area Proportion of Inclusions Deformed by Plastic Work  \\\n",
       "0                                               0.02        \n",
       "1                                               0.04        \n",
       "2                                               0.03        \n",
       "3                                               0.10        \n",
       "4                                               0.03        \n",
       "\n",
       "   Tempering Temperature  Area Proportion of Isolated Inclusions  \\\n",
       "0                  550.0                                    0.01   \n",
       "1                  550.0                                    0.03   \n",
       "2                  600.0                                    0.01   \n",
       "3                  550.0                                    0.00   \n",
       "4                  650.0                                    0.01   \n",
       "\n",
       "   Tempering Time  Carburization Temperature  Through Hardening Temperature  \\\n",
       "0            60.0                       30.0                          845.0   \n",
       "1            60.0                       30.0                          855.0   \n",
       "2            60.0                       30.0                          845.0   \n",
       "3            60.0                       30.0                          865.0   \n",
       "4            60.0                       30.0                          845.0   \n",
       "\n",
       "                                    chemical_formula  \n",
       "0  Fe0.9759C0.004Mn0.0156Cu0.0005Si0.0022P0.00011...  \n",
       "1  Fe0.97088C0.004Mn0.0074Cu0.001Si0.0025P0.00014...  \n",
       "2  Fe0.97588C0.0038Mn0.0152Cu0.0007Si0.0027P0.000...  \n",
       "3  Fe0.98575C0.0037Mn0.0072Cu0.0002Si0.0024P0.000...  \n",
       "4  Fe0.97588C0.0038Mn0.0152Cu0.0007Si0.0027P0.000...  "
      ]
     },
     "execution_count": 13,
     "metadata": {},
     "output_type": "execute_result"
    }
   ],
   "source": [
    "## TASK: Load the Agrawal data from the file at filename_data\n",
    "# solution-begin\n",
    "df_data = pd.read_csv(filename_data)\n",
    "# solution-end\n",
    "df_data.head()"
   ]
  },
  {
   "cell_type": "markdown",
   "metadata": {},
   "source": [
    "### Simple featurization\n",
    "Alloy composition is encoded in a string in the column `chemical_formula`."
   ]
  },
  {
   "cell_type": "code",
   "execution_count": 18,
   "metadata": {},
   "outputs": [
    {
     "data": {
      "text/html": [
       "<div>\n",
       "<style scoped>\n",
       "    .dataframe tbody tr th:only-of-type {\n",
       "        vertical-align: middle;\n",
       "    }\n",
       "\n",
       "    .dataframe tbody tr th {\n",
       "        vertical-align: top;\n",
       "    }\n",
       "\n",
       "    .dataframe thead th {\n",
       "        text-align: right;\n",
       "    }\n",
       "</style>\n",
       "<table border=\"1\" class=\"dataframe\">\n",
       "  <thead>\n",
       "    <tr style=\"text-align: right;\">\n",
       "      <th></th>\n",
       "      <th>chemical_formula</th>\n",
       "    </tr>\n",
       "  </thead>\n",
       "  <tbody>\n",
       "    <tr>\n",
       "      <th>0</th>\n",
       "      <td>Fe0.9759C0.004Mn0.0156Cu0.0005Si0.0022P0.00011...</td>\n",
       "    </tr>\n",
       "    <tr>\n",
       "      <th>1</th>\n",
       "      <td>Fe0.97088C0.004Mn0.0074Cu0.001Si0.0025P0.00014...</td>\n",
       "    </tr>\n",
       "    <tr>\n",
       "      <th>2</th>\n",
       "      <td>Fe0.97588C0.0038Mn0.0152Cu0.0007Si0.0027P0.000...</td>\n",
       "    </tr>\n",
       "    <tr>\n",
       "      <th>3</th>\n",
       "      <td>Fe0.98575C0.0037Mn0.0072Cu0.0002Si0.0024P0.000...</td>\n",
       "    </tr>\n",
       "    <tr>\n",
       "      <th>4</th>\n",
       "      <td>Fe0.97588C0.0038Mn0.0152Cu0.0007Si0.0027P0.000...</td>\n",
       "    </tr>\n",
       "  </tbody>\n",
       "</table>\n",
       "</div>"
      ],
      "text/plain": [
       "                                    chemical_formula\n",
       "0  Fe0.9759C0.004Mn0.0156Cu0.0005Si0.0022P0.00011...\n",
       "1  Fe0.97088C0.004Mn0.0074Cu0.001Si0.0025P0.00014...\n",
       "2  Fe0.97588C0.0038Mn0.0152Cu0.0007Si0.0027P0.000...\n",
       "3  Fe0.98575C0.0037Mn0.0072Cu0.0002Si0.0024P0.000...\n",
       "4  Fe0.97588C0.0038Mn0.0152Cu0.0007Si0.0027P0.000..."
      ]
     },
     "execution_count": 18,
     "metadata": {},
     "output_type": "execute_result"
    }
   ],
   "source": [
    "df_data[['chemical_formula']].head()"
   ]
  },
  {
   "cell_type": "markdown",
   "metadata": {},
   "source": [
    "Fitting a linear regression _directly_ to this _string representation_ is not feasible -- these are not continuous values! Instead, we will _featurize_ the chemical formulas by representing each element fraction as a separate column.\n",
    "\n",
    "Note that doing this _programmatically_ is a bit tricky (it requires [regular expressions](https://en.wikipedia.org/wiki/Regular_expression)) -- I've written a simple parser to do this in a single function call. Feel free to inspect the code in `workshop_utils.py` if you'd like to see how this works! "
   ]
  },
  {
   "cell_type": "code",
   "execution_count": 14,
   "metadata": {},
   "outputs": [
    {
     "data": {
      "text/html": [
       "<div>\n",
       "<style scoped>\n",
       "    .dataframe tbody tr th:only-of-type {\n",
       "        vertical-align: middle;\n",
       "    }\n",
       "\n",
       "    .dataframe tbody tr th {\n",
       "        vertical-align: top;\n",
       "    }\n",
       "\n",
       "    .dataframe thead th {\n",
       "        text-align: right;\n",
       "    }\n",
       "</style>\n",
       "<table border=\"1\" class=\"dataframe\">\n",
       "  <thead>\n",
       "    <tr style=\"text-align: right;\">\n",
       "      <th></th>\n",
       "      <th>C</th>\n",
       "      <th>Cr</th>\n",
       "      <th>Cu</th>\n",
       "      <th>Fe</th>\n",
       "      <th>Mn</th>\n",
       "      <th>Mo</th>\n",
       "      <th>Ni</th>\n",
       "      <th>P</th>\n",
       "      <th>S</th>\n",
       "      <th>Si</th>\n",
       "    </tr>\n",
       "  </thead>\n",
       "  <tbody>\n",
       "    <tr>\n",
       "      <th>0</th>\n",
       "      <td>0.0040</td>\n",
       "      <td>0.0009</td>\n",
       "      <td>0.0005</td>\n",
       "      <td>0.97590</td>\n",
       "      <td>0.0156</td>\n",
       "      <td>0.0000</td>\n",
       "      <td>0.0006</td>\n",
       "      <td>0.00011</td>\n",
       "      <td>0.00019</td>\n",
       "      <td>0.0022</td>\n",
       "    </tr>\n",
       "    <tr>\n",
       "      <th>1</th>\n",
       "      <td>0.0040</td>\n",
       "      <td>0.0096</td>\n",
       "      <td>0.0010</td>\n",
       "      <td>0.97088</td>\n",
       "      <td>0.0074</td>\n",
       "      <td>0.0018</td>\n",
       "      <td>0.0024</td>\n",
       "      <td>0.00014</td>\n",
       "      <td>0.00028</td>\n",
       "      <td>0.0025</td>\n",
       "    </tr>\n",
       "    <tr>\n",
       "      <th>2</th>\n",
       "      <td>0.0038</td>\n",
       "      <td>0.0013</td>\n",
       "      <td>0.0007</td>\n",
       "      <td>0.97588</td>\n",
       "      <td>0.0152</td>\n",
       "      <td>0.0000</td>\n",
       "      <td>0.0003</td>\n",
       "      <td>0.00012</td>\n",
       "      <td>0.00000</td>\n",
       "      <td>0.0027</td>\n",
       "    </tr>\n",
       "    <tr>\n",
       "      <th>3</th>\n",
       "      <td>0.0037</td>\n",
       "      <td>0.0002</td>\n",
       "      <td>0.0002</td>\n",
       "      <td>0.98575</td>\n",
       "      <td>0.0072</td>\n",
       "      <td>0.0000</td>\n",
       "      <td>0.0002</td>\n",
       "      <td>0.00015</td>\n",
       "      <td>0.00020</td>\n",
       "      <td>0.0024</td>\n",
       "    </tr>\n",
       "    <tr>\n",
       "      <th>4</th>\n",
       "      <td>0.0038</td>\n",
       "      <td>0.0013</td>\n",
       "      <td>0.0007</td>\n",
       "      <td>0.97588</td>\n",
       "      <td>0.0152</td>\n",
       "      <td>0.0000</td>\n",
       "      <td>0.0003</td>\n",
       "      <td>0.00012</td>\n",
       "      <td>0.00000</td>\n",
       "      <td>0.0027</td>\n",
       "    </tr>\n",
       "  </tbody>\n",
       "</table>\n",
       "</div>"
      ],
      "text/plain": [
       "        C      Cr      Cu       Fe      Mn      Mo      Ni        P        S  \\\n",
       "0  0.0040  0.0009  0.0005  0.97590  0.0156  0.0000  0.0006  0.00011  0.00019   \n",
       "1  0.0040  0.0096  0.0010  0.97088  0.0074  0.0018  0.0024  0.00014  0.00028   \n",
       "2  0.0038  0.0013  0.0007  0.97588  0.0152  0.0000  0.0003  0.00012  0.00000   \n",
       "3  0.0037  0.0002  0.0002  0.98575  0.0072  0.0000  0.0002  0.00015  0.00020   \n",
       "4  0.0038  0.0013  0.0007  0.97588  0.0152  0.0000  0.0003  0.00012  0.00000   \n",
       "\n",
       "       Si  \n",
       "0  0.0022  \n",
       "1  0.0025  \n",
       "2  0.0027  \n",
       "3  0.0024  \n",
       "4  0.0027  "
      ]
     },
     "execution_count": 14,
     "metadata": {},
     "output_type": "execute_result"
    }
   ],
   "source": [
    "df_composition = formulas2df(df_data['chemical_formula'])\n",
    "X_compositions = df_composition.values\n",
    "Y_fatigue = df_data['Fatigue Strength']\n",
    "\n",
    "df_composition.head()"
   ]
  },
  {
   "cell_type": "code",
   "execution_count": 15,
   "metadata": {},
   "outputs": [
    {
     "data": {
      "text/plain": [
       "(437, 10)"
      ]
     },
     "execution_count": 15,
     "metadata": {},
     "output_type": "execute_result"
    }
   ],
   "source": [
    "X_compositions.shape"
   ]
  },
  {
   "cell_type": "markdown",
   "metadata": {},
   "source": [
    "Now we have ten physical features on which to fit our model.\n",
    "\n",
    "### Q7: Fit a linear model on alloy composition\n",
    "Cross-validate across the polynomial order and determine the optimal order for the model."
   ]
  },
  {
   "cell_type": "code",
   "execution_count": 16,
   "metadata": {},
   "outputs": [
    {
     "data": {
      "image/png": "[encoded data removed]",
      "text/plain": [
       "<Figure size 432x288 with 1 Axes>"
      ]
     },
     "metadata": {
      "needs_background": "light"
     },
     "output_type": "display_data"
    }
   ],
   "source": [
    "## TASK: Write your own code to sweep over polynomial orders, and fit a linear model to the \n",
    "## Agrawal fatigue strength data given in X_compositions and Y_fatigue. Feel free to use\n",
    "## any of the code above in writing your machine learning code.\n",
    "# solution-begin\n",
    "Ord_all = [0,1,2,3]\n",
    "n_cv = 5\n",
    "NDE_cv_test_all = np.zeros((len(Ord_all), n_cv))\n",
    "NDE_cv_train_all = np.zeros((len(Ord_all), n_cv))\n",
    "\n",
    "plt.figure()\n",
    "\n",
    "for i in range(len(Ord_all)):\n",
    "    # Fit model\n",
    "    reg, poly = fit_poly(X_compositions, Y_fatigue, Ord_all[i])\n",
    "    # Cross-validate\n",
    "    scores = cross_validate(\n",
    "        reg, poly.fit_transform(X_compositions), Y_fatigue,\n",
    "        cv = n_cv,\n",
    "        scoring = nde_score,\n",
    "        return_train_score = True\n",
    "    )\n",
    "    NDE_cv_test_all[i] = scores['test_score']\n",
    "    NDE_cv_train_all[i] = scores['train_score']\n",
    "    # Plot all CV test instances\n",
    "    plt.plot([Ord_all[i]] * n_cv, NDE_cv_test_all[i], 'k.')\n",
    "NDE_cv_test = np.mean(NDE_cv_test_all, axis = 1)\n",
    "NDE_cv_train = np.mean(NDE_cv_train_all, axis = 1)\n",
    "\n",
    "plt.plot(Ord_all, NDE_cv_test, label = 'Test')\n",
    "plt.legend(loc = 0)\n",
    "plt.yscale('log')\n",
    "plt.xlabel('Poly Order')\n",
    "plt.ylabel('ND Error')\n",
    "plt.show()\n",
    "# solution-end"
   ]
  },
  {
   "cell_type": "code",
   "execution_count": 17,
   "metadata": {},
   "outputs": [
    {
     "name": "stdout",
     "output_type": "stream",
     "text": [
      "ord_min = 2\n",
      "NDE_min = 0.3762770089971318\n"
     ]
    }
   ],
   "source": [
    "ind_min = np.argmin(NDE_cv_test)\n",
    "print(\"ord_min = {}\".format(Ord_all[ind_min]))\n",
    "print(\"NDE_min = {}\".format(NDE_cv_test[ind_min]))"
   ]
  },
  {
   "cell_type": "markdown",
   "metadata": {},
   "source": [
    "### Going Further\n",
    "As mentioned above, we cannot possibly cover every topic relevant to machine learning in this workshop. The following are some concepts you may choose to study as a follow-up to this exercise.\n",
    "\n",
    "__Process Characteristics__: Above we have only used the chemical compositions to predict fatigue strength; however, we also have processing characterisic data available. You can use your Pandas skills to combine compositions and processing data into a single array `X_both`, and use all these data to fit a model.\n",
    "\n",
    "__Advanced featurization with Matminer__: [Matminer](https://hackingmaterials.lbl.gov/matminer/) is a set of tools for data-mining on chemicals data. Their library provides tools to produce _descriptors_ (features) based on chemical compositions.\n",
    "\n",
    "__Feature Selection__: One 'hyperparameter' we have not explicitly mentioned is _the choice of features_ for the model. While additional features do provide more information, they also increase the number of parameters (internal coefficients) the model needs to learn. This can lead to overfitting in the same way we saw above. To help combat this issue, data scientists will perform [feature selection](https://en.wikipedia.org/wiki/Feature_selection) to choose the \"most informative\" features from a set, which can improve model generalizability.\n",
    "\n",
    "__Different Models__: We considered only simple polynomial models in this tutorial, but there exist many other model types. Some highlights:\n",
    "\n",
    "* [Gaussian processes](https://en.wikipedia.org/wiki/Gaussian_process)\n",
    "* [Random forests](https://en.wikipedia.org/wiki/Random_forest)\n",
    "* [Neural networks](https://en.wikipedia.org/wiki/Artificial_neural_network)"
   ]
  },
  {
   "cell_type": "markdown",
   "metadata": {},
   "source": [
    "### Using Models\n",
    "In the final part of the workshop, we will discuss how to _use_ these machine learning models to do useful work. Stay tuned!\n"
   ]
  }
 ],
 "metadata": {
  "kernelspec": {
   "display_name": "Python 3",
   "language": "python",
   "name": "python3"
  },
  "language_info": {
   "codemirror_mode": {
    "name": "ipython",
    "version": 3
   },
   "file_extension": ".py",
   "mimetype": "text/x-python",
   "name": "python",
   "nbconvert_exporter": "python",
   "pygments_lexer": "ipython3",
   "version": "3.7.3"
  }
 },
 "nbformat": 4,
 "nbformat_minor": 4
}
