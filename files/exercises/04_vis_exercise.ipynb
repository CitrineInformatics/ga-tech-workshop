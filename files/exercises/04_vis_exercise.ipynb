{
 "cells": [
  {
   "cell_type": "markdown",
   "metadata": {},
   "source": [
    "![Banner logo](https://raw.githubusercontent.com/CitrineInformatics/community-tools/master/templates/fig/citrine_banner_2.png \"Banner logo\")"
   ]
  },
  {
   "cell_type": "markdown",
   "metadata": {},
   "source": [
    "## Visualization in Python\n",
    "\n",
    "*Authors: Zach del Rosario (zdelrosario@citrine.io)*\n",
    "\n",
    "### Learning outcomes\n",
    "By working through this notebook, you will be able to:\n",
    "\n",
    "* Re-create a number of different plots using `matplotlib`\n",
    "* Draw conclusions about data using histograms, boxplots, and scatterplots\n",
    "\n",
    "Tips:\n",
    "* *Google is your friend*: If you don't know how to do something and can't find it in the examples, *first* try searching for something related on the web. If you can't find it after 5 minutes of searching on your own, then try asking a question. Learning how to search for your own answers is a valuable skill, and you are *expected* to have to look stuff up in this exercise.\n",
    "* Not all the code here will make sense if you're new to python. That's ok! I've tried to scaffold the exercises to focus on `matplotlib` syntax, rather than more general python syntax."
   ]
  },
  {
   "cell_type": "code",
   "execution_count": null,
   "metadata": {},
   "outputs": [],
   "source": [
    "# Setup\n",
    "import numpy as np\n",
    "import pandas as pd\n",
    "from sklearn.manifold import TSNE\n",
    "# For jupyter-matplotlib compatibility\n",
    "%matplotlib inline\n",
    "import matplotlib\n",
    "import matplotlib.pyplot as plt\n",
    "\n",
    "# External filename handling\n",
    "filename_alloy_data = \"./data/wiki_comp.csv\"\n",
    "\n",
    "# Load data\n",
    "df_data = pd.read_csv(filename_alloy_data)\n",
    "# Extract the series number\n",
    "df_data = df_data.assign(\n",
    "    series = list(map(lambda s: s.replace(\"V-\", \"\")[0], df_data.alloy))\n",
    ")"
   ]
  },
  {
   "cell_type": "markdown",
   "metadata": {},
   "source": [
    "When studying a new dataset, it's always a good idea to do some simple 'first checks'"
   ]
  },
  {
   "cell_type": "code",
   "execution_count": null,
   "metadata": {},
   "outputs": [],
   "source": [
    "# Check the data's shape\n",
    "df_data.shape"
   ]
  },
  {
   "cell_type": "markdown",
   "metadata": {},
   "source": [
    "We have 137 observations on 28 variables. Because there are so many variables, these data will be difficult to visualize!"
   ]
  },
  {
   "cell_type": "code",
   "execution_count": null,
   "metadata": {},
   "outputs": [],
   "source": [
    "# Glimpse the data\n",
    "df_data.head()"
   ]
  },
  {
   "cell_type": "markdown",
   "metadata": {},
   "source": [
    "This is a dataset about Aluminum alloys, scraped from [Wikipedia](https://en.wikipedia.org/wiki/Aluminium_alloy#Wrought_alloys). The `alloy` column identifies the specific alloy, `al_percent` gives the percent Aluminum content (by weight), `series` gives the alloy series number (defining \"families\" of alloys), and the remaining columns give other alloying elements. From the \"head\" of the data (the first few observations) we can see the alloying elements are *sparse* -- many of the entries are zero."
   ]
  },
  {
   "cell_type": "markdown",
   "metadata": {},
   "source": [
    "### Learning `matplotlib` syntax by doing"
   ]
  },
  {
   "cell_type": "markdown",
   "metadata": {},
   "source": [
    "### Q1: Reproduce This Plot\n",
    "Use `matplotlib` to reproduce the following histogram. Make sure to learn how to change *all* of the following:\n",
    "* Font sizes\n",
    "* Number of histogram bins\n",
    "* Axis limits\n",
    "* Axis labels"
   ]
  },
  {
   "cell_type": "code",
   "execution_count": null,
   "metadata": {},
   "outputs": [],
   "source": [
    "## Generate histogram\n"
   ]
  },
  {
   "cell_type": "markdown",
   "metadata": {},
   "source": [
    "<img src=\"./incl/03_q1_target.png\">\n",
    "<!-- task-end -->"
   ]
  },
  {
   "cell_type": "markdown",
   "metadata": {},
   "source": [
    "### Q2: What does this histogram tell you?\n",
    "List _at least 3_ observations conclusions about the data you can draw, based on the histogram above.\n"
   ]
  },
  {
   "cell_type": "markdown",
   "metadata": {},
   "source": [
    "Next, we'll study how alloy composition varies across the various Al series."
   ]
  },
  {
   "cell_type": "code",
   "execution_count": null,
   "metadata": {},
   "outputs": [],
   "source": [
    "series = [str(i) for i in range(1, 9)]\n",
    "mean_percentages = [np.mean(df_data[df_data.series == s][\"al_percent\"]) for s in series] # List comprehension\n",
    "print(\"Series, Mean Percent\")\n",
    "for ind in range(len(series)):\n",
    "    print(\"     {0:},   {1:2.1f}\".format(series[ind], mean_percentages[ind]))"
   ]
  },
  {
   "cell_type": "markdown",
   "metadata": {},
   "source": [
    "This shows that Series 3 and 6 have the highest `Al` content, on average. However, we can use *boxplots* to gain a fair bit more insight into the data.\n",
    "\n",
    "### Q3: Reproduce This Plot\n",
    "Use `matplotlib` to reproduce the following [boxplot](https://towardsdatascience.com/understanding-boxplots-5e2df7bcbd51).\n",
    "\n",
    "Hints:\n",
    "* You may re-use lessons you learned from Q1\n",
    "* plt.boxplot() can take a list of different data sets to produce multiple boxplots on the same figure. You can use a *list comprehension* like in `mean_percentages` above to create such a list, and pass it to plt.boxplot()"
   ]
  },
  {
   "cell_type": "code",
   "execution_count": null,
   "metadata": {},
   "outputs": [],
   "source": [
    "## Generate boxplot\n"
   ]
  },
  {
   "cell_type": "markdown",
   "metadata": {},
   "source": [
    "<img src=\"./incl/03_q3_target.png\">\n",
    "<!-- task-end -->"
   ]
  },
  {
   "cell_type": "markdown",
   "metadata": {},
   "source": [
    "### Q4: What does this plot tell you?\n",
    "List _at least 3_ observations conclusions about the data you can draw, based on the boxplots above.\n"
   ]
  },
  {
   "cell_type": "markdown",
   "metadata": {},
   "source": [
    "Studying *all* the variables at once is difficult, as we cannot directly visualize 26-dimensional space! Instead, we will use [t-SNE](https://lvdmaaten.github.io/tsne/) to *reduce dimensionality* while preserving low-dimensional structure, in this case clusters of data."
   ]
  },
  {
   "cell_type": "code",
   "execution_count": null,
   "metadata": {},
   "outputs": [],
   "source": [
    "X_series = df_data[\"series\"]\n",
    "## Reduce dimensionality\n",
    "X_orig = df_data.drop([\"alloy\", \"al_percent\", \"series\"], axis = 1).values\n",
    "# np.random.seed(101) # t-SNE is a random algorithm; set seed for reproducibility\n",
    "X_tsne = TSNE(\n",
    "    n_components = 2\n",
    ").fit_transform(X_orig)\n",
    "\n",
    "print(X_orig.shape)\n",
    "print(X_tsne.shape)"
   ]
  },
  {
   "cell_type": "markdown",
   "metadata": {},
   "source": [
    "We can see the modified data `X_tsne` has just two variables, but the same number of observations as `X_orig`. We can use these two coordinates to plot the data and look for patterns."
   ]
  },
  {
   "cell_type": "markdown",
   "metadata": {},
   "source": [
    "### Q5: Reproduce This Plot\n",
    "Use `matplotlib` to reproduce the following scatterplot on the two t-SNE coordinates in `X_tsne`.\n",
    "\n",
    "Hints:\n",
    "* You may re-use lessons you learned from Q1 and Q2\n",
    "* You will need to introduce a colormap to mark the alloys from different series. [This tutorial](https://gist.github.com/jakevdp/8a992f606899ac24b711) may be helpful\n",
    "* I use the colormap `viridis` below; it is a [perceptually uniform](http://bids.github.io/colormap/) colorscale that avoids introducing erroneous patterns in visualizations"
   ]
  },
  {
   "cell_type": "markdown",
   "metadata": {},
   "source": [
    "<img src=\"./incl/03_q5_target.png\">\n",
    "<!-- task-end -->"
   ]
  },
  {
   "cell_type": "markdown",
   "metadata": {},
   "source": [
    "### Q6: What does this plot tell you?\n",
    "List _at least 3_ observations conclusions about the data you can draw, based on the t-SNE scatterplot above.\n"
   ]
  },
  {
   "cell_type": "code",
   "execution_count": null,
   "metadata": {},
   "outputs": [],
   "source": [
    "## Generate scatterplot\n"
   ]
  }
 ],
 "metadata": {
  "kernelspec": {
   "display_name": "Python 3",
   "language": "python",
   "name": "python3"
  },
  "language_info": {
   "codemirror_mode": {
    "name": "ipython",
    "version": 3
   },
   "file_extension": ".py",
   "mimetype": "text/x-python",
   "name": "python",
   "nbconvert_exporter": "python",
   "pygments_lexer": "ipython3",
   "version": "3.7.3"
  }
 },
 "nbformat": 4,
 "nbformat_minor": 2
}
