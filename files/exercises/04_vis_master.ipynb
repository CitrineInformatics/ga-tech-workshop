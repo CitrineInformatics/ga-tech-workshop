{
 "cells": [
  {
   "cell_type": "markdown",
   "metadata": {},
   "source": [
    "![Banner logo](https://raw.githubusercontent.com/CitrineInformatics/community-tools/master/templates/fig/citrine_banner_2.png \"Banner logo\")"
   ]
  },
  {
   "cell_type": "markdown",
   "metadata": {},
   "source": [
    "## Visualization in Python\n",
    "\n",
    "*Authors: Zach del Rosario (zdelrosario@citrine.io)*\n",
    "\n",
    "### Learning outcomes\n",
    "By working through this notebook, you will be able to:\n",
    "\n",
    "* Re-create a number of different plots using `matplotlib`\n",
    "* Draw conclusions about data using histograms, boxplots, and scatterplots\n",
    "\n",
    "Tips:\n",
    "* *Google is your friend*: If you don't know how to do something and can't find it in the examples, *first* try searching for something related on the web. If you can't find it after 5 minutes of searching on your own, please do ask a question. Learning how to search for your own answers is a valuable skill, and you are *expected* to have to look stuff up in this exercise.\n",
    "* Not all the code here will make sense if you're new to python. That's ok! I've tried to scaffold the exercises to focus on `matplotlib` syntax, rather than more general python syntax."
   ]
  },
  {
   "cell_type": "code",
   "execution_count": null,
   "metadata": {},
   "outputs": [],
   "source": [
    "# Setup\n",
    "import numpy as np\n",
    "import pandas as pd\n",
    "from sklearn.manifold import TSNE\n",
    "# For jupyter-matplotlib compatibility\n",
    "%matplotlib inline\n",
    "import matplotlib.pyplot as plt\n",
    "\n",
    "# External filename handling\n",
    "dir_incl = \"./incl/\"\n",
    "assignment_prefix = \"04_\"\n",
    "filename_alloy_data = \"./data/wiki_comp.csv\"\n",
    "\n",
    "# Load data\n",
    "df_data = pd.read_csv(filename_alloy_data)\n",
    "# Extract the series number\n",
    "df_data = df_data.assign(\n",
    "    series = list(map(lambda s: int(s.replace(\"V-\", \"\")[0]), df_data.alloy))\n",
    ")"
   ]
  },
  {
   "cell_type": "markdown",
   "metadata": {},
   "source": [
    "When studying a new dataset, it's always a good idea to do some simple 'first checks'"
   ]
  },
  {
   "cell_type": "code",
   "execution_count": null,
   "metadata": {},
   "outputs": [],
   "source": [
    "# Check the data's shape\n",
    "df_data.shape"
   ]
  },
  {
   "cell_type": "markdown",
   "metadata": {},
   "source": [
    "We have 137 observations on 28 variables. Because there are so many variables, these data will be difficult to visualize!"
   ]
  },
  {
   "cell_type": "code",
   "execution_count": null,
   "metadata": {},
   "outputs": [],
   "source": [
    "# Glimpse the data\n",
    "df_data.head()"
   ]
  },
  {
   "cell_type": "markdown",
   "metadata": {},
   "source": [
    "This is a dataset about Aluminum alloys, scraped from [Wikipedia](https://en.wikipedia.org/wiki/Aluminium_alloy#Wrought_alloys). The `alloy` column identifies the specific alloy, `al_percent` gives the percent Aluminum content (by weight), `series` gives the alloy series number (defining \"families\" of alloys), and the remaining columns give other alloying elements. From the \"head\" of the data (the first few observations) we can see the alloying elements are *sparse* -- many of the entries are zero."
   ]
  },
  {
   "cell_type": "markdown",
   "metadata": {},
   "source": [
    "### Learning `matplotlib` syntax by doing"
   ]
  },
  {
   "cell_type": "markdown",
   "metadata": {},
   "source": [
    "### Q1: Reproduce This Plot\n",
    "Use `matplotlib` to reproduce the following histogram. Use the [documentation](https://matplotlib.org/3.1.0/gallery/statistics/hist.html) to do so. Make sure to learn how to change *all* of the following:\n",
    "* Font sizes\n",
    "* Number of histogram bins\n",
    "* Axis limits\n",
    "* Axis labels"
   ]
  },
  {
   "cell_type": "code",
   "execution_count": null,
   "metadata": {},
   "outputs": [],
   "source": [
    "## Generate histogram\n",
    "# solution-begin\n",
    "# Plot size and default text\n",
    "fig = plt.figure(figsize = (10, 10))\n",
    "ax = fig.add_subplot(111)\n",
    "\n",
    "# Plot data\n",
    "plt.hist(\n",
    "    df_data[\"al_percent\"],\n",
    "    bins = 20\n",
    ")\n",
    "# Annotations and limits\n",
    "plt.xlabel(\"Al percent (by weight)\", size = 24)\n",
    "plt.ylabel(\"Count\", size = 24)\n",
    "plt.xlim((70, 100))\n",
    "ax.tick_params(which = \"both\", labelsize = 18)\n",
    "# Save for solution\n",
    "plt.savefig(dir_incl + assignment_prefix + \"q1_target.png\")\n",
    "# solution-end"
   ]
  },
  {
   "cell_type": "markdown",
   "metadata": {},
   "source": [
    "<!-- task-begin -->\n",
    "<img src=\"./incl/04_q1_target.png\">\n",
    "<!-- task-end -->"
   ]
  },
  {
   "cell_type": "markdown",
   "metadata": {},
   "source": [
    "### Q2: What does this histogram tell you?\n",
    "List _at least 3_ observations conclusions about the data you can draw, based on the histogram above.\n",
    "<!-- solution-begin -->\n",
    "* All `Al` percentages are at or above 85%\n",
    "* Many of the alloys tend to be around 93% `Al`, as evidenced by the tallest peak\n",
    "* There is a second mode (peak) of alloys around 97-98% `Al`\n",
    "* There is a fairly long left tail of alloys spread between 85% and 92% `Al`\n",
    "<!-- solution-end -->"
   ]
  },
  {
   "cell_type": "markdown",
   "metadata": {},
   "source": [
    "---\n",
    "\n",
    "Next, we'll study how alloy composition varies across the various Al series."
   ]
  },
  {
   "cell_type": "code",
   "execution_count": null,
   "metadata": {},
   "outputs": [],
   "source": [
    "series = list(range(1, 9))\n",
    "mean_percentages = [np.mean(df_data[df_data.series == s][\"al_percent\"]) for s in series] # List comprehension\n",
    "print(\"Series, Mean Percent\")\n",
    "for ind in range(len(series)):\n",
    "    print(\"     {0:},   {1:2.1f}\".format(series[ind], mean_percentages[ind]))"
   ]
  },
  {
   "cell_type": "markdown",
   "metadata": {},
   "source": [
    "This shows that Series 3 and 6 have the highest `Al` content, on average. However, this does not give us as much information as a full histogram. We could plot histograms for the individual series, as demonstrated below:"
   ]
  },
  {
   "cell_type": "code",
   "execution_count": null,
   "metadata": {},
   "outputs": [],
   "source": [
    "series1_al = df_data[df_data.series == 1][\"al_percent\"]\n",
    "# task-begin\n",
    "# Solution code hidden!\n",
    "# task-end\n",
    "# solution-begin\n",
    "# Plot size and default text\n",
    "fig = plt.figure(figsize = (10, 10))\n",
    "ax = fig.add_subplot(111)\n",
    "\n",
    "# Plot data\n",
    "plt.hist(\n",
    "    series1_al,\n",
    "    bins = 10\n",
    ")\n",
    "# Annotations and limits\n",
    "plt.xlabel(\"Al percent (by weight)\", size = 24)\n",
    "plt.ylabel(\"Count\", size = 24)\n",
    "plt.xlim((70, 100))\n",
    "ax.tick_params(which = \"both\", labelsize = 18)\n",
    "# Save for solution\n",
    "plt.savefig(dir_incl + assignment_prefix + \"series_hist.png\")\n",
    "# solution-end"
   ]
  },
  {
   "cell_type": "markdown",
   "metadata": {},
   "source": [
    "<!-- task-begin -->\n",
    "<img src=\"./incl/04_series_hist.png\">\n",
    "<!-- task-end -->"
   ]
  },
  {
   "cell_type": "markdown",
   "metadata": {},
   "source": [
    "However, it is challenging to compare multiple histograms against each other. Instead, we can use *boxplots* to summarize and plot the various series in the same plot.\n",
    "\n",
    "### Q3: Reproduce This Plot\n",
    "Use `matplotlib` to reproduce the following [boxplots](https://towardsdatascience.com/understanding-boxplots-5e2df7bcbd51) depicting each aluminum series. Use the [documentation](https://matplotlib.org/3.1.1/gallery/statistics/boxplot_demo.html) to help you do so.\n",
    "\n",
    "Hints:\n",
    "* You may re-use lessons you learned from Q1\n",
    "* plt.boxplot() can take a list of different data sets to produce multiple boxplots on the same figure. You can use a *list comprehension* like in `mean_percentages` above to create such a list, and pass it to plt.boxplot()\n",
    "* The `df_data[df_data.series == ind][\"al_percent\"]` pattern above is useful, and may be used in a list comprehension or loop over `ind`."
   ]
  },
  {
   "cell_type": "code",
   "execution_count": null,
   "metadata": {},
   "outputs": [],
   "source": [
    "## Generate boxplot\n",
    "# solution-begin\n",
    "# Plot size and default text\n",
    "fig = plt.figure(figsize = (10, 10))\n",
    "ax = fig.add_subplot(111)\n",
    "\n",
    "# Plot data\n",
    "plt.boxplot(\n",
    "    [df_data[df_data.series == s][\"al_percent\"] for s in series]\n",
    ")\n",
    "# Annotate\n",
    "plt.xlabel(\"Alloy Series\", size = 24)\n",
    "plt.ylabel(\"Al percent\", size = 24)\n",
    "ax.tick_params(which = \"both\", labelsize = 18)\n",
    "# Save for inclusion\n",
    "plt.savefig(dir_incl + assignment_prefix + \"q3_target.png\")\n",
    "# solution-end"
   ]
  },
  {
   "cell_type": "markdown",
   "metadata": {},
   "source": [
    "<!-- task-begin -->\n",
    "<img src=\"./incl/04_q3_target.png\">\n",
    "<!-- task-end -->"
   ]
  },
  {
   "cell_type": "markdown",
   "metadata": {},
   "source": [
    "### Q4: What does this plot tell you?\n",
    "List _at least 3_ observations conclusions about the data you can draw, based on the boxplots above.\n",
    "<!-- solution-begin -->\n",
    "* Series 1 is supposed to be *pure* aluminum, but the data here suggest otherwise. Perhaps some of the alloy designations are incorrect?\n",
    "* Series 3 and 6 are indeed the most pure in `Al`, though some instances of Series 5 have higher `Al` content\n",
    "* Series 4 and 8 are highly variable in `Al` content\n",
    "* Series 2 has a (relatively) large number of outliers (shown as dots)\n",
    "<!-- solution-end -->"
   ]
  },
  {
   "cell_type": "markdown",
   "metadata": {},
   "source": [
    "---\n",
    "\n",
    "Studying *all* the variables at once is difficult, as we cannot directly visualize 26-dimensional space! Instead, we will use [t-SNE](https://lvdmaaten.github.io/tsne/) to *reduce dimensionality* while preserving low-dimensional structure, in this case clusters of data."
   ]
  },
  {
   "cell_type": "code",
   "execution_count": null,
   "metadata": {},
   "outputs": [],
   "source": [
    "X_series = df_data[\"series\"]\n",
    "## Reduce dimensionality\n",
    "X_orig = df_data.drop([\"alloy\", \"al_percent\", \"series\"], axis = 1).values\n",
    "np.random.seed(101) # t-SNE is a random algorithm; set seed for reproducibility\n",
    "X_tsne = TSNE(\n",
    "    n_components = 2\n",
    ").fit_transform(X_orig)\n",
    "\n",
    "print(X_orig.shape)\n",
    "print(X_tsne.shape)"
   ]
  },
  {
   "cell_type": "markdown",
   "metadata": {},
   "source": [
    "We can see the modified data `X_tsne` has just two variables, but the same number of observations as `X_orig`. We can use these two coordinates to plot the data and look for patterns."
   ]
  },
  {
   "cell_type": "markdown",
   "metadata": {},
   "source": [
    "### Q5: Reproduce This Plot\n",
    "Use `matplotlib` to reproduce the following scatterplot on the two t-SNE coordinates in `X_tsne`. The easiest way is probably by using `plt.scatter()`, which is documented [here](https://matplotlib.org/3.1.1/gallery/shapes_and_collections/scatter.html).\n",
    "\n",
    "Hints:\n",
    "* You may re-use lessons you learned from Q1 and Q2\n",
    "* You will need to introduce a colormap to mark the alloys from different series. [This tutorial](https://gist.github.com/jakevdp/8a992f606899ac24b711) may be helpful\n",
    "* I use the colormap `viridis` below; it is a [perceptually uniform](http://bids.github.io/colormap/) colorscale that avoids introducing erroneous patterns in visualizations"
   ]
  },
  {
   "cell_type": "code",
   "execution_count": null,
   "metadata": {},
   "outputs": [],
   "source": [
    "## Generate scatterplot\n",
    "# solution-begin\n",
    "# Format for color names\n",
    "# Plot size and default text\n",
    "fig = plt.figure(figsize = (10, 10))\n",
    "ax = fig.add_subplot(111)\n",
    "\n",
    "# Plot data\n",
    "plt.scatter(\n",
    "    X_tsne[:, 0],\n",
    "    X_tsne[:, 1],\n",
    "    c = X_series,\n",
    "    cmap = plt.cm.get_cmap('viridis', 7)\n",
    ")\n",
    "# Annotate\n",
    "plt.xlabel(\"t-SNE Coord 1\", size = 24)\n",
    "plt.ylabel(\"t-SNE Coord 2\", size = 24)\n",
    "plt.colorbar(ticks = range(len(series)))\n",
    "plt.clim(0.5, 7.5) # Center\n",
    "ax.tick_params(which = \"both\", labelsize = 18)\n",
    "# Save for inclusion\n",
    "plt.savefig(dir_incl + assignment_prefix + \"q5_target.png\")\n",
    "# solution-end"
   ]
  },
  {
   "cell_type": "markdown",
   "metadata": {},
   "source": [
    "<!-- task-begin -->\n",
    "<img src=\"./incl/04_q5_target.png\">\n",
    "<!-- task-end -->"
   ]
  },
  {
   "cell_type": "markdown",
   "metadata": {},
   "source": [
    "### Q6: What does this plot tell you?\n",
    "List _at least 3_ observations conclusions about the data you can draw, based on the t-SNE scatterplot above.\n",
    "<!-- solution-begin -->\n",
    "* The compositional clusters do not perfectly align with the alloy Series\n",
    "* There is a cluster of 7000 Series alloys that are more similar to each other, than to other alloys\n",
    "* All 6000 Series alloys cluster together, though they also cluster with other alloys from different series\n",
    "<!-- solution-end -->"
   ]
  }
 ],
 "metadata": {
  "kernelspec": {
   "display_name": "Python 3",
   "language": "python",
   "name": "python3"
  },
  "language_info": {
   "codemirror_mode": {
    "name": "ipython",
    "version": 3
   },
   "file_extension": ".py",
   "mimetype": "text/x-python",
   "name": "python",
   "nbconvert_exporter": "python",
   "pygments_lexer": "ipython3",
   "version": "3.7.3"
  }
 },
 "nbformat": 4,
 "nbformat_minor": 4
}
