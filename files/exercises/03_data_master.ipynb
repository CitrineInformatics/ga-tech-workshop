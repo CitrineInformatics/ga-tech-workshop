{
 "cells": [
  {
   "cell_type": "markdown",
   "metadata": {},
   "source": [
    "![Banner logo](https://raw.githubusercontent.com/CitrineInformatics/community-tools/master/templates/fig/citrine_banner_2.png \"Banner logo\")"
   ]
  },
  {
   "cell_type": "markdown",
   "metadata": {},
   "source": [
    "## Programmatic Data Operations\n",
    "\n",
    "*Authors: Zach del Rosario (zdelrosario@citrine.io)*"
   ]
  },
  {
   "cell_type": "markdown",
   "metadata": {},
   "source": [
    "The purpose of this exercise is to give you some tools to work with data *programmatically*; that is, using a programming language. While you can carry out many data operations by hand or with spreadsheet programs, you will see that doing things programmatically is extremely powerful. \n",
    "\n",
    "### Learning Outcomes\n",
    "By working through this notebook, you will be able to:\n",
    "\n",
    "- Build self-sufficiency by consulting documentation to learn new programming concepts\n",
    "- Initialize the Citrination application programming interface (API) and obtain data\n",
    "- Inspect Python objects with `dir()`\n",
    "- Learn some basics of *data wrangling*\n",
    "- Use DataFrame operations in the Python package `pandas`\n",
    "<!-- solution-begin -->\n",
    "- Learn the basics of *featurization* to support training machine learning models (Not sure this one will make the cut -- ZDR)\n",
    "<!-- solution-end -->\n",
    "\n",
    "(Note: This is a *scavenger hunt*! You will have to follow the links below to finish these examples.)"
   ]
  },
  {
   "cell_type": "markdown",
   "metadata": {},
   "source": [
    "### Q1: Setting up the Citrination client\n",
    "Using the [learn-citrination](https://github.com/CitrineInformatics/learn-citrination/blob/master/citrination_api_examples/clients_sequence/1_data_client_api_tutorial.ipynb) workbook as an example, set up the citrination client below."
   ]
  },
  {
   "cell_type": "code",
   "execution_count": null,
   "metadata": {},
   "outputs": [],
   "source": [
    "## Import some relevant packages\n",
    "import os\n",
    "# Scientific computation\n",
    "import numpy as np\n",
    "import pandas as pd\n",
    "\n",
    "# Workshop-specific tools\n",
    "from workshop_utils import pifs2df, ddir, getAPIKey\n",
    "\n",
    "# Third-party packages\n",
    "from citrination_client import CitrinationClient\n",
    "from citrination_client import PifSystemReturningQuery, PifSystemQuery\n",
    "from citrination_client import DataQuery, DatasetQuery, DatasetReturningQuery, ChemicalFieldQuery\n",
    "from citrination_client import PropertyQuery, FieldQuery\n",
    "from citrination_client import ChemicalFilter, Filter\n",
    "\n",
    "## TASK: Initialize the client below...\n",
    "## You will need to provide `client` as a python object\n",
    "# solution-begin\n",
    "site = \"https://citrination.com\" # site you want to access; we'll use the public site\n",
    "api_key = getAPIKey()            # Load your API key\n",
    "client = CitrinationClient(\n",
    "    api_key = api_key, \n",
    "    site = site\n",
    ")\n",
    "# solution-end"
   ]
  },
  {
   "cell_type": "markdown",
   "metadata": {},
   "source": [
    "### Q2: Obtaining a known dataset \n",
    "Search [citrination datasets](https://citrination.com/datasets) for the \"Agrawal IMMI\" dataset, find its `ID`, and load the data into memory. "
   ]
  },
  {
   "cell_type": "code",
   "execution_count": null,
   "metadata": {},
   "outputs": [],
   "source": [
    "# task-begin\n",
    "dataset_id = 1      # TASK: Identify the proper dataset id, use this below\n",
    "# task-end\n",
    "# solution-begin\n",
    "dataset_id = 150670 \n",
    "# solution-end\n",
    "search_client = client.search\n",
    "query_agrawal = \\\n",
    "    PifSystemReturningQuery(\n",
    "        size=500, \n",
    "        query=DataQuery(\n",
    "            dataset=DatasetQuery(\n",
    "                id=Filter(equal=str(dataset_id))\n",
    "            )\n",
    "        )\n",
    "    )\n",
    "\n",
    "## Perform checks\n",
    "query_result = search_client.pif_search(query_agrawal)\n",
    "print(\"Found {} PIFs in dataset.\".format(query_result.total_num_hits, dataset_id))\n",
    "print(\"(Should be 437 PIFs)\")"
   ]
  },
  {
   "cell_type": "markdown",
   "metadata": {},
   "source": [
    "Citrination stores data in [physical information files](http://citrineinformatics.github.io/pif-documentation/) (PIFs). \n",
    " \n",
    "### Reading a query result \n",
    "(Turn the PIFs above into rectangular data)"
   ]
  },
  {
   "cell_type": "code",
   "execution_count": null,
   "metadata": {},
   "outputs": [],
   "source": [
    "# query_result has a few useful attributes\n",
    "dir(query_result)"
   ]
  },
  {
   "cell_type": "code",
   "execution_count": null,
   "metadata": {},
   "outputs": [],
   "source": [
    "# The __stuff__ attributes are python built-ins; the other\n",
    "# other attributes are features provided by the object.\n",
    "# total_num_hits was used above to count the number of search hits\n",
    "# hits gives the content of the query hits\n",
    "query_result.hits[:5]"
   ]
  },
  {
   "cell_type": "code",
   "execution_count": null,
   "metadata": {},
   "outputs": [],
   "source": [
    "# The query hits are themselves objects; we'll need to access *their* attributes as well\n",
    "ddir(query_result.hits[0]) # Helper function filters names with \"_\" prefix"
   ]
  },
  {
   "cell_type": "markdown",
   "metadata": {},
   "source": [
    "### Q3: Extract the PIFs\n",
    "Complete the following code by *extracting* the PIFs from the `query_result`. You will need to use a loop or list comprehension."
   ]
  },
  {
   "cell_type": "code",
   "execution_count": null,
   "metadata": {},
   "outputs": [],
   "source": [
    "# It's not at all obvious from the name, but the `system` attribute returns the actual PIF\n",
    "query_result.hits[0].system\n",
    "\n",
    "## TASK: Build a list of list of all the PIF's in query_result, and store it in `pifs`\n",
    "# task-begin\n",
    "pifs = []\n",
    "# task-end\n",
    "# solution-begin\n",
    "pifs = [x.system for x in query_result.hits]\n",
    "# solution-end\n",
    "# Utility function will tabularize PIFs into a plot-able form\n",
    "df_data = pifs2df(pifs)\n",
    "df_data.head(5)"
   ]
  },
  {
   "cell_type": "markdown",
   "metadata": {},
   "source": [
    "## DataFrames"
   ]
  },
  {
   "cell_type": "markdown",
   "metadata": {},
   "source": [
    "A `DataFrame` is a data structure provided by Pandas. In contrast with `lists` (which we saw in the previous exercise), DataFrames are explicitly designed to facilitate data analysis. Accordingly, they provide a number of helpful features that aid in data analysis and operations.\n",
    "\n",
    "A `DataFrame` is a *rectangular* representation of data -- it consists of rows and columns. Each *row* represents an *observation* -- a single instance of data. Each *column* represents a *variable* -- a particular attribute of the observation. For instance, we have loaded some alloy data into the DataFrame `df_data` -- here each row is an alloy, and each column is some physical property of that alloy.\n",
    "\n",
    "Below, we will use pandas functions to study the alloy data using DataFrame operations."
   ]
  },
  {
   "cell_type": "markdown",
   "metadata": {},
   "source": [
    "### Q4: Inspecting a DataFrame\n",
    "Consult the [pandas documentation](https://pandas.pydata.org/pandas-docs/stable/getting_started/10min.html) (it might be useful to use a page search) and use some basic calls on `df_data` to answer the following questions:\n",
    "\n",
    "- What are the *last* five observations in the DataFrame?\n",
    "- How many rows are in `df_data`? How many columns?\n",
    "- How can you select the column \"Normalizing Temperature\"?\n",
    "- How can you select the columns \"Normalizing Temperature\" and \"Fatigue Strength\"?"
   ]
  },
  {
   "cell_type": "code",
   "execution_count": null,
   "metadata": {},
   "outputs": [],
   "source": [
    "## Task: Show last five observations of df_data\n",
    "# solution-begin\n",
    "df_data.tail(5)\n",
    "# solution-end"
   ]
  },
  {
   "cell_type": "code",
   "execution_count": null,
   "metadata": {},
   "outputs": [],
   "source": [
    "## Task: Determine the number of rows and columns in df_data\n",
    "# solution-begin\n",
    "df_data.shape # rows, columns\n",
    "# solution-end"
   ]
  },
  {
   "cell_type": "code",
   "execution_count": null,
   "metadata": {},
   "outputs": [],
   "source": [
    "## Task: Select the column \"Normalizing Temperature\"\n",
    "# solution-begin\n",
    "df_data[[\"Normalizing Temperature\"]].head()\n",
    "# solution-end"
   ]
  },
  {
   "cell_type": "code",
   "execution_count": null,
   "metadata": {},
   "outputs": [],
   "source": [
    "## Task: Select the columns \"Normalizing Temperature\" and \"Fatigue Strength\"\n",
    "# solution-begin\n",
    "df_data[[\"Normalizing Temperature\", \"Fatigue Strength\"]].head()\n",
    "# solution-end"
   ]
  },
  {
   "cell_type": "markdown",
   "metadata": {},
   "source": [
    "These manipulations are simple, but they are bread-and-butter for studying new datasets."
   ]
  },
  {
   "cell_type": "markdown",
   "metadata": {},
   "source": [
    "## Wrangling Data\n",
    "[Hadley Wickham](http://hadley.nz/) -- author of the `tidyverse` and data science superstar -- notes that \"wrangling data is 80% boredom and 20% screaming\". To give you a sense of why this stuff is hard (but hopefully avoid the screaming), I'm leaving one of the wrangling steps in the workflow here:"
   ]
  },
  {
   "cell_type": "markdown",
   "metadata": {},
   "source": [
    "It's not obvious from the exercises above, but *there's an issue with these data*."
   ]
  },
  {
   "cell_type": "code",
   "execution_count": null,
   "metadata": {},
   "outputs": [],
   "source": [
    "df_data.dtypes"
   ]
  },
  {
   "cell_type": "markdown",
   "metadata": {},
   "source": [
    "All of the entries are objects, not numbers! We'll need to convert these to numeric values. The following slightly-mysterious call will cast every column of `df_data` to a numeric type and modify the DataFrame."
   ]
  },
  {
   "cell_type": "code",
   "execution_count": null,
   "metadata": {},
   "outputs": [],
   "source": [
    "df_data = df_data.apply(pd.to_numeric)"
   ]
  },
  {
   "cell_type": "markdown",
   "metadata": {},
   "source": [
    "Let's check the data types again:"
   ]
  },
  {
   "cell_type": "code",
   "execution_count": null,
   "metadata": {},
   "outputs": [],
   "source": [
    "df_data.dtypes"
   ]
  },
  {
   "cell_type": "markdown",
   "metadata": {},
   "source": [
    "These are numbers we can work with!"
   ]
  },
  {
   "cell_type": "markdown",
   "metadata": {},
   "source": [
    "## Basic DataFrame Operations"
   ]
  },
  {
   "cell_type": "markdown",
   "metadata": {},
   "source": [
    "With the numerical issues above sorted out, we can carry out *quantitative* operations on the dataframe. One useful thing we can do is compute a set of *summaries* on the data using `describe()`."
   ]
  },
  {
   "cell_type": "code",
   "execution_count": null,
   "metadata": {},
   "outputs": [],
   "source": [
    "df_data.describe()"
   ]
  },
  {
   "cell_type": "markdown",
   "metadata": {},
   "source": [
    "These summaries include things like the `mean` and standard deviation (`std`), as well as quartiles of the data. These give us a sense of *typical* values; for instance, we can see that a large fraction of observations have a zero-\"Diffusion time\", but at least one observation has a value `> 70`."
   ]
  },
  {
   "cell_type": "markdown",
   "metadata": {},
   "source": [
    "### Special indexing\n",
    "One of the most powerful features of pandas is the ability to do *logical indexing*; we may provide an array of `True` or `False` values to select only those rows with `True` values. For instance, we could do the following to select the third row."
   ]
  },
  {
   "cell_type": "code",
   "execution_count": null,
   "metadata": {},
   "outputs": [],
   "source": [
    "idx_boolean = [False] * df_data.shape[0] # Mostly-false array\n",
    "idx_boolean[2] = True # Make the third entry True\n",
    "df_data[idx_boolean]"
   ]
  },
  {
   "cell_type": "markdown",
   "metadata": {},
   "source": [
    "Where this kind of *logical indexing* becomes helpful is when we chain this with the conditionals we learned in the previous exercise. For instance, we could use logic *using one of the columns* to effectively \"filter\" for variables that meet some condition. For instance, the following will filter for nonzero \"Carburization Time\"."
   ]
  },
  {
   "cell_type": "code",
   "execution_count": null,
   "metadata": {},
   "outputs": [],
   "source": [
    "df_data[df_data[\"Carburization Time\"] > 0].head()"
   ]
  },
  {
   "cell_type": "markdown",
   "metadata": {},
   "source": [
    "### Q5: Basic data operations\n",
    "Once more, use the [pandas documentation](https://pandas.pydata.org/pandas-docs/stable/getting_started/10min.html) to learn how to do the following tasks:\n",
    "\n",
    "- Select only those rows for which \"Diffusion time\" is greater than 70\n",
    "- Sort df_data in descending order by \"Fatigue Strength\" and return the top 10\n",
    "- Take the average of \"Normalizing Temperature\" and \"Tempering Temperature\" and add the column \"avg_temp\" (You may need to Google how to do this one!)"
   ]
  },
  {
   "cell_type": "code",
   "execution_count": null,
   "metadata": {},
   "outputs": [],
   "source": [
    "## TASK: Select rows for which \"Diffusion time\" > 70\n",
    "# solution-begin\n",
    "df_data[df_data[\"Diffusion time\"] > 70]\n",
    "# solution-end"
   ]
  },
  {
   "cell_type": "code",
   "execution_count": null,
   "metadata": {},
   "outputs": [],
   "source": [
    "## TASK: Sort by \"Fatigue Strength\" in descending order, take the top-10\n",
    "# solution-begin\n",
    "df_data.sort_values(by = \"Fatigue Strength\", ascending = False).head(10)\n",
    "# solution-end"
   ]
  },
  {
   "cell_type": "code",
   "execution_count": null,
   "metadata": {},
   "outputs": [],
   "source": [
    "## TASK: Average \"Normalizing Temperature\" and \"Tempering Temperature\" into the column \"avg_tmp\", return the head\n",
    "# solution-begin\n",
    "df_data.assign(avg_tmp = 0.5 * (df_data[\"Normalizing Temperature\"] + df_data[\"Tempering Temperature\"])).head()\n",
    "# solution-end"
   ]
  }
 ],
 "metadata": {
  "kernelspec": {
   "display_name": "Python 3",
   "language": "python",
   "name": "python3"
  },
  "language_info": {
   "codemirror_mode": {
    "name": "ipython",
    "version": 3
   },
   "file_extension": ".py",
   "mimetype": "text/x-python",
   "name": "python",
   "nbconvert_exporter": "python",
   "pygments_lexer": "ipython3",
   "version": "3.7.3"
  }
 },
 "nbformat": 4,
 "nbformat_minor": 4
}
