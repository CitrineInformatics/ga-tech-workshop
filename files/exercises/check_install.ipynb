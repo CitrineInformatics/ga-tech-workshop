{
 "cells": [
  {
   "cell_type": "markdown",
   "metadata": {},
   "source": [
    "# Check Workshop Setup"
   ]
  },
  {
   "cell_type": "markdown",
   "metadata": {},
   "source": [
    "The following notebook will check your installation. If you can run every chunk in this notebook and __successfully load__ all the necessary libraries, then you will have successfully installed all the requirements for the workshop.\n",
    "\n",
    "Click on \"Run > Run All Cells\" to execute this notebook. Each chunk will either report success, or give you instructions on how to remedy the situation."
   ]
  },
  {
   "cell_type": "markdown",
   "metadata": {},
   "source": [
    "## Standard python install"
   ]
  },
  {
   "cell_type": "code",
   "execution_count": 1,
   "metadata": {},
   "outputs": [
    {
     "name": "stdout",
     "output_type": "stream",
     "text": [
      "Standard libraries successfully imported.\n"
     ]
    }
   ],
   "source": [
    "## Standard Anaconda installation\n",
    "try:\n",
    "    import numpy as np\n",
    "    import scipy as sp\n",
    "    import pandas as pd\n",
    "    import sklearn\n",
    "    import matplotlib.pyplot as plt\n",
    "    import os\n",
    "    print(\"Standard libraries successfully imported.\")\n",
    "except:\n",
    "    print(\"Standard library import failed; please check your Anaconda install.\")"
   ]
  },
  {
   "cell_type": "markdown",
   "metadata": {},
   "source": [
    "## Citrine tools"
   ]
  },
  {
   "cell_type": "code",
   "execution_count": 2,
   "metadata": {},
   "outputs": [
    {
     "name": "stdout",
     "output_type": "stream",
     "text": [
      "Citrination client successfully imported.\n",
      "PIF SDK successfully imported.\n"
     ]
    }
   ],
   "source": [
    "## Citrine toolkit\n",
    "try:\n",
    "    import citrination_client\n",
    "    print(\"Citrination client successfully imported.\")\n",
    "except:\n",
    "    print(\"Cannot import citrination_client\")\n",
    "    print(\"Remedy: Execute\")\n",
    "    print(\"> pip install citrination-client\")\n",
    "    \n",
    "try:\n",
    "    import pypif_sdk\n",
    "    print(\"PIF SDK successfully imported.\")\n",
    "except:\n",
    "    print(\"Cannot import pypif_sdk\")\n",
    "    print(\"Remedy: Execute\")\n",
    "    print(\"> pip install pypif_sdk\")"
   ]
  },
  {
   "cell_type": "markdown",
   "metadata": {},
   "source": [
    "## Third-party tools (Optional)"
   ]
  },
  {
   "cell_type": "code",
   "execution_count": 2,
   "metadata": {},
   "outputs": [
    {
     "name": "stdout",
     "output_type": "stream",
     "text": [
      "matminer successfully imported.\n",
      "pymatgen successfully imported.\n"
     ]
    }
   ],
   "source": [
    "## Third-party toolkit (Optional)\n",
    "try:\n",
    "    import matminer\n",
    "    print(\"matminer successfully imported.\")\n",
    "except:\n",
    "    print(\"Cannot import matminer\")\n",
    "    print(\"Remedy: Execute\")\n",
    "    print(\"> pip install matminer\")\n",
    "    \n",
    "try:\n",
    "    import pymatgen\n",
    "    print(\"pymatgen successfully imported.\")\n",
    "except:\n",
    "    print(\"Cannot import pymatgen\")\n",
    "    print(\"Remedy: Execute\")\n",
    "    print(\"> pip install pymatgen\")"
   ]
  },
  {
   "cell_type": "markdown",
   "metadata": {},
   "source": [
    "## Workshop utilities"
   ]
  },
  {
   "cell_type": "code",
   "execution_count": 4,
   "metadata": {},
   "outputs": [
    {
     "name": "stdout",
     "output_type": "stream",
     "text": [
      "Workshop utility functions successfully imported.\n"
     ]
    }
   ],
   "source": [
    "## Workshop utilities\n",
    "try:\n",
    "    import workshop_utils\n",
    "    print(\"Workshop utility functions successfully imported.\")\n",
    "except:\n",
    "    print(\"Cannot import workshop utilities\")\n",
    "    print(\"Remedy: Ensure `workshop_utils.py` is located in current directory.\")"
   ]
  },
  {
   "cell_type": "markdown",
   "metadata": {},
   "source": [
    "## API Key"
   ]
  },
  {
   "cell_type": "code",
   "execution_count": 5,
   "metadata": {},
   "outputs": [
    {
     "name": "stdout",
     "output_type": "stream",
     "text": [
      "CITRINATION_API_KEY is a proper environment variable.\n"
     ]
    }
   ],
   "source": [
    "env_key_name = \"CITRINATION_API_KEY\" # change it if you gave the environment variable a different name\n",
    "try:\n",
    "    api_key = os.environ.get(env_key_name)\n",
    "    assert api_key is not None, 'The key name you specified does not exist!'\n",
    "    assert len(api_key) == 24, 'The API key is incorrect. Please confirm the key and make sure leading/trailing spaces are removed.'\n",
    "    print('{} is a proper environment variable.'.format(env_key_name))\n",
    "    #print('It corresponds to the following API key: {}'.format(api_key))\n",
    "except KeyError:\n",
    "    print(\"It looks like you do not have your API key set as an enviroment variable.\\nPlease double check your procedure.\")"
   ]
  }
 ],
 "metadata": {
  "kernelspec": {
   "display_name": "Python 3",
   "language": "python",
   "name": "python3"
  },
  "language_info": {
   "codemirror_mode": {
    "name": "ipython",
    "version": 3
   },
   "file_extension": ".py",
   "mimetype": "text/x-python",
   "name": "python",
   "nbconvert_exporter": "python",
   "pygments_lexer": "ipython3",
   "version": "3.7.3"
  }
 },
 "nbformat": 4,
 "nbformat_minor": 4
}
