{
 "cells": [
  {
   "cell_type": "markdown",
   "metadata": {},
   "source": [
    "# Check Workshop Setup"
   ]
  },
  {
   "cell_type": "markdown",
   "metadata": {},
   "source": [
    "The following notebook will check your installation. If you can run every chunk in this notebook and __successfully load__ all the necessary libraries, then you will have successfully installed all the requirements for the workshop.\n",
    "\n",
    "Click on \"Run > Run All Cells\" to execute this notebook. Each chunk will either report success, or give you instructions on how to remedy the situation."
   ]
  },
  {
   "cell_type": "code",
   "execution_count": 7,
   "metadata": {},
   "outputs": [
    {
     "name": "stdout",
     "output_type": "stream",
     "text": [
      "Standard libraries successfully imported....\n"
     ]
    }
   ],
   "source": [
    "## Standard Anaconda installation\n",
    "try:\n",
    "    import numpy as np\n",
    "    import scipy as sp\n",
    "    import pandas as pd\n",
    "    import sklearn\n",
    "    import matplotlib.pyplot as plt\n",
    "    print(\"Standard libraries successfully imported....\")\n",
    "except:\n",
    "    print(\"Standard library import failed; please check your Anaconda install.\")"
   ]
  },
  {
   "cell_type": "code",
   "execution_count": 8,
   "metadata": {},
   "outputs": [
    {
     "name": "stdout",
     "output_type": "stream",
     "text": [
      "Citrination client successfully imported....\n",
      "PIF SDK successfully imported....\n"
     ]
    }
   ],
   "source": [
    "## Citrine toolkit\n",
    "try:\n",
    "    import citrination_client\n",
    "    print(\"Citrination client successfully imported....\")\n",
    "except:\n",
    "    print(\"Cannot import citrination_client\")\n",
    "    print(\"Remedy: Execute\")\n",
    "    print(\"> pip install citrination-client\")\n",
    "    \n",
    "try:\n",
    "    import pypif_sdk\n",
    "    print(\"PIF SDK successfully imported....\")\n",
    "except:\n",
    "    print(\"Cannot import pypif_sdk\")\n",
    "    print(\"Remedy: Execute\")\n",
    "    print(\"> pip install pypif_sdk\")"
   ]
  },
  {
   "cell_type": "code",
   "execution_count": 9,
   "metadata": {},
   "outputs": [
    {
     "name": "stdout",
     "output_type": "stream",
     "text": [
      "matminer successfully imported....\n"
     ]
    }
   ],
   "source": [
    "## Third-party toolkit\n",
    "try:\n",
    "    import matminer\n",
    "    print(\"matminer successfully imported....\")\n",
    "except:\n",
    "    print(\"Cannot import matminer\")\n",
    "    print(\"Remedy: Execute\")\n",
    "    print(\"> pip install matminer\")"
   ]
  },
  {
   "cell_type": "code",
   "execution_count": 10,
   "metadata": {},
   "outputs": [
    {
     "name": "stdout",
     "output_type": "stream",
     "text": [
      "Workshop utility functions successfully imported....\n"
     ]
    }
   ],
   "source": [
    "## Workshop utilities\n",
    "try:\n",
    "    import workshop_utils\n",
    "    print(\"Workshop utility functions successfully imported....\")\n",
    "except:\n",
    "    print(\"Cannot import workshop utilities\")\n",
    "    print(\"Remedy: Ensure `workshop_utils.py` is located in current directory.\")"
   ]
  }
 ],
 "metadata": {
  "kernelspec": {
   "display_name": "Python 3",
   "language": "python",
   "name": "python3"
  },
  "language_info": {
   "codemirror_mode": {
    "name": "ipython",
    "version": 3
   },
   "file_extension": ".py",
   "mimetype": "text/x-python",
   "name": "python",
   "nbconvert_exporter": "python",
   "pygments_lexer": "ipython3",
   "version": "3.7.3"
  }
 },
 "nbformat": 4,
 "nbformat_minor": 4
}
